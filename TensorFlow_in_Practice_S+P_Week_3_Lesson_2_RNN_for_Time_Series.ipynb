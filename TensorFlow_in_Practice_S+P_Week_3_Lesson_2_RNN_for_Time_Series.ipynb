{
  "nbformat": 4,
  "nbformat_minor": 0,
  "metadata": {
    "colab": {
      "name": "deeplearning.ai - TensorFlow in Practice S+P - Week 3 - Lesson 2 - RNN for Time Series.ipynb",
      "provenance": [],
      "collapsed_sections": [],
      "include_colab_link": true
    },
    "kernelspec": {
      "name": "python3",
      "display_name": "Python 3"
    },
    "accelerator": "GPU"
  },
  "cells": [
    {
      "cell_type": "markdown",
      "metadata": {
        "id": "view-in-github",
        "colab_type": "text"
      },
      "source": [
        "<a href=\"https://colab.research.google.com/github/mikful/dlai-tf-in-practice/blob/master/TensorFlow_in_Practice_S%2BP_Week_3_Lesson_2_RNN_for_Time_Series.ipynb\" target=\"_parent\"><img src=\"https://colab.research.google.com/assets/colab-badge.svg\" alt=\"Open In Colab\"/></a>"
      ]
    },
    {
      "cell_type": "code",
      "metadata": {
        "id": "BOjujz601HcS",
        "colab_type": "code",
        "colab": {
          "base_uri": "https://localhost:8080/",
          "height": 51
        },
        "outputId": "f2c9f93b-6863-4fc7-d579-9cb62edd4dbe"
      },
      "source": [
        "%tensorflow_version 2.x\n",
        "import tensorflow as tf\n",
        "import numpy as np\n",
        "import matplotlib.pyplot as plt\n",
        "print(tf.__version__)"
      ],
      "execution_count": 1,
      "outputs": [
        {
          "output_type": "stream",
          "text": [
            "TensorFlow 2.x selected.\n",
            "2.1.0\n"
          ],
          "name": "stdout"
        }
      ]
    },
    {
      "cell_type": "code",
      "metadata": {
        "colab_type": "code",
        "id": "Zswl7jRtGzkk",
        "colab": {}
      },
      "source": [
        "# Setup the data series and constants\n",
        "\n",
        "def plot_series(time, series, format=\"-\", start=0, end=None):\n",
        "    plt.plot(time[start:end], series[start:end], format)\n",
        "    plt.xlabel(\"Time\")\n",
        "    plt.ylabel(\"Value\")\n",
        "    plt.grid(True)\n",
        "\n",
        "def trend(time, slope=0):\n",
        "    return slope * time\n",
        "\n",
        "def seasonal_pattern(season_time):\n",
        "    \"\"\"Just an arbitrary pattern, you can change it if you wish\"\"\"\n",
        "    return np.where(season_time < 0.4,\n",
        "                    np.cos(season_time * 2 * np.pi),\n",
        "                    1 / np.exp(3 * season_time))\n",
        "\n",
        "def seasonality(time, period, amplitude=1, phase=0):\n",
        "    \"\"\"Repeats the same pattern at each period\"\"\"\n",
        "    season_time = ((time + phase) % period) / period\n",
        "    return amplitude * seasonal_pattern(season_time)\n",
        "\n",
        "def noise(time, noise_level=1, seed=None):\n",
        "    rnd = np.random.RandomState(seed)\n",
        "    return rnd.randn(len(time)) * noise_level\n",
        "\n",
        "time = np.arange(4 * 365 + 1, dtype=\"float32\")\n",
        "baseline = 10\n",
        "series = trend(time, 0.1)  \n",
        "baseline = 10\n",
        "amplitude = 40\n",
        "slope = 0.05\n",
        "noise_level = 5\n",
        "\n",
        "# Create the series\n",
        "series = baseline + trend(time, slope) + seasonality(time, period=365, amplitude=amplitude)\n",
        "# Update with noise\n",
        "series += noise(time, noise_level, seed=42)\n",
        "\n",
        "# Split data at the split_time for train/valid sets\n",
        "split_time = 1000\n",
        "time_train = time[:split_time]\n",
        "x_train = series[:split_time]\n",
        "time_valid = time[split_time:]\n",
        "x_valid = series[split_time:]\n",
        "\n",
        "# Setup constants for the Single layer NN\n",
        "window_size = 20\n",
        "batch_size = 32\n",
        "shuffle_buffer_size = 1000"
      ],
      "execution_count": 0,
      "outputs": []
    },
    {
      "cell_type": "code",
      "metadata": {
        "id": "4sTTIOCbyShY",
        "colab_type": "code",
        "colab": {}
      },
      "source": [
        "# Function to create a windowed dataset\n",
        "# Takes in a data series, window size and batch size and shuffle and creates a windowed dataset\n",
        "\n",
        "def windowed_dataset(series, window_size, batch_size, shuffle_buffer):\n",
        "  dataset = tf.data.Dataset.from_tensor_slices(series)\n",
        "  dataset = dataset.window(window_size + 1, shift=1, drop_remainder=True)\n",
        "  dataset = dataset.flat_map(lambda window: window.batch(window_size + 1))\n",
        "  dataset = dataset.shuffle(shuffle_buffer).map(lambda window: (window[:-1], window[-1]))\n",
        "  dataset = dataset.batch(batch_size).prefetch(1)\n",
        "  return dataset"
      ],
      "execution_count": 0,
      "outputs": []
    },
    {
      "cell_type": "markdown",
      "metadata": {
        "id": "V82MF2TmBmJU",
        "colab_type": "text"
      },
      "source": [
        "The following is a simple method to find the learning rate, i.e. 100 epochs of training, steadily increasing the learning rate."
      ]
    },
    {
      "cell_type": "code",
      "metadata": {
        "id": "L4nblWkqg1NL",
        "colab_type": "code",
        "colab": {
          "base_uri": "https://localhost:8080/",
          "height": 1000
        },
        "outputId": "5bf4e36c-be1b-4051-8056-122cfa7a874d"
      },
      "source": [
        "# Train for 100 epochs to find best learning rate\n",
        "\n",
        "tf.keras.backend.clear_session()\n",
        "tf.random.set_seed(51)\n",
        "np.random.seed(51)\n",
        "\n",
        "# Create windowed dataset\n",
        "train_set = windowed_dataset(x_train, window_size, batch_size=128, shuffle_buffer=shuffle_buffer_size)\n",
        "\n",
        "# Create Deep NN\n",
        "  # add the required extra input dimension to the timeseries data\n",
        "  # scale the outputs to the same size as the data to aid in training\n",
        "model = tf.keras.models.Sequential([\n",
        "  tf.keras.layers.Lambda(lambda x: tf.expand_dims(x, axis=-1),\n",
        "                      input_shape=[None]),\n",
        "  tf.keras.layers.SimpleRNN(40, return_sequences=True),\n",
        "  tf.keras.layers.SimpleRNN(40),\n",
        "  tf.keras.layers.Dense(1),\n",
        "  tf.keras.layers.Lambda(lambda x: x * 100.0)\n",
        "])\n",
        "\n",
        "# Create learning rate callback - increasing over training \n",
        "lr_schedule = tf.keras.callbacks.LearningRateScheduler(\n",
        "    lambda epoch: 1e-8 * 10**(epoch / 20))\n",
        "\n",
        "# Train model\n",
        "optimizer = tf.keras.optimizers.SGD(lr=1e-8, momentum=0.9)\n",
        "\n",
        "model.compile(loss=tf.keras.losses.Huber(),\n",
        "              optimizer=optimizer,\n",
        "              metrics=[\"mae\"])\n",
        "history = model.fit(train_set, epochs=100, callbacks=[lr_schedule])"
      ],
      "execution_count": 4,
      "outputs": [
        {
          "output_type": "stream",
          "text": [
            "Epoch 1/100\n",
            "8/8 [==============================] - 3s 364ms/step - loss: 195.6116 - mae: 196.0721\n",
            "Epoch 2/100\n",
            "8/8 [==============================] - 0s 38ms/step - loss: 194.9003 - mae: 195.2835\n",
            "Epoch 3/100\n",
            "8/8 [==============================] - 0s 44ms/step - loss: 193.7610 - mae: 194.0106\n",
            "Epoch 4/100\n",
            "8/8 [==============================] - 0s 38ms/step - loss: 191.7774 - mae: 192.4088\n",
            "Epoch 5/100\n",
            "8/8 [==============================] - 0s 41ms/step - loss: 189.9134 - mae: 190.5220\n",
            "Epoch 6/100\n",
            "8/8 [==============================] - 0s 36ms/step - loss: 188.0890 - mae: 188.3527\n",
            "Epoch 7/100\n",
            "8/8 [==============================] - 0s 34ms/step - loss: 185.2864 - mae: 185.8775\n",
            "Epoch 8/100\n",
            "8/8 [==============================] - 0s 38ms/step - loss: 182.3494 - mae: 183.0459\n",
            "Epoch 9/100\n",
            "8/8 [==============================] - 0s 34ms/step - loss: 179.0416 - mae: 179.8092\n",
            "Epoch 10/100\n",
            "8/8 [==============================] - 0s 35ms/step - loss: 175.7152 - mae: 176.0969\n",
            "Epoch 11/100\n",
            "8/8 [==============================] - 0s 37ms/step - loss: 171.2548 - mae: 171.8192\n",
            "Epoch 12/100\n",
            "8/8 [==============================] - 0s 41ms/step - loss: 166.2709 - mae: 166.8562\n",
            "Epoch 13/100\n",
            "8/8 [==============================] - 0s 46ms/step - loss: 160.2673 - mae: 161.0345\n",
            "Epoch 14/100\n",
            "8/8 [==============================] - 0s 44ms/step - loss: 153.6657 - mae: 154.1573\n",
            "Epoch 15/100\n",
            "8/8 [==============================] - 0s 41ms/step - loss: 145.1953 - mae: 145.8015\n",
            "Epoch 16/100\n",
            "8/8 [==============================] - 0s 43ms/step - loss: 134.9017 - mae: 135.5341\n",
            "Epoch 17/100\n",
            "8/8 [==============================] - 0s 40ms/step - loss: 121.7150 - mae: 122.5149\n",
            "Epoch 18/100\n",
            "8/8 [==============================] - 0s 37ms/step - loss: 104.9153 - mae: 105.8233\n",
            "Epoch 19/100\n",
            "8/8 [==============================] - 0s 44ms/step - loss: 83.6615 - mae: 84.5499\n",
            "Epoch 20/100\n",
            "8/8 [==============================] - 0s 35ms/step - loss: 56.9997 - mae: 57.8903\n",
            "Epoch 21/100\n",
            "8/8 [==============================] - 0s 33ms/step - loss: 31.7275 - mae: 32.4903\n",
            "Epoch 22/100\n",
            "8/8 [==============================] - 0s 41ms/step - loss: 23.9812 - mae: 24.4907\n",
            "Epoch 23/100\n",
            "8/8 [==============================] - 0s 41ms/step - loss: 23.1732 - mae: 23.6417\n",
            "Epoch 24/100\n",
            "8/8 [==============================] - 0s 39ms/step - loss: 20.8179 - mae: 21.4012\n",
            "Epoch 25/100\n",
            "8/8 [==============================] - 0s 42ms/step - loss: 16.7879 - mae: 17.2673\n",
            "Epoch 26/100\n",
            "8/8 [==============================] - 0s 44ms/step - loss: 13.6936 - mae: 14.2182\n",
            "Epoch 27/100\n",
            "8/8 [==============================] - 0s 40ms/step - loss: 10.7376 - mae: 11.2559\n",
            "Epoch 28/100\n",
            "8/8 [==============================] - 0s 39ms/step - loss: 8.7110 - mae: 9.1753\n",
            "Epoch 29/100\n",
            "8/8 [==============================] - 0s 35ms/step - loss: 7.9298 - mae: 8.4686\n",
            "Epoch 30/100\n",
            "8/8 [==============================] - 0s 45ms/step - loss: 7.9107 - mae: 8.3768\n",
            "Epoch 31/100\n",
            "8/8 [==============================] - 0s 49ms/step - loss: 7.8072 - mae: 8.3434\n",
            "Epoch 32/100\n",
            "8/8 [==============================] - 0s 36ms/step - loss: 7.7639 - mae: 8.2072\n",
            "Epoch 33/100\n",
            "8/8 [==============================] - 0s 36ms/step - loss: 7.6652 - mae: 8.1244\n",
            "Epoch 34/100\n",
            "8/8 [==============================] - 0s 39ms/step - loss: 7.6357 - mae: 8.1203\n",
            "Epoch 35/100\n",
            "8/8 [==============================] - 0s 41ms/step - loss: 7.5088 - mae: 8.0143\n",
            "Epoch 36/100\n",
            "8/8 [==============================] - 0s 35ms/step - loss: 7.5250 - mae: 7.9604\n",
            "Epoch 37/100\n",
            "8/8 [==============================] - 0s 34ms/step - loss: 7.3223 - mae: 7.8328\n",
            "Epoch 38/100\n",
            "8/8 [==============================] - 0s 38ms/step - loss: 7.3410 - mae: 7.7662\n",
            "Epoch 39/100\n",
            "8/8 [==============================] - 0s 40ms/step - loss: 7.2501 - mae: 7.7087\n",
            "Epoch 40/100\n",
            "8/8 [==============================] - 0s 45ms/step - loss: 7.2489 - mae: 7.6695\n",
            "Epoch 41/100\n",
            "8/8 [==============================] - 0s 39ms/step - loss: 7.2179 - mae: 7.6554\n",
            "Epoch 42/100\n",
            "8/8 [==============================] - 0s 42ms/step - loss: 7.1954 - mae: 7.6855\n",
            "Epoch 43/100\n",
            "8/8 [==============================] - 0s 36ms/step - loss: 7.4123 - mae: 7.9560\n",
            "Epoch 44/100\n",
            "8/8 [==============================] - 0s 37ms/step - loss: 7.0716 - mae: 7.6073\n",
            "Epoch 45/100\n",
            "8/8 [==============================] - 0s 43ms/step - loss: 7.0019 - mae: 7.5198\n",
            "Epoch 46/100\n",
            "8/8 [==============================] - 0s 33ms/step - loss: 6.8861 - mae: 7.3602\n",
            "Epoch 47/100\n",
            "8/8 [==============================] - 0s 38ms/step - loss: 6.9358 - mae: 7.4739\n",
            "Epoch 48/100\n",
            "8/8 [==============================] - 0s 46ms/step - loss: 6.9455 - mae: 7.4515\n",
            "Epoch 49/100\n",
            "8/8 [==============================] - 0s 45ms/step - loss: 8.0230 - mae: 8.4849\n",
            "Epoch 50/100\n",
            "8/8 [==============================] - 0s 53ms/step - loss: 7.4251 - mae: 7.9709\n",
            "Epoch 51/100\n",
            "8/8 [==============================] - 0s 42ms/step - loss: 6.8875 - mae: 7.3529\n",
            "Epoch 52/100\n",
            "8/8 [==============================] - 0s 36ms/step - loss: 6.9115 - mae: 7.3265\n",
            "Epoch 53/100\n",
            "8/8 [==============================] - 0s 38ms/step - loss: 8.1491 - mae: 8.6689\n",
            "Epoch 54/100\n",
            "8/8 [==============================] - 0s 53ms/step - loss: 7.3613 - mae: 7.7812\n",
            "Epoch 55/100\n",
            "8/8 [==============================] - 0s 41ms/step - loss: 7.5365 - mae: 8.0675\n",
            "Epoch 56/100\n",
            "8/8 [==============================] - 0s 34ms/step - loss: 8.8159 - mae: 9.3072\n",
            "Epoch 57/100\n",
            "8/8 [==============================] - 0s 47ms/step - loss: 7.2323 - mae: 7.7392\n",
            "Epoch 58/100\n",
            "8/8 [==============================] - 0s 33ms/step - loss: 7.4456 - mae: 7.9511\n",
            "Epoch 59/100\n",
            "8/8 [==============================] - 0s 32ms/step - loss: 7.3814 - mae: 7.8568\n",
            "Epoch 60/100\n",
            "8/8 [==============================] - 0s 42ms/step - loss: 6.4034 - mae: 6.8959\n",
            "Epoch 61/100\n",
            "8/8 [==============================] - 0s 35ms/step - loss: 6.8331 - mae: 7.2408\n",
            "Epoch 62/100\n",
            "8/8 [==============================] - 0s 34ms/step - loss: 8.4566 - mae: 8.8503\n",
            "Epoch 63/100\n",
            "8/8 [==============================] - 0s 35ms/step - loss: 7.8359 - mae: 8.1873\n",
            "Epoch 64/100\n",
            "8/8 [==============================] - 0s 36ms/step - loss: 6.9710 - mae: 7.4685\n",
            "Epoch 65/100\n",
            "8/8 [==============================] - 0s 35ms/step - loss: 7.4124 - mae: 7.8832\n",
            "Epoch 66/100\n",
            "8/8 [==============================] - 0s 35ms/step - loss: 7.9323 - mae: 8.4962\n",
            "Epoch 67/100\n",
            "8/8 [==============================] - 0s 42ms/step - loss: 6.7580 - mae: 7.2475\n",
            "Epoch 68/100\n",
            "8/8 [==============================] - 0s 36ms/step - loss: 5.6276 - mae: 6.1391\n",
            "Epoch 69/100\n",
            "8/8 [==============================] - 0s 36ms/step - loss: 8.3878 - mae: 8.9961\n",
            "Epoch 70/100\n",
            "8/8 [==============================] - 0s 37ms/step - loss: 19.0378 - mae: 19.8221\n",
            "Epoch 71/100\n",
            "8/8 [==============================] - 0s 38ms/step - loss: 15.8384 - mae: 16.3026\n",
            "Epoch 72/100\n",
            "8/8 [==============================] - 0s 47ms/step - loss: 14.0927 - mae: 14.7652\n",
            "Epoch 73/100\n",
            "8/8 [==============================] - 0s 40ms/step - loss: 9.7230 - mae: 10.3318\n",
            "Epoch 74/100\n",
            "8/8 [==============================] - 0s 37ms/step - loss: 9.9546 - mae: 10.0449\n",
            "Epoch 75/100\n",
            "8/8 [==============================] - 0s 35ms/step - loss: 15.0617 - mae: 15.5655\n",
            "Epoch 76/100\n",
            "8/8 [==============================] - 0s 33ms/step - loss: 11.5016 - mae: 11.9242\n",
            "Epoch 77/100\n",
            "8/8 [==============================] - 0s 38ms/step - loss: 15.8577 - mae: 15.8751\n",
            "Epoch 78/100\n",
            "8/8 [==============================] - 0s 37ms/step - loss: 17.4745 - mae: 18.1246\n",
            "Epoch 79/100\n",
            "8/8 [==============================] - 0s 35ms/step - loss: 16.2499 - mae: 16.5530\n",
            "Epoch 80/100\n",
            "8/8 [==============================] - 0s 36ms/step - loss: 14.9720 - mae: 15.5828\n",
            "Epoch 81/100\n",
            "8/8 [==============================] - 0s 40ms/step - loss: 11.0728 - mae: 11.7488\n",
            "Epoch 82/100\n",
            "8/8 [==============================] - 0s 41ms/step - loss: 14.8037 - mae: 15.2301\n",
            "Epoch 83/100\n",
            "8/8 [==============================] - 0s 46ms/step - loss: 21.9673 - mae: 22.5052\n",
            "Epoch 84/100\n",
            "8/8 [==============================] - 0s 39ms/step - loss: 16.5658 - mae: 17.2753\n",
            "Epoch 85/100\n",
            "8/8 [==============================] - 0s 44ms/step - loss: 14.2527 - mae: 14.9216\n",
            "Epoch 86/100\n",
            "8/8 [==============================] - 0s 40ms/step - loss: 18.8701 - mae: 18.7189\n",
            "Epoch 87/100\n",
            "8/8 [==============================] - 0s 38ms/step - loss: 33.3862 - mae: 33.3754\n",
            "Epoch 88/100\n",
            "8/8 [==============================] - 0s 42ms/step - loss: 27.7637 - mae: 28.5992\n",
            "Epoch 89/100\n",
            "8/8 [==============================] - 0s 33ms/step - loss: 23.8493 - mae: 24.9123\n",
            "Epoch 90/100\n",
            "8/8 [==============================] - 0s 41ms/step - loss: 14.5419 - mae: 15.0968\n",
            "Epoch 91/100\n",
            "8/8 [==============================] - 0s 43ms/step - loss: 31.5512 - mae: 32.7371\n",
            "Epoch 92/100\n",
            "8/8 [==============================] - 0s 33ms/step - loss: 41.4059 - mae: 42.2442\n",
            "Epoch 93/100\n",
            "8/8 [==============================] - 0s 33ms/step - loss: 40.9940 - mae: 42.2753\n",
            "Epoch 94/100\n",
            "8/8 [==============================] - 0s 37ms/step - loss: 40.4147 - mae: 41.5633\n",
            "Epoch 95/100\n",
            "8/8 [==============================] - 0s 41ms/step - loss: 56.8990 - mae: 57.9604\n",
            "Epoch 96/100\n",
            "8/8 [==============================] - 0s 43ms/step - loss: 68.6931 - mae: 70.3398\n",
            "Epoch 97/100\n",
            "8/8 [==============================] - 0s 40ms/step - loss: 41.2624 - mae: 40.6719\n",
            "Epoch 98/100\n",
            "8/8 [==============================] - 0s 37ms/step - loss: 79.5496 - mae: 77.3453\n",
            "Epoch 99/100\n",
            "8/8 [==============================] - 0s 34ms/step - loss: 91.8505 - mae: 95.4191\n",
            "Epoch 100/100\n",
            "8/8 [==============================] - 0s 41ms/step - loss: 39.5629 - mae: 40.3118\n"
          ],
          "name": "stdout"
        }
      ]
    },
    {
      "cell_type": "code",
      "metadata": {
        "id": "5He3pp-Hj758",
        "colab_type": "code",
        "colab": {
          "base_uri": "https://localhost:8080/",
          "height": 290
        },
        "outputId": "d7c7db18-0e06-443c-f0c9-4caf5b903aca"
      },
      "source": [
        "plt.semilogx(history.history[\"lr\"], history.history[\"loss\"])\n",
        "plt.axis([1e-8, 1e-4, 0, 30])"
      ],
      "execution_count": 5,
      "outputs": [
        {
          "output_type": "execute_result",
          "data": {
            "text/plain": [
              "[1e-08, 0.0001, 0, 30]"
            ]
          },
          "metadata": {
            "tags": []
          },
          "execution_count": 5
        },
        {
          "output_type": "display_data",
          "data": {
            "image/png": "[encoded data removed]",
            "text/plain": [
              "<Figure size 432x288 with 1 Axes>"
            ]
          },
          "metadata": {
            "tags": []
          }
        }
      ]
    },
    {
      "cell_type": "code",
      "metadata": {
        "id": "6y1KMowRkHkC",
        "colab_type": "code",
        "colab": {
          "base_uri": "https://localhost:8080/",
          "height": 1000
        },
        "outputId": "495d2efb-955b-47ec-ee3d-8d82bf91d495"
      },
      "source": [
        "# Clear previous values for training\n",
        "import tensorflow_addons as tfa # for Lookahead optimizer\n",
        "\n",
        "tf.keras.backend.clear_session()\n",
        "tf.random.set_seed(51)\n",
        "np.random.seed(51)\n",
        "\n",
        "# create dataset\n",
        "dataset = windowed_dataset(x_train, window_size, batch_size=128, shuffle_buffer=shuffle_buffer_size)\n",
        "\n",
        "# Define model with Lambda functions to:\n",
        "  # add the required extra input dimension to the timeseries data\n",
        "  # scale the outputs to the same size as the data to aid in training\n",
        "model = tf.keras.models.Sequential([\n",
        "  tf.keras.layers.Lambda(lambda x: tf.expand_dims(x, axis=-1),\n",
        "                      input_shape=[None]),\n",
        "  tf.keras.layers.SimpleRNN(40, return_sequences=True),\n",
        "  tf.keras.layers.SimpleRNN(40),\n",
        "  tf.keras.layers.Dense(1),\n",
        "  tf.keras.layers.Lambda(lambda x: x * 100.0)\n",
        "])\n",
        "\n",
        "# Create learning rate callback - decreasing over training \n",
        "# initial value chosen from learning rate finder training above\n",
        "start_lr = 5e-5\n",
        "lr_schedule = tf.keras.callbacks.LearningRateScheduler(\n",
        "    lambda epoch: start_lr * 10**-(epoch / 20))\n",
        "\n",
        "# Train model - compare optimizers: SGD with learning rate schedule vs adam with lookahead\n",
        "# optimizer = tf.keras.optimizers.SGD(lr=start_lr, momentum=0.9)\n",
        "opt = tfa.optimizers.Lookahead(tf.keras.optimizers.Adam()) # lookahead with Adam wins! in accuracy/loss and speed\n",
        "\n",
        "model.compile(loss=tf.keras.losses.Huber(),\n",
        "              optimizer=optimizer,\n",
        "              metrics=[\"mae\"])\n",
        "history = model.fit(dataset,epochs=100, callbacks=[lr_schedule])"
      ],
      "execution_count": 12,
      "outputs": [
        {
          "output_type": "stream",
          "text": [
            "Epoch 1/100\n",
            "8/8 [==============================] - 1s 179ms/step - loss: 81.1158 - mae: 83.5783\n",
            "Epoch 2/100\n",
            "8/8 [==============================] - 0s 46ms/step - loss: 25.2756 - mae: 26.0840\n",
            "Epoch 3/100\n",
            "8/8 [==============================] - 0s 36ms/step - loss: 18.3110 - mae: 18.9299\n",
            "Epoch 4/100\n",
            "8/8 [==============================] - 0s 36ms/step - loss: 15.8471 - mae: 16.3439\n",
            "Epoch 5/100\n",
            "8/8 [==============================] - 0s 45ms/step - loss: 13.8881 - mae: 14.3885\n",
            "Epoch 6/100\n",
            "8/8 [==============================] - 0s 47ms/step - loss: 11.2022 - mae: 11.8368\n",
            "Epoch 7/100\n",
            "8/8 [==============================] - 0s 36ms/step - loss: 8.3532 - mae: 8.8682\n",
            "Epoch 8/100\n",
            "8/8 [==============================] - 0s 38ms/step - loss: 7.2620 - mae: 7.7858\n",
            "Epoch 9/100\n",
            "8/8 [==============================] - 0s 37ms/step - loss: 6.7923 - mae: 7.3005\n",
            "Epoch 10/100\n",
            "8/8 [==============================] - 0s 37ms/step - loss: 6.2573 - mae: 6.7534\n",
            "Epoch 11/100\n",
            "8/8 [==============================] - 0s 44ms/step - loss: 6.3750 - mae: 6.7827\n",
            "Epoch 12/100\n",
            "8/8 [==============================] - 0s 37ms/step - loss: 6.4972 - mae: 6.9407\n",
            "Epoch 13/100\n",
            "8/8 [==============================] - 0s 40ms/step - loss: 5.7523 - mae: 6.2474\n",
            "Epoch 14/100\n",
            "8/8 [==============================] - 0s 42ms/step - loss: 5.5630 - mae: 6.0779\n",
            "Epoch 15/100\n",
            "8/8 [==============================] - 0s 42ms/step - loss: 5.5484 - mae: 6.0562\n",
            "Epoch 16/100\n",
            "8/8 [==============================] - 0s 41ms/step - loss: 5.3550 - mae: 5.8592\n",
            "Epoch 17/100\n",
            "8/8 [==============================] - 0s 37ms/step - loss: 5.4817 - mae: 5.9552\n",
            "Epoch 18/100\n",
            "8/8 [==============================] - 0s 46ms/step - loss: 5.4852 - mae: 5.9592\n",
            "Epoch 19/100\n",
            "8/8 [==============================] - 0s 49ms/step - loss: 5.5511 - mae: 6.0332\n",
            "Epoch 20/100\n",
            "8/8 [==============================] - 0s 45ms/step - loss: 5.6645 - mae: 6.1040\n",
            "Epoch 21/100\n",
            "8/8 [==============================] - 0s 40ms/step - loss: 5.4511 - mae: 5.9652\n",
            "Epoch 22/100\n",
            "8/8 [==============================] - 0s 34ms/step - loss: 5.3507 - mae: 5.8185\n",
            "Epoch 23/100\n",
            "8/8 [==============================] - 0s 35ms/step - loss: 5.1525 - mae: 5.6529\n",
            "Epoch 24/100\n",
            "8/8 [==============================] - 0s 39ms/step - loss: 5.3379 - mae: 5.8122\n",
            "Epoch 25/100\n",
            "8/8 [==============================] - 0s 37ms/step - loss: 5.5121 - mae: 6.0066\n",
            "Epoch 26/100\n",
            "8/8 [==============================] - 0s 35ms/step - loss: 5.2931 - mae: 5.8010\n",
            "Epoch 27/100\n",
            "8/8 [==============================] - 0s 37ms/step - loss: 5.6338 - mae: 6.0880\n",
            "Epoch 28/100\n",
            "8/8 [==============================] - 0s 40ms/step - loss: 5.4492 - mae: 5.8970\n",
            "Epoch 29/100\n",
            "8/8 [==============================] - 0s 35ms/step - loss: 5.1916 - mae: 5.6864\n",
            "Epoch 30/100\n",
            "8/8 [==============================] - 0s 34ms/step - loss: 5.3957 - mae: 5.8643\n",
            "Epoch 31/100\n",
            "8/8 [==============================] - 0s 43ms/step - loss: 5.1259 - mae: 5.6249\n",
            "Epoch 32/100\n",
            "8/8 [==============================] - 0s 38ms/step - loss: 5.1470 - mae: 5.6006\n",
            "Epoch 33/100\n",
            "8/8 [==============================] - 0s 37ms/step - loss: 5.1352 - mae: 5.6445\n",
            "Epoch 34/100\n",
            "8/8 [==============================] - 0s 36ms/step - loss: 5.2107 - mae: 5.6491\n",
            "Epoch 35/100\n",
            "8/8 [==============================] - 0s 38ms/step - loss: 5.2758 - mae: 5.6980\n",
            "Epoch 36/100\n",
            "8/8 [==============================] - 0s 40ms/step - loss: 5.1477 - mae: 5.6255\n",
            "Epoch 37/100\n",
            "8/8 [==============================] - 0s 46ms/step - loss: 5.1541 - mae: 5.6352\n",
            "Epoch 38/100\n",
            "8/8 [==============================] - 0s 39ms/step - loss: 5.1133 - mae: 5.5922\n",
            "Epoch 39/100\n",
            "8/8 [==============================] - 0s 43ms/step - loss: 5.0925 - mae: 5.5679\n",
            "Epoch 40/100\n",
            "8/8 [==============================] - 0s 47ms/step - loss: 5.0624 - mae: 5.5579\n",
            "Epoch 41/100\n",
            "8/8 [==============================] - 0s 41ms/step - loss: 5.0992 - mae: 5.5577\n",
            "Epoch 42/100\n",
            "8/8 [==============================] - 0s 44ms/step - loss: 5.0746 - mae: 5.5532\n",
            "Epoch 43/100\n",
            "8/8 [==============================] - 0s 53ms/step - loss: 5.0593 - mae: 5.5523\n",
            "Epoch 44/100\n",
            "8/8 [==============================] - 0s 39ms/step - loss: 5.0608 - mae: 5.5452\n",
            "Epoch 45/100\n",
            "8/8 [==============================] - 0s 35ms/step - loss: 5.0693 - mae: 5.5466\n",
            "Epoch 46/100\n",
            "8/8 [==============================] - 0s 37ms/step - loss: 5.0412 - mae: 5.5499\n",
            "Epoch 47/100\n",
            "8/8 [==============================] - 0s 34ms/step - loss: 5.0327 - mae: 5.5509\n",
            "Epoch 48/100\n",
            "8/8 [==============================] - 0s 36ms/step - loss: 5.0315 - mae: 5.5441\n",
            "Epoch 49/100\n",
            "8/8 [==============================] - 0s 38ms/step - loss: 5.0842 - mae: 5.5464\n",
            "Epoch 50/100\n",
            "8/8 [==============================] - 0s 37ms/step - loss: 5.0880 - mae: 5.5472\n",
            "Epoch 51/100\n",
            "8/8 [==============================] - 0s 42ms/step - loss: 5.0678 - mae: 5.5452\n",
            "Epoch 52/100\n",
            "8/8 [==============================] - 0s 47ms/step - loss: 5.0702 - mae: 5.5424\n",
            "Epoch 53/100\n",
            "8/8 [==============================] - 0s 34ms/step - loss: 5.0487 - mae: 5.5453\n",
            "Epoch 54/100\n",
            "8/8 [==============================] - 0s 39ms/step - loss: 5.1118 - mae: 5.5410\n",
            "Epoch 55/100\n",
            "8/8 [==============================] - 0s 37ms/step - loss: 5.0205 - mae: 5.5408\n",
            "Epoch 56/100\n",
            "8/8 [==============================] - 0s 37ms/step - loss: 5.0554 - mae: 5.5409\n",
            "Epoch 57/100\n",
            "8/8 [==============================] - 0s 35ms/step - loss: 5.0595 - mae: 5.5408\n",
            "Epoch 58/100\n",
            "8/8 [==============================] - 0s 45ms/step - loss: 5.0667 - mae: 5.5401\n",
            "Epoch 59/100\n",
            "8/8 [==============================] - 0s 42ms/step - loss: 5.0414 - mae: 5.5403\n",
            "Epoch 60/100\n",
            "8/8 [==============================] - 0s 37ms/step - loss: 5.0782 - mae: 5.5400\n",
            "Epoch 61/100\n",
            "8/8 [==============================] - 0s 35ms/step - loss: 5.0634 - mae: 5.5401\n",
            "Epoch 62/100\n",
            "8/8 [==============================] - 0s 37ms/step - loss: 5.0717 - mae: 5.5402\n",
            "Epoch 63/100\n",
            "8/8 [==============================] - 0s 47ms/step - loss: 5.1079 - mae: 5.5396\n",
            "Epoch 64/100\n",
            "8/8 [==============================] - 0s 38ms/step - loss: 5.0635 - mae: 5.5394\n",
            "Epoch 65/100\n",
            "8/8 [==============================] - 0s 31ms/step - loss: 5.0393 - mae: 5.5390\n",
            "Epoch 66/100\n",
            "8/8 [==============================] - 0s 42ms/step - loss: 5.0667 - mae: 5.5394\n",
            "Epoch 67/100\n",
            "8/8 [==============================] - 0s 45ms/step - loss: 5.0569 - mae: 5.5398\n",
            "Epoch 68/100\n",
            "8/8 [==============================] - 0s 37ms/step - loss: 5.0638 - mae: 5.5388\n",
            "Epoch 69/100\n",
            "8/8 [==============================] - 0s 42ms/step - loss: 5.0374 - mae: 5.5387\n",
            "Epoch 70/100\n",
            "8/8 [==============================] - 0s 38ms/step - loss: 5.0221 - mae: 5.5386\n",
            "Epoch 71/100\n",
            "8/8 [==============================] - 0s 38ms/step - loss: 5.0415 - mae: 5.5387\n",
            "Epoch 72/100\n",
            "8/8 [==============================] - 0s 37ms/step - loss: 5.0776 - mae: 5.5386\n",
            "Epoch 73/100\n",
            "8/8 [==============================] - 0s 36ms/step - loss: 5.0674 - mae: 5.5385\n",
            "Epoch 74/100\n",
            "8/8 [==============================] - 0s 36ms/step - loss: 5.0507 - mae: 5.5386\n",
            "Epoch 75/100\n",
            "8/8 [==============================] - 0s 40ms/step - loss: 5.0289 - mae: 5.5385\n",
            "Epoch 76/100\n",
            "8/8 [==============================] - 0s 38ms/step - loss: 5.0576 - mae: 5.5385\n",
            "Epoch 77/100\n",
            "8/8 [==============================] - 0s 40ms/step - loss: 5.0426 - mae: 5.5386\n",
            "Epoch 78/100\n",
            "8/8 [==============================] - 0s 39ms/step - loss: 5.0345 - mae: 5.5385\n",
            "Epoch 79/100\n",
            "8/8 [==============================] - 0s 35ms/step - loss: 5.0370 - mae: 5.5384\n",
            "Epoch 80/100\n",
            "8/8 [==============================] - 0s 35ms/step - loss: 5.0331 - mae: 5.5384\n",
            "Epoch 81/100\n",
            "8/8 [==============================] - 0s 38ms/step - loss: 5.0176 - mae: 5.5384\n",
            "Epoch 82/100\n",
            "8/8 [==============================] - 0s 42ms/step - loss: 5.0385 - mae: 5.5384\n",
            "Epoch 83/100\n",
            "8/8 [==============================] - 0s 45ms/step - loss: 5.0970 - mae: 5.5383\n",
            "Epoch 84/100\n",
            "8/8 [==============================] - 0s 43ms/step - loss: 5.0567 - mae: 5.5383\n",
            "Epoch 85/100\n",
            "8/8 [==============================] - 0s 40ms/step - loss: 5.0749 - mae: 5.5383\n",
            "Epoch 86/100\n",
            "8/8 [==============================] - 0s 52ms/step - loss: 5.0604 - mae: 5.5384\n",
            "Epoch 87/100\n",
            "8/8 [==============================] - 0s 45ms/step - loss: 5.0736 - mae: 5.5383\n",
            "Epoch 88/100\n",
            "8/8 [==============================] - 0s 38ms/step - loss: 5.0903 - mae: 5.5383\n",
            "Epoch 89/100\n",
            "8/8 [==============================] - 0s 36ms/step - loss: 5.0417 - mae: 5.5383\n",
            "Epoch 90/100\n",
            "8/8 [==============================] - 0s 33ms/step - loss: 5.0643 - mae: 5.5383\n",
            "Epoch 91/100\n",
            "8/8 [==============================] - 0s 37ms/step - loss: 5.0630 - mae: 5.5383\n",
            "Epoch 92/100\n",
            "8/8 [==============================] - 0s 41ms/step - loss: 5.0469 - mae: 5.5383\n",
            "Epoch 93/100\n",
            "8/8 [==============================] - 0s 44ms/step - loss: 5.0630 - mae: 5.5383\n",
            "Epoch 94/100\n",
            "8/8 [==============================] - 0s 39ms/step - loss: 5.0986 - mae: 5.5383\n",
            "Epoch 95/100\n",
            "8/8 [==============================] - 0s 39ms/step - loss: 5.1039 - mae: 5.5383\n",
            "Epoch 96/100\n",
            "8/8 [==============================] - 0s 37ms/step - loss: 5.0749 - mae: 5.5383\n",
            "Epoch 97/100\n",
            "8/8 [==============================] - 0s 36ms/step - loss: 5.0700 - mae: 5.5383\n",
            "Epoch 98/100\n",
            "8/8 [==============================] - 0s 37ms/step - loss: 5.0826 - mae: 5.5383\n",
            "Epoch 99/100\n",
            "8/8 [==============================] - 0s 37ms/step - loss: 5.0735 - mae: 5.5383\n",
            "Epoch 100/100\n",
            "8/8 [==============================] - 0s 47ms/step - loss: 5.0874 - mae: 5.5383\n"
          ],
          "name": "stdout"
        }
      ]
    },
    {
      "cell_type": "code",
      "metadata": {
        "id": "ejBynEKekaKw",
        "colab_type": "code",
        "colab": {
          "base_uri": "https://localhost:8080/",
          "height": 388
        },
        "outputId": "aa02e32f-b9ea-4901-dbb7-63e758e2f0b4"
      },
      "source": [
        "# Predict the next values\n",
        "\n",
        "forecast=[]\n",
        "\n",
        "# Iterate over the data by passing in a window size of data and predicting the next value\n",
        "# Do a standard linear regression to get the result: Y = W0*X0 +.... W19*X19 + b\n",
        "# add to list\n",
        "for time in range(len(series) - window_size):\n",
        "  forecast.append(model.predict(series[time:time + window_size][np.newaxis]))\n",
        "\n",
        "# As data was split into train/valid, take the valid data after the split time to forecast it\n",
        "forecast = forecast[split_time-window_size:]\n",
        "results = np.array(forecast)[:, 0, 0]\n",
        "\n",
        "# plot series\n",
        "plt.figure(figsize=(10, 6))\n",
        "\n",
        "plot_series(time_valid, x_valid)\n",
        "plot_series(time_valid, results)"
      ],
      "execution_count": 13,
      "outputs": [
        {
          "output_type": "display_data",
          "data": {
            "image/png": "[encoded data removed]",
            "text/plain": [
              "<Figure size 720x432 with 1 Axes>"
            ]
          },
          "metadata": {
            "tags": []
          }
        }
      ]
    },
    {
      "cell_type": "code",
      "metadata": {
        "colab_type": "code",
        "id": "hR2BO0Dai_ZT",
        "colab": {
          "base_uri": "https://localhost:8080/",
          "height": 34
        },
        "outputId": "03692f1b-808b-4e43-b6e0-d23b212e950e"
      },
      "source": [
        "# Calculate MAE\n",
        "tf.keras.metrics.mean_absolute_error(x_valid, results).numpy()"
      ],
      "execution_count": 14,
      "outputs": [
        {
          "output_type": "execute_result",
          "data": {
            "text/plain": [
              "7.0319963"
            ]
          },
          "metadata": {
            "tags": []
          },
          "execution_count": 14
        }
      ]
    },
    {
      "cell_type": "code",
      "metadata": {
        "id": "vXaFHOaJqE6M",
        "colab_type": "code",
        "colab": {
          "base_uri": "https://localhost:8080/",
          "height": 607
        },
        "outputId": "ad3c4408-93ad-4106-b7bb-e27f0e032215"
      },
      "source": [
        "import matplotlib.image  as mpimg\n",
        "import matplotlib.pyplot as plt\n",
        "\n",
        "#-----------------------------------------------------------\n",
        "# Retrieve a list of list results on training and test data\n",
        "# sets for each training epoch\n",
        "#-----------------------------------------------------------\n",
        "mae=history.history['mae']\n",
        "loss=history.history['loss']\n",
        "\n",
        "epochs=range(len(loss)) # Get number of epochs\n",
        "\n",
        "#------------------------------------------------\n",
        "# Plot MAE and Loss\n",
        "#------------------------------------------------\n",
        "plt.plot(epochs, mae, 'r')\n",
        "plt.plot(epochs, loss, 'b')\n",
        "plt.title('MAE and Loss')\n",
        "plt.xlabel(\"Epochs\")\n",
        "plt.ylabel(\"Accuracy\")\n",
        "plt.legend([\"MAE\", \"Loss\"])\n",
        "\n",
        "plt.figure()\n",
        "\n",
        "epochs_zoom = epochs[200:]\n",
        "mae_zoom = mae[200:]\n",
        "loss_zoom = loss[200:]\n",
        "\n",
        "#------------------------------------------------\n",
        "# Plot Zoomed MAE and Loss\n",
        "#------------------------------------------------\n",
        "plt.plot(epochs_zoom, mae_zoom, 'r')\n",
        "plt.plot(epochs_zoom, loss_zoom, 'b')\n",
        "plt.title('MAE and Loss')\n",
        "plt.xlabel(\"Epochs\")\n",
        "plt.ylabel(\"Accuracy\")\n",
        "plt.legend([\"MAE\", \"Loss\"])\n",
        "\n",
        "plt.figure()"
      ],
      "execution_count": 15,
      "outputs": [
        {
          "output_type": "execute_result",
          "data": {
            "text/plain": [
              "<Figure size 432x288 with 0 Axes>"
            ]
          },
          "metadata": {
            "tags": []
          },
          "execution_count": 15
        },
        {
          "output_type": "display_data",
          "data": {
            "image/png": "[encoded data removed]",
            "text/plain": [
              "<Figure size 432x288 with 1 Axes>"
            ]
          },
          "metadata": {
            "tags": []
          }
        },
        {
          "output_type": "display_data",
          "data": {
            "image/png": "[encoded data removed]",
            "text/plain": [
              "<Figure size 432x288 with 1 Axes>"
            ]
          },
          "metadata": {
            "tags": []
          }
        },
        {
          "output_type": "display_data",
          "data": {
            "text/plain": [
              "<Figure size 432x288 with 0 Axes>"
            ]
          },
          "metadata": {
            "tags": []
          }
        }
      ]
    },
    {
      "cell_type": "code",
      "metadata": {
        "id": "bRaVZ-J4EDPG",
        "colab_type": "code",
        "colab": {}
      },
      "source": [
        ""
      ],
      "execution_count": 0,
      "outputs": []
    }
  ]
}