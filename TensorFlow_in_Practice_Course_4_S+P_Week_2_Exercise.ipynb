{
  "nbformat": 4,
  "nbformat_minor": 0,
  "metadata": {
    "colab": {
      "name": "deeplearning.ai - TensorFlow in Practice - Course 4 S+P - Week 2 - Exercise.ipynb",
      "provenance": [],
      "collapsed_sections": [],
      "toc_visible": true,
      "include_colab_link": true
    },
    "kernelspec": {
      "name": "python3",
      "display_name": "Python 3"
    },
    "accelerator": "GPU"
  },
  "cells": [
    {
      "cell_type": "markdown",
      "metadata": {
        "id": "view-in-github",
        "colab_type": "text"
      },
      "source": [
        "<a href=\"https://colab.research.google.com/github/mikful/dlai-tf-in-practice/blob/master/TensorFlow_in_Practice_Course_4_S%2BP_Week_2_Exercise.ipynb\" target=\"_parent\"><img src=\"https://colab.research.google.com/assets/colab-badge.svg\" alt=\"Open In Colab\"/></a>"
      ]
    },
    {
      "cell_type": "code",
      "metadata": {
        "id": "BOjujz601HcS",
        "colab_type": "code",
        "outputId": "a001d0e3-1a20-480a-9a8e-bf84601494ab",
        "colab": {
          "base_uri": "https://localhost:8080/",
          "height": 51
        }
      },
      "source": [
        "%tensorflow_version 2.x\n",
        "import tensorflow as tf\n",
        "import numpy as np\n",
        "import matplotlib.pyplot as plt\n",
        "print(tf.__version__)"
      ],
      "execution_count": 0,
      "outputs": [
        {
          "output_type": "stream",
          "text": [
            "TensorFlow 2.x selected.\n",
            "2.1.0\n"
          ],
          "name": "stdout"
        }
      ]
    },
    {
      "cell_type": "code",
      "metadata": {
        "colab_type": "code",
        "id": "Zswl7jRtGzkk",
        "outputId": "9d2957b3-3edc-4e32-accc-1612fd131c1f",
        "colab": {
          "base_uri": "https://localhost:8080/",
          "height": 279
        }
      },
      "source": [
        "# Setup the data series and constants\n",
        "\n",
        "def plot_series(time, series, format=\"-\", start=0, end=None):\n",
        "    plt.plot(time[start:end], series[start:end], format)\n",
        "    plt.xlabel(\"Time\")\n",
        "    plt.ylabel(\"Value\")\n",
        "    plt.grid(False)\n",
        "\n",
        "def trend(time, slope=0):\n",
        "    return slope * time\n",
        "\n",
        "def seasonal_pattern(season_time):\n",
        "    \"\"\"Just an arbitrary pattern, you can change it if you wish\"\"\"\n",
        "    return np.where(season_time < 0.1,\n",
        "                    np.cos(season_time * 0.6 * np.pi),\n",
        "                    2 / np.exp(1.5 * season_time))\n",
        "\n",
        "def seasonality(time, period, amplitude=1, phase=0):\n",
        "    \"\"\"Repeats the same pattern at each period\"\"\"\n",
        "    season_time = ((time + phase) % period) / period\n",
        "    return amplitude * seasonal_pattern(season_time)\n",
        "\n",
        "def noise(time, noise_level=1, seed=None):\n",
        "    rnd = np.random.RandomState(seed)\n",
        "    return rnd.randn(len(time)) * noise_level\n",
        "\n",
        "time = np.arange(10 * 365 + 1, dtype=\"float32\")\n",
        "baseline = 12\n",
        "series = trend(time, 0.1)  \n",
        "baseline = 10\n",
        "amplitude = 40\n",
        "slope = 0.05\n",
        "noise_level = 4\n",
        "\n",
        "# Create the series\n",
        "series = baseline + trend(time, slope) + seasonality(time, period=365, amplitude=amplitude)\n",
        "# Update with noise\n",
        "series += noise(time, noise_level, seed=51)\n",
        "\n",
        "# Split data at the split_time for train/valid sets\n",
        "split_time = 3000\n",
        "time_train = time[:split_time]\n",
        "x_train = series[:split_time]\n",
        "time_valid = time[split_time:]\n",
        "x_valid = series[split_time:]\n",
        "\n",
        "# Setup constants for the Single layer NN\n",
        "window_size = 20\n",
        "batch_size = 32\n",
        "shuffle_buffer_size = 1000\n",
        "\n",
        "plot_series(time, series)"
      ],
      "execution_count": 0,
      "outputs": [
        {
          "output_type": "display_data",
          "data": {
            "image/png": "[encoded data removed]",
            "text/plain": [
              "<Figure size 432x288 with 1 Axes>"
            ]
          },
          "metadata": {
            "tags": []
          }
        }
      ]
    },
    {
      "cell_type": "markdown",
      "metadata": {
        "id": "GfUTNqti_lNC",
        "colab_type": "text"
      },
      "source": [
        "Desired output -- a chart that looks like this:\n",
        "\n",
        "![Chart showing upward trend and seasonailty](http://www.laurencemoroney.com/wp-content/uploads/2019/07/plot1.png)"
      ]
    },
    {
      "cell_type": "code",
      "metadata": {
        "id": "4sTTIOCbyShY",
        "colab_type": "code",
        "colab": {}
      },
      "source": [
        "# Function to create a windowed dataset\n",
        "# Takes in a data series, window size and batch size and shuffle and creates a windowed dataset\n",
        "\n",
        "def windowed_dataset(series, window_size, batch_size, shuffle_buffer):\n",
        "  dataset = tf.data.Dataset.from_tensor_slices(series)\n",
        "  dataset = dataset.window(window_size + 1, shift=1, drop_remainder=True)\n",
        "  dataset = dataset.flat_map(lambda window: window.batch(window_size + 1))\n",
        "  dataset = dataset.shuffle(shuffle_buffer).map(lambda window: (window[:-1], window[-1]))\n",
        "  dataset = dataset.batch(batch_size).prefetch(1)\n",
        "  return dataset"
      ],
      "execution_count": 0,
      "outputs": []
    },
    {
      "cell_type": "code",
      "metadata": {
        "id": "TW-vT7eLYAdb",
        "colab_type": "code",
        "colab": {}
      },
      "source": [
        "# Create windowed dataset\n",
        "dataset = windowed_dataset(x_train, window_size, batch_size, shuffle_buffer_size)\n",
        "\n",
        "# Create Deep NN\n",
        "model = tf.keras.models.Sequential([\n",
        "    tf.keras.layers.Dense(20, input_shape=[window_size], activation='relu'),\n",
        "    tf.keras.layers.Dense(20, activation=\"relu\"), \n",
        "    tf.keras.layers.Dense(1)\n",
        "])"
      ],
      "execution_count": 0,
      "outputs": []
    },
    {
      "cell_type": "code",
      "metadata": {
        "id": "qSXf-QjZ788x",
        "colab_type": "code",
        "outputId": "b890fb77-6fda-4eb6-994d-8be78a29df50",
        "colab": {
          "base_uri": "https://localhost:8080/",
          "height": 1000
        }
      },
      "source": [
        "import tensorflow as tf\n",
        "import tensorflow_addons as tfa\n",
        "\n",
        "# lr_schedule = ExponentialCyclicalLearningRate(\n",
        "#     initial_learning_rate=1e-4,\n",
        "#     maximal_learning_rate=1e-2,\n",
        "#     step_size=2000,\n",
        "#     scale_mode=\"cycle\",\n",
        "#     gamma=0.96,\n",
        "#     name=\"MyCyclicScheduler\")\n",
        "\n",
        "\n",
        "opt = tf.keras.optimizers.Adam()\n",
        "opt = tfa.optimizers.Lookahead(opt)\n",
        "\n",
        "model.compile(loss='mse', optimizer=opt)\n",
        "model.fit(dataset,epochs=100,verbose=1)\n"
      ],
      "execution_count": 0,
      "outputs": [
        {
          "output_type": "stream",
          "text": [
            "Epoch 1/100\n",
            "WARNING:tensorflow:From /tensorflow-2.1.0/python3.6/tensorflow_core/python/ops/resource_variable_ops.py:1786: calling BaseResourceVariable.__init__ (from tensorflow.python.ops.resource_variable_ops) with constraint is deprecated and will be removed in a future version.\n",
            "Instructions for updating:\n",
            "If using Keras pass *_constraint arguments to layers.\n",
            "94/94 [==============================] - 4s 38ms/step - loss: 759.8463\n",
            "Epoch 2/100\n",
            "94/94 [==============================] - 1s 7ms/step - loss: 55.9879\n",
            "Epoch 3/100\n",
            "94/94 [==============================] - 1s 6ms/step - loss: 56.0664\n",
            "Epoch 4/100\n",
            "94/94 [==============================] - 1s 7ms/step - loss: 53.4573\n",
            "Epoch 5/100\n",
            "94/94 [==============================] - 1s 6ms/step - loss: 54.5827\n",
            "Epoch 6/100\n",
            "94/94 [==============================] - 1s 7ms/step - loss: 50.9878\n",
            "Epoch 7/100\n",
            "94/94 [==============================] - 1s 7ms/step - loss: 49.4454\n",
            "Epoch 8/100\n",
            "94/94 [==============================] - 1s 6ms/step - loss: 48.0716\n",
            "Epoch 9/100\n",
            "94/94 [==============================] - 1s 6ms/step - loss: 46.7443\n",
            "Epoch 10/100\n",
            "94/94 [==============================] - 1s 7ms/step - loss: 45.3895\n",
            "Epoch 11/100\n",
            "94/94 [==============================] - 1s 6ms/step - loss: 44.2474\n",
            "Epoch 12/100\n",
            "94/94 [==============================] - 1s 6ms/step - loss: 43.4531\n",
            "Epoch 13/100\n",
            "94/94 [==============================] - 1s 6ms/step - loss: 42.4617\n",
            "Epoch 14/100\n",
            "94/94 [==============================] - 1s 7ms/step - loss: 42.8987\n",
            "Epoch 15/100\n",
            "94/94 [==============================] - 1s 7ms/step - loss: 42.0916\n",
            "Epoch 16/100\n",
            "94/94 [==============================] - 1s 6ms/step - loss: 41.5556\n",
            "Epoch 17/100\n",
            "94/94 [==============================] - 1s 7ms/step - loss: 39.7885\n",
            "Epoch 18/100\n",
            "94/94 [==============================] - 1s 7ms/step - loss: 38.8652\n",
            "Epoch 19/100\n",
            "94/94 [==============================] - 1s 6ms/step - loss: 38.8496\n",
            "Epoch 20/100\n",
            "94/94 [==============================] - 1s 7ms/step - loss: 36.9922\n",
            "Epoch 21/100\n",
            "94/94 [==============================] - 1s 6ms/step - loss: 37.3467\n",
            "Epoch 22/100\n",
            "94/94 [==============================] - 1s 7ms/step - loss: 37.5063\n",
            "Epoch 23/100\n",
            "94/94 [==============================] - 1s 6ms/step - loss: 36.1285\n",
            "Epoch 24/100\n",
            "94/94 [==============================] - 1s 6ms/step - loss: 35.8207\n",
            "Epoch 25/100\n",
            "94/94 [==============================] - 1s 7ms/step - loss: 34.4984\n",
            "Epoch 26/100\n",
            "94/94 [==============================] - 1s 6ms/step - loss: 35.2357\n",
            "Epoch 27/100\n",
            "94/94 [==============================] - 1s 7ms/step - loss: 34.8307\n",
            "Epoch 28/100\n",
            "94/94 [==============================] - 1s 7ms/step - loss: 33.7839\n",
            "Epoch 29/100\n",
            "94/94 [==============================] - 1s 6ms/step - loss: 33.8961\n",
            "Epoch 30/100\n",
            "94/94 [==============================] - 1s 7ms/step - loss: 33.7788\n",
            "Epoch 31/100\n",
            "94/94 [==============================] - 1s 7ms/step - loss: 33.1304\n",
            "Epoch 32/100\n",
            "94/94 [==============================] - 1s 6ms/step - loss: 33.2898\n",
            "Epoch 33/100\n",
            "94/94 [==============================] - 1s 7ms/step - loss: 32.8506\n",
            "Epoch 34/100\n",
            "94/94 [==============================] - 1s 7ms/step - loss: 33.9709\n",
            "Epoch 35/100\n",
            "94/94 [==============================] - 1s 7ms/step - loss: 31.9645\n",
            "Epoch 36/100\n",
            "94/94 [==============================] - 1s 7ms/step - loss: 32.0207\n",
            "Epoch 37/100\n",
            "94/94 [==============================] - 1s 6ms/step - loss: 31.8159\n",
            "Epoch 38/100\n",
            "94/94 [==============================] - 1s 7ms/step - loss: 31.1139\n",
            "Epoch 39/100\n",
            "94/94 [==============================] - 1s 6ms/step - loss: 31.2430\n",
            "Epoch 40/100\n",
            "94/94 [==============================] - 1s 7ms/step - loss: 31.5960\n",
            "Epoch 41/100\n",
            "94/94 [==============================] - 1s 7ms/step - loss: 31.5200\n",
            "Epoch 42/100\n",
            "94/94 [==============================] - 1s 6ms/step - loss: 31.0471\n",
            "Epoch 43/100\n",
            "94/94 [==============================] - 1s 6ms/step - loss: 30.8507\n",
            "Epoch 44/100\n",
            "94/94 [==============================] - 1s 6ms/step - loss: 32.1202\n",
            "Epoch 45/100\n",
            "94/94 [==============================] - 1s 7ms/step - loss: 31.8376\n",
            "Epoch 46/100\n",
            "94/94 [==============================] - 1s 7ms/step - loss: 30.4651\n",
            "Epoch 47/100\n",
            "94/94 [==============================] - 1s 7ms/step - loss: 31.2313\n",
            "Epoch 48/100\n",
            "94/94 [==============================] - 1s 6ms/step - loss: 30.8379\n",
            "Epoch 49/100\n",
            "94/94 [==============================] - 1s 7ms/step - loss: 29.7842\n",
            "Epoch 50/100\n",
            "94/94 [==============================] - 1s 6ms/step - loss: 29.9926\n",
            "Epoch 51/100\n",
            "94/94 [==============================] - 1s 7ms/step - loss: 29.8231\n",
            "Epoch 52/100\n",
            "94/94 [==============================] - 1s 6ms/step - loss: 30.0636\n",
            "Epoch 53/100\n",
            "94/94 [==============================] - 1s 7ms/step - loss: 31.1294\n",
            "Epoch 54/100\n",
            "94/94 [==============================] - 1s 7ms/step - loss: 31.4632\n",
            "Epoch 55/100\n",
            "94/94 [==============================] - 1s 6ms/step - loss: 29.7681\n",
            "Epoch 56/100\n",
            "94/94 [==============================] - 1s 6ms/step - loss: 30.1963\n",
            "Epoch 57/100\n",
            "94/94 [==============================] - 1s 7ms/step - loss: 29.4572\n",
            "Epoch 58/100\n",
            "94/94 [==============================] - 1s 7ms/step - loss: 29.2934\n",
            "Epoch 59/100\n",
            "94/94 [==============================] - 1s 7ms/step - loss: 31.4759\n",
            "Epoch 60/100\n",
            "94/94 [==============================] - 1s 6ms/step - loss: 29.5761\n",
            "Epoch 61/100\n",
            "94/94 [==============================] - 1s 6ms/step - loss: 30.2946\n",
            "Epoch 62/100\n",
            "94/94 [==============================] - 1s 6ms/step - loss: 29.7894\n",
            "Epoch 63/100\n",
            "94/94 [==============================] - 1s 7ms/step - loss: 30.8213\n",
            "Epoch 64/100\n",
            "94/94 [==============================] - 1s 6ms/step - loss: 28.8012\n",
            "Epoch 65/100\n",
            "94/94 [==============================] - 1s 6ms/step - loss: 29.6329\n",
            "Epoch 66/100\n",
            "94/94 [==============================] - 1s 6ms/step - loss: 29.6146\n",
            "Epoch 67/100\n",
            "94/94 [==============================] - 1s 7ms/step - loss: 31.4721\n",
            "Epoch 68/100\n",
            "94/94 [==============================] - 1s 7ms/step - loss: 29.1469\n",
            "Epoch 69/100\n",
            "94/94 [==============================] - 1s 6ms/step - loss: 28.9120\n",
            "Epoch 70/100\n",
            "94/94 [==============================] - 1s 6ms/step - loss: 29.4277\n",
            "Epoch 71/100\n",
            "94/94 [==============================] - 1s 6ms/step - loss: 28.9492\n",
            "Epoch 72/100\n",
            "94/94 [==============================] - 1s 7ms/step - loss: 28.5371\n",
            "Epoch 73/100\n",
            "94/94 [==============================] - 1s 7ms/step - loss: 29.1693\n",
            "Epoch 74/100\n",
            "94/94 [==============================] - 1s 6ms/step - loss: 28.3898\n",
            "Epoch 75/100\n",
            "94/94 [==============================] - 1s 6ms/step - loss: 28.5858\n",
            "Epoch 76/100\n",
            "94/94 [==============================] - 1s 6ms/step - loss: 28.9852\n",
            "Epoch 77/100\n",
            "94/94 [==============================] - 1s 7ms/step - loss: 28.9671\n",
            "Epoch 78/100\n",
            "94/94 [==============================] - 1s 7ms/step - loss: 28.4030\n",
            "Epoch 79/100\n",
            "94/94 [==============================] - 1s 6ms/step - loss: 28.9064\n",
            "Epoch 80/100\n",
            "94/94 [==============================] - 1s 7ms/step - loss: 30.7381\n",
            "Epoch 81/100\n",
            "94/94 [==============================] - 1s 7ms/step - loss: 28.4943\n",
            "Epoch 82/100\n",
            "94/94 [==============================] - 1s 7ms/step - loss: 28.8903\n",
            "Epoch 83/100\n",
            "94/94 [==============================] - 1s 6ms/step - loss: 28.0548\n",
            "Epoch 84/100\n",
            "94/94 [==============================] - 1s 7ms/step - loss: 29.0120\n",
            "Epoch 85/100\n",
            "94/94 [==============================] - 1s 7ms/step - loss: 28.9101\n",
            "Epoch 86/100\n",
            "94/94 [==============================] - 1s 6ms/step - loss: 28.2225\n",
            "Epoch 87/100\n",
            "94/94 [==============================] - 1s 7ms/step - loss: 28.8657\n",
            "Epoch 88/100\n",
            "94/94 [==============================] - 1s 7ms/step - loss: 28.0392\n",
            "Epoch 89/100\n",
            "94/94 [==============================] - 1s 6ms/step - loss: 28.2568\n",
            "Epoch 90/100\n",
            "94/94 [==============================] - 1s 6ms/step - loss: 28.8611\n",
            "Epoch 91/100\n",
            "94/94 [==============================] - 1s 7ms/step - loss: 28.0762\n",
            "Epoch 92/100\n",
            "94/94 [==============================] - 1s 6ms/step - loss: 28.5338\n",
            "Epoch 93/100\n",
            "94/94 [==============================] - 1s 6ms/step - loss: 27.5117\n",
            "Epoch 94/100\n",
            "94/94 [==============================] - 1s 6ms/step - loss: 27.9794\n",
            "Epoch 95/100\n",
            "94/94 [==============================] - 1s 6ms/step - loss: 28.1897\n",
            "Epoch 96/100\n",
            "94/94 [==============================] - 1s 6ms/step - loss: 27.7355\n",
            "Epoch 97/100\n",
            "94/94 [==============================] - 1s 7ms/step - loss: 28.7292\n",
            "Epoch 98/100\n",
            "94/94 [==============================] - 1s 6ms/step - loss: 27.7492\n",
            "Epoch 99/100\n",
            "94/94 [==============================] - 1s 6ms/step - loss: 28.3671\n",
            "Epoch 100/100\n",
            "94/94 [==============================] - 1s 6ms/step - loss: 27.9758\n"
          ],
          "name": "stdout"
        },
        {
          "output_type": "execute_result",
          "data": {
            "text/plain": [
              "<tensorflow.python.keras.callbacks.History at 0x7f37e021dd30>"
            ]
          },
          "metadata": {
            "tags": []
          },
          "execution_count": 5
        }
      ]
    },
    {
      "cell_type": "code",
      "metadata": {
        "id": "efhco2rYyIFF",
        "colab_type": "code",
        "outputId": "6db78c98-da4b-4539-9232-198cda84eaf7",
        "colab": {
          "base_uri": "https://localhost:8080/",
          "height": 388
        }
      },
      "source": [
        "# Predict the next values\n",
        "\n",
        "forecast = []\n",
        "\n",
        "# Iterate over the data by passing in a window size of data and predicting the next value\n",
        "# Do a standard linear regression to get the result: Y = W0*X0 +.... W19*X19 + b\n",
        "# add to list\n",
        "for time in range(len(series) - window_size):\n",
        "  forecast.append(model.predict(series[time:time + window_size][np.newaxis]))\n",
        "\n",
        "# As data was split into train/valid, take the valid data after the split time to forecast it\n",
        "forecast = forecast[split_time-window_size:]\n",
        "results = np.array(forecast)[:, 0, 0]\n",
        "\n",
        "# plot series\n",
        "plt.figure(figsize=(10, 6))\n",
        "\n",
        "plot_series(time_valid, x_valid)\n",
        "plot_series(time_valid, results)"
      ],
      "execution_count": 0,
      "outputs": [
        {
          "output_type": "display_data",
          "data": {
            "image/png": "[encoded data removed]",
            "text/plain": [
              "<Figure size 720x432 with 1 Axes>"
            ]
          },
          "metadata": {
            "tags": []
          }
        }
      ]
    },
    {
      "cell_type": "code",
      "metadata": {
        "id": "-kT6j186YO6K",
        "colab_type": "code",
        "outputId": "84b0271e-6d84-4d46-9a66-ee55d604fbe7",
        "colab": {
          "base_uri": "https://localhost:8080/",
          "height": 34
        }
      },
      "source": [
        "tf.keras.metrics.mean_absolute_error(x_valid, results).numpy()\n",
        "# EXPECTED OUTPUT\n",
        "# A Value less than 3"
      ],
      "execution_count": 0,
      "outputs": [
        {
          "output_type": "execute_result",
          "data": {
            "text/plain": [
              "4.2227807"
            ]
          },
          "metadata": {
            "tags": []
          },
          "execution_count": 7
        }
      ]
    },
    {
      "cell_type": "code",
      "metadata": {
        "id": "7E42jma95GC1",
        "colab_type": "code",
        "colab": {}
      },
      "source": [
        ""
      ],
      "execution_count": 0,
      "outputs": []
    }
  ]
}