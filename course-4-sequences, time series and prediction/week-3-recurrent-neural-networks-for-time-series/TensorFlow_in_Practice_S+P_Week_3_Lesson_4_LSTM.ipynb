{
  "nbformat": 4,
  "nbformat_minor": 0,
  "metadata": {
    "colab": {
      "name": "deeplearning.ai - TensorFlow in Practice - S+P - Week 3 - Lesson 4 - LSTM.ipynb",
      "provenance": [],
      "collapsed_sections": [],
      "include_colab_link": true
    },
    "kernelspec": {
      "name": "python3",
      "display_name": "Python 3"
    },
    "accelerator": "GPU"
  },
  "cells": [
    {
      "cell_type": "markdown",
      "metadata": {
        "id": "view-in-github",
        "colab_type": "text"
      },
      "source": [
        "<a href=\"https://colab.research.google.com/github/mikful/dlai-tf-in-practice/blob/master/TensorFlow_in_Practice_S%2BP_Week_3_Lesson_4_LSTM.ipynb\" target=\"_parent\"><img src=\"https://colab.research.google.com/assets/colab-badge.svg\" alt=\"Open In Colab\"/></a>"
      ]
    },
    {
      "cell_type": "markdown",
      "metadata": {
        "id": "l7vOT5GFPdTK",
        "colab_type": "text"
      },
      "source": [
        "# LSTM for time series prediction"
      ]
    },
    {
      "cell_type": "code",
      "metadata": {
        "id": "BOjujz601HcS",
        "colab_type": "code",
        "outputId": "217ea566-1b92-4348-a62a-1a3ea93b9049",
        "colab": {
          "base_uri": "https://localhost:8080/",
          "height": 51
        }
      },
      "source": [
        "%tensorflow_version 2.x\n",
        "import tensorflow as tf\n",
        "import numpy as np\n",
        "import matplotlib.pyplot as plt\n",
        "print(tf.__version__)"
      ],
      "execution_count": 1,
      "outputs": [
        {
          "output_type": "stream",
          "text": [
            "TensorFlow 2.x selected.\n",
            "2.1.0\n"
          ],
          "name": "stdout"
        }
      ]
    },
    {
      "cell_type": "code",
      "metadata": {
        "colab_type": "code",
        "id": "Zswl7jRtGzkk",
        "colab": {}
      },
      "source": [
        "# Setup the data series and constants\n",
        "\n",
        "def plot_series(time, series, format=\"-\", start=0, end=None):\n",
        "    plt.plot(time[start:end], series[start:end], format)\n",
        "    plt.xlabel(\"Time\")\n",
        "    plt.ylabel(\"Value\")\n",
        "    plt.grid(True)\n",
        "\n",
        "def trend(time, slope=0):\n",
        "    return slope * time\n",
        "\n",
        "def seasonal_pattern(season_time):\n",
        "    \"\"\"Just an arbitrary pattern, you can change it if you wish\"\"\"\n",
        "    return np.where(season_time < 0.4,\n",
        "                    np.cos(season_time * 2 * np.pi),\n",
        "                    1 / np.exp(3 * season_time))\n",
        "\n",
        "def seasonality(time, period, amplitude=1, phase=0):\n",
        "    \"\"\"Repeats the same pattern at each period\"\"\"\n",
        "    season_time = ((time + phase) % period) / period\n",
        "    return amplitude * seasonal_pattern(season_time)\n",
        "\n",
        "def noise(time, noise_level=1, seed=None):\n",
        "    rnd = np.random.RandomState(seed)\n",
        "    return rnd.randn(len(time)) * noise_level\n",
        "\n",
        "time = np.arange(4 * 365 + 1, dtype=\"float32\")\n",
        "baseline = 10\n",
        "series = trend(time, 0.1)  \n",
        "baseline = 10\n",
        "amplitude = 40\n",
        "slope = 0.05\n",
        "noise_level = 5\n",
        "\n",
        "# Create the series\n",
        "series = baseline + trend(time, slope) + seasonality(time, period=365, amplitude=amplitude)\n",
        "# Update with noise\n",
        "series += noise(time, noise_level, seed=42)\n",
        "\n",
        "# Split data at the split_time for train/valid sets\n",
        "split_time = 1000\n",
        "time_train = time[:split_time]\n",
        "x_train = series[:split_time]\n",
        "time_valid = time[split_time:]\n",
        "x_valid = series[split_time:]\n",
        "\n",
        "# Setup constants for the Single layer NN\n",
        "window_size = 20\n",
        "batch_size = 32\n",
        "shuffle_buffer_size = 1000"
      ],
      "execution_count": 0,
      "outputs": []
    },
    {
      "cell_type": "code",
      "metadata": {
        "id": "4sTTIOCbyShY",
        "colab_type": "code",
        "colab": {}
      },
      "source": [
        "# Function to create a windowed dataset\n",
        "# Takes in a data series, window size and batch size and shuffle and creates a windowed dataset\n",
        "\n",
        "def windowed_dataset(series, window_size, batch_size, shuffle_buffer):\n",
        "  dataset = tf.data.Dataset.from_tensor_slices(series)\n",
        "  dataset = dataset.window(window_size + 1, shift=1, drop_remainder=True)\n",
        "  dataset = dataset.flat_map(lambda window: window.batch(window_size + 1))\n",
        "  dataset = dataset.shuffle(shuffle_buffer).map(lambda window: (window[:-1], window[-1]))\n",
        "  dataset = dataset.batch(batch_size).prefetch(1)\n",
        "  return dataset"
      ],
      "execution_count": 0,
      "outputs": []
    },
    {
      "cell_type": "code",
      "metadata": {
        "id": "A1Hl39rklkLm",
        "colab_type": "code",
        "outputId": "eac9c310-08d1-40f0-9564-de0c358475e5",
        "colab": {
          "base_uri": "https://localhost:8080/",
          "height": 1000
        }
      },
      "source": [
        "# Train for 100 epochs to find best learning rate\n",
        "\n",
        "tf.keras.backend.clear_session() # clear any internal variables to allow quick experimentation\n",
        "tf.random.set_seed(51) # set model seeds for repeatable results\n",
        "np.random.seed(51)\n",
        "\n",
        "# Create windowed dataset\n",
        "train_set = windowed_dataset(x_train, window_size, batch_size, shuffle_buffer_size)\n",
        "\n",
        "# Create LSTM with almbda layers:\n",
        "  # add the required extra input dimension to the timeseries data\n",
        "  # scale the outputs to the same size as the data to aid in training\n",
        "model = tf.keras.models.Sequential([\n",
        "  tf.keras.layers.Lambda(lambda x: tf.expand_dims(x, axis=-1),\n",
        "                      input_shape=[None]),\n",
        "  tf.keras.layers.Bidirectional(tf.keras.layers.LSTM(64, return_sequences=True)), # 64 cell, bidirectional LSTM layer, returning single output\n",
        "  tf.keras.layers.Bidirectional(tf.keras.layers.LSTM(32)), # 32 cell LSTM layer\n",
        "  tf.keras.layers.Dense(1),\n",
        "  tf.keras.layers.Lambda(lambda x: x * 100.0)\n",
        "])\n",
        "\n",
        "# Create learning rate callback - increasing over training \n",
        "lr_schedule = tf.keras.callbacks.LearningRateScheduler(\n",
        "    lambda epoch: 1e-8 * 10**(epoch / 20))\n",
        "\n",
        "# Train model\n",
        "optimizer = tf.keras.optimizers.SGD(lr=1e-8, momentum=0.9)\n",
        "\n",
        "model.compile(loss=tf.keras.losses.Huber(),\n",
        "              optimizer=optimizer,\n",
        "              metrics=[\"mae\"])\n",
        "history = model.fit(train_set, epochs=100, callbacks=[lr_schedule])"
      ],
      "execution_count": 4,
      "outputs": [
        {
          "output_type": "stream",
          "text": [
            "Epoch 1/100\n",
            "31/31 [==============================] - 6s 193ms/step - loss: 45.6785 - mae: 46.1983\n",
            "Epoch 2/100\n",
            "31/31 [==============================] - 0s 15ms/step - loss: 44.3198 - mae: 44.8503\n",
            "Epoch 3/100\n",
            "31/31 [==============================] - 0s 15ms/step - loss: 42.7381 - mae: 43.2295\n",
            "Epoch 4/100\n",
            "31/31 [==============================] - 1s 17ms/step - loss: 40.9464 - mae: 41.4185\n",
            "Epoch 5/100\n",
            "31/31 [==============================] - 1s 17ms/step - loss: 38.8876 - mae: 39.4037\n",
            "Epoch 6/100\n",
            "31/31 [==============================] - 0s 15ms/step - loss: 36.5755 - mae: 37.1622\n",
            "Epoch 7/100\n",
            "31/31 [==============================] - 0s 16ms/step - loss: 34.1326 - mae: 34.6631\n",
            "Epoch 8/100\n",
            "31/31 [==============================] - 1s 16ms/step - loss: 31.4248 - mae: 31.8684\n",
            "Epoch 9/100\n",
            "31/31 [==============================] - 0s 15ms/step - loss: 28.1557 - mae: 28.7456\n",
            "Epoch 10/100\n",
            "31/31 [==============================] - 0s 15ms/step - loss: 24.7526 - mae: 25.3037\n",
            "Epoch 11/100\n",
            "31/31 [==============================] - 0s 16ms/step - loss: 21.0814 - mae: 21.6222\n",
            "Epoch 12/100\n",
            "31/31 [==============================] - 0s 15ms/step - loss: 17.3519 - mae: 17.8330\n",
            "Epoch 13/100\n",
            "31/31 [==============================] - 0s 16ms/step - loss: 14.0765 - mae: 14.5731\n",
            "Epoch 14/100\n",
            "31/31 [==============================] - 1s 17ms/step - loss: 11.9042 - mae: 12.4173\n",
            "Epoch 15/100\n",
            "31/31 [==============================] - 1s 18ms/step - loss: 10.8224 - mae: 11.2836\n",
            "Epoch 16/100\n",
            "31/31 [==============================] - 1s 18ms/step - loss: 10.3450 - mae: 10.8421\n",
            "Epoch 17/100\n",
            "31/31 [==============================] - 0s 16ms/step - loss: 10.1742 - mae: 10.6373\n",
            "Epoch 18/100\n",
            "31/31 [==============================] - 0s 16ms/step - loss: 10.0079 - mae: 10.4804\n",
            "Epoch 19/100\n",
            "31/31 [==============================] - 0s 14ms/step - loss: 9.8197 - mae: 10.3467\n",
            "Epoch 20/100\n",
            "31/31 [==============================] - 1s 17ms/step - loss: 9.6872 - mae: 10.2072\n",
            "Epoch 21/100\n",
            "31/31 [==============================] - 0s 16ms/step - loss: 9.5459 - mae: 10.0615\n",
            "Epoch 22/100\n",
            "31/31 [==============================] - 0s 13ms/step - loss: 9.3940 - mae: 9.9113\n",
            "Epoch 23/100\n",
            "31/31 [==============================] - 0s 13ms/step - loss: 9.2656 - mae: 9.7545\n",
            "Epoch 24/100\n",
            "31/31 [==============================] - 0s 15ms/step - loss: 9.0898 - mae: 9.5973\n",
            "Epoch 25/100\n",
            "31/31 [==============================] - 0s 15ms/step - loss: 8.9481 - mae: 9.4550\n",
            "Epoch 26/100\n",
            "31/31 [==============================] - 0s 14ms/step - loss: 8.8159 - mae: 9.3210\n",
            "Epoch 27/100\n",
            "31/31 [==============================] - 0s 16ms/step - loss: 8.7039 - mae: 9.2059\n",
            "Epoch 28/100\n",
            "31/31 [==============================] - 0s 13ms/step - loss: 8.6196 - mae: 9.1024\n",
            "Epoch 29/100\n",
            "31/31 [==============================] - 0s 16ms/step - loss: 8.4894 - mae: 8.9995\n",
            "Epoch 30/100\n",
            "31/31 [==============================] - 0s 14ms/step - loss: 8.4067 - mae: 8.8898\n",
            "Epoch 31/100\n",
            "31/31 [==============================] - 0s 14ms/step - loss: 8.2569 - mae: 8.7188\n",
            "Epoch 32/100\n",
            "31/31 [==============================] - 0s 15ms/step - loss: 8.0612 - mae: 8.5459\n",
            "Epoch 33/100\n",
            "31/31 [==============================] - 0s 14ms/step - loss: 7.9655 - mae: 8.4323\n",
            "Epoch 34/100\n",
            "31/31 [==============================] - 0s 15ms/step - loss: 7.9049 - mae: 8.3542\n",
            "Epoch 35/100\n",
            "31/31 [==============================] - 0s 13ms/step - loss: 7.7553 - mae: 8.2401\n",
            "Epoch 36/100\n",
            "31/31 [==============================] - 0s 15ms/step - loss: 7.6641 - mae: 8.1126\n",
            "Epoch 37/100\n",
            "31/31 [==============================] - 0s 13ms/step - loss: 7.5258 - mae: 7.9996\n",
            "Epoch 38/100\n",
            "31/31 [==============================] - 0s 15ms/step - loss: 7.3733 - mae: 7.8720\n",
            "Epoch 39/100\n",
            "31/31 [==============================] - 0s 14ms/step - loss: 7.3644 - mae: 7.8372\n",
            "Epoch 40/100\n",
            "31/31 [==============================] - 0s 16ms/step - loss: 7.1843 - mae: 7.6438\n",
            "Epoch 41/100\n",
            "31/31 [==============================] - 0s 14ms/step - loss: 7.1771 - mae: 7.6816\n",
            "Epoch 42/100\n",
            "31/31 [==============================] - 0s 13ms/step - loss: 6.8140 - mae: 7.2798\n",
            "Epoch 43/100\n",
            "31/31 [==============================] - 0s 16ms/step - loss: 6.5324 - mae: 7.0395\n",
            "Epoch 44/100\n",
            "31/31 [==============================] - 0s 14ms/step - loss: 6.4449 - mae: 6.9485\n",
            "Epoch 45/100\n",
            "31/31 [==============================] - 0s 16ms/step - loss: 6.3333 - mae: 6.8213\n",
            "Epoch 46/100\n",
            "31/31 [==============================] - 0s 14ms/step - loss: 5.9722 - mae: 6.4760\n",
            "Epoch 47/100\n",
            "31/31 [==============================] - 0s 13ms/step - loss: 5.8004 - mae: 6.2668\n",
            "Epoch 48/100\n",
            "31/31 [==============================] - 0s 14ms/step - loss: 5.8762 - mae: 6.3458\n",
            "Epoch 49/100\n",
            "31/31 [==============================] - 0s 16ms/step - loss: 5.5919 - mae: 6.0642\n",
            "Epoch 50/100\n",
            "31/31 [==============================] - 0s 15ms/step - loss: 5.4464 - mae: 5.9354\n",
            "Epoch 51/100\n",
            "31/31 [==============================] - 0s 15ms/step - loss: 5.3911 - mae: 5.8666\n",
            "Epoch 52/100\n",
            "31/31 [==============================] - 0s 15ms/step - loss: 5.1997 - mae: 5.6834\n",
            "Epoch 53/100\n",
            "31/31 [==============================] - 0s 13ms/step - loss: 5.2381 - mae: 5.7251\n",
            "Epoch 54/100\n",
            "31/31 [==============================] - 0s 14ms/step - loss: 5.2119 - mae: 5.6847\n",
            "Epoch 55/100\n",
            "31/31 [==============================] - 0s 14ms/step - loss: 5.0381 - mae: 5.5315\n",
            "Epoch 56/100\n",
            "31/31 [==============================] - 0s 16ms/step - loss: 4.8570 - mae: 5.3433\n",
            "Epoch 57/100\n",
            "31/31 [==============================] - 0s 16ms/step - loss: 5.0653 - mae: 5.5361\n",
            "Epoch 58/100\n",
            "31/31 [==============================] - 0s 16ms/step - loss: 4.9238 - mae: 5.3804\n",
            "Epoch 59/100\n",
            "31/31 [==============================] - 0s 14ms/step - loss: 4.9383 - mae: 5.4353\n",
            "Epoch 60/100\n",
            "31/31 [==============================] - 0s 16ms/step - loss: 5.6439 - mae: 6.0952\n",
            "Epoch 61/100\n",
            "31/31 [==============================] - 0s 14ms/step - loss: 4.8481 - mae: 5.3296\n",
            "Epoch 62/100\n",
            "31/31 [==============================] - 0s 15ms/step - loss: 5.0908 - mae: 5.5957\n",
            "Epoch 63/100\n",
            "31/31 [==============================] - 0s 15ms/step - loss: 4.9632 - mae: 5.4578\n",
            "Epoch 64/100\n",
            "31/31 [==============================] - 0s 15ms/step - loss: 5.2143 - mae: 5.6954\n",
            "Epoch 65/100\n",
            "31/31 [==============================] - 0s 15ms/step - loss: 4.8390 - mae: 5.3273\n",
            "Epoch 66/100\n",
            "31/31 [==============================] - 0s 16ms/step - loss: 4.8807 - mae: 5.3620\n",
            "Epoch 67/100\n",
            "31/31 [==============================] - 0s 14ms/step - loss: 5.1318 - mae: 5.6249\n",
            "Epoch 68/100\n",
            "31/31 [==============================] - 0s 15ms/step - loss: 4.8186 - mae: 5.3168\n",
            "Epoch 69/100\n",
            "31/31 [==============================] - 0s 15ms/step - loss: 5.2571 - mae: 5.7425\n",
            "Epoch 70/100\n",
            "31/31 [==============================] - 0s 16ms/step - loss: 5.1377 - mae: 5.6335\n",
            "Epoch 71/100\n",
            "31/31 [==============================] - 0s 14ms/step - loss: 4.7357 - mae: 5.2064\n",
            "Epoch 72/100\n",
            "31/31 [==============================] - 0s 14ms/step - loss: 5.0889 - mae: 5.5802\n",
            "Epoch 73/100\n",
            "31/31 [==============================] - 0s 16ms/step - loss: 5.5019 - mae: 5.9818\n",
            "Epoch 74/100\n",
            "31/31 [==============================] - 0s 13ms/step - loss: 5.9609 - mae: 6.4572\n",
            "Epoch 75/100\n",
            "31/31 [==============================] - 0s 15ms/step - loss: 4.7067 - mae: 5.1607\n",
            "Epoch 76/100\n",
            "31/31 [==============================] - 0s 14ms/step - loss: 6.3063 - mae: 6.8156\n",
            "Epoch 77/100\n",
            "31/31 [==============================] - 0s 13ms/step - loss: 5.8616 - mae: 6.3372\n",
            "Epoch 78/100\n",
            "31/31 [==============================] - 0s 14ms/step - loss: 7.5776 - mae: 7.9791\n",
            "Epoch 79/100\n",
            "31/31 [==============================] - 1s 17ms/step - loss: 7.7291 - mae: 8.2199\n",
            "Epoch 80/100\n",
            "31/31 [==============================] - 0s 15ms/step - loss: 6.0093 - mae: 6.4724\n",
            "Epoch 81/100\n",
            "31/31 [==============================] - 0s 13ms/step - loss: 6.0533 - mae: 6.5227\n",
            "Epoch 82/100\n",
            "31/31 [==============================] - 0s 15ms/step - loss: 5.9841 - mae: 6.4619\n",
            "Epoch 83/100\n",
            "31/31 [==============================] - 0s 13ms/step - loss: 6.0514 - mae: 6.5046\n",
            "Epoch 84/100\n",
            "31/31 [==============================] - 0s 13ms/step - loss: 5.8289 - mae: 6.2982\n",
            "Epoch 85/100\n",
            "31/31 [==============================] - 0s 16ms/step - loss: 6.8871 - mae: 7.3386\n",
            "Epoch 86/100\n",
            "31/31 [==============================] - 0s 16ms/step - loss: 7.2546 - mae: 7.7833\n",
            "Epoch 87/100\n",
            "31/31 [==============================] - 0s 15ms/step - loss: 5.9019 - mae: 6.4028\n",
            "Epoch 88/100\n",
            "31/31 [==============================] - 0s 16ms/step - loss: 6.7414 - mae: 7.2499\n",
            "Epoch 89/100\n",
            "31/31 [==============================] - 0s 15ms/step - loss: 7.5669 - mae: 8.0534\n",
            "Epoch 90/100\n",
            "31/31 [==============================] - 0s 13ms/step - loss: 6.0271 - mae: 6.5072\n",
            "Epoch 91/100\n",
            "31/31 [==============================] - 0s 14ms/step - loss: 5.1787 - mae: 5.6548\n",
            "Epoch 92/100\n",
            "31/31 [==============================] - 0s 13ms/step - loss: 6.2964 - mae: 6.7682\n",
            "Epoch 93/100\n",
            "31/31 [==============================] - 0s 12ms/step - loss: 6.8060 - mae: 7.2768\n",
            "Epoch 94/100\n",
            "31/31 [==============================] - 0s 14ms/step - loss: 8.2365 - mae: 8.7423\n",
            "Epoch 95/100\n",
            "31/31 [==============================] - 0s 16ms/step - loss: 6.1324 - mae: 6.5343\n",
            "Epoch 96/100\n",
            "31/31 [==============================] - 1s 16ms/step - loss: 7.8204 - mae: 8.3386\n",
            "Epoch 97/100\n",
            "31/31 [==============================] - 0s 15ms/step - loss: 8.5794 - mae: 9.0428\n",
            "Epoch 98/100\n",
            "31/31 [==============================] - 0s 15ms/step - loss: 7.9625 - mae: 8.4717\n",
            "Epoch 99/100\n",
            "31/31 [==============================] - 0s 16ms/step - loss: 7.3040 - mae: 7.7980\n",
            "Epoch 100/100\n",
            "31/31 [==============================] - 0s 13ms/step - loss: 9.8751 - mae: 10.3975\n"
          ],
          "name": "stdout"
        }
      ]
    },
    {
      "cell_type": "code",
      "metadata": {
        "id": "AkBsrsXMzoWR",
        "colab_type": "code",
        "outputId": "3db63157-797c-403a-9c6c-ae7b6e6c61c1",
        "colab": {
          "base_uri": "https://localhost:8080/",
          "height": 290
        }
      },
      "source": [
        "plt.semilogx(history.history[\"lr\"], history.history[\"loss\"])\n",
        "plt.axis([1e-8, 1e-4, 0, 30])"
      ],
      "execution_count": 5,
      "outputs": [
        {
          "output_type": "execute_result",
          "data": {
            "text/plain": [
              "[1e-08, 0.0001, 0, 30]"
            ]
          },
          "metadata": {
            "tags": []
          },
          "execution_count": 5
        },
        {
          "output_type": "display_data",
          "data": {
            "image/png": "[encoded data removed]",
            "text/plain": [
              "<Figure size 432x288 with 1 Axes>"
            ]
          },
          "metadata": {
            "tags": []
          }
        }
      ]
    },
    {
      "cell_type": "code",
      "metadata": {
        "id": "4uh-97bpLZCA",
        "colab_type": "code",
        "colab": {
          "base_uri": "https://localhost:8080/",
          "height": 1000
        },
        "outputId": "fb3bedf6-6e2b-4788-c8a5-38e73bd179ac"
      },
      "source": [
        "# Clear previous values for training\n",
        "import tensorflow_addons as tfa # for Lookahead optimizer\n",
        "\n",
        "tf.keras.backend.clear_session()\n",
        "tf.random.set_seed(51)\n",
        "np.random.seed(51)\n",
        "\n",
        "# create dataset\n",
        "train_set = windowed_dataset(x_train, window_size, batch_size, shuffle_buffer_size)\n",
        "\n",
        "# Define LSTM model with Lambda layers to:\n",
        "  # add the required extra input dimension to the timeseries data\n",
        "  # scale the outputs to the same size as the data to aid in training\n",
        "model = tf.keras.models.Sequential([\n",
        "  tf.keras.layers.Lambda(lambda x: tf.expand_dims(x, axis=-1),\n",
        "                      input_shape=[None]),\n",
        "  tf.keras.layers.Bidirectional(tf.keras.layers.LSTM(64, return_sequences=True)), # 64 cell, bidirectional LSTM layer, returning single output\n",
        "  tf.keras.layers.Bidirectional(tf.keras.layers.LSTM(32)), # 32 cell LSTM layer\n",
        "  tf.keras.layers.Dense(1),\n",
        "  tf.keras.layers.Lambda(lambda x: x * 100.0)\n",
        "])\n",
        "\n",
        "\n",
        "# Train model - compare optimizers: SGD with learning rate schedule vs adam with lookahead\n",
        "#optimizer = tf.keras.optimizers.SGD(lr=1e-5, momentum=0.9)\n",
        "optimizer = tfa.optimizers.Lookahead(tf.keras.optimizers.Adam()) # lookahead with Adam wins! in accuracy/loss and speed: 5.1 vs 5.6 MAE\n",
        "\n",
        "model.compile(loss=tf.keras.losses.Huber(), \n",
        "              optimizer=optimizer,\n",
        "              metrics=[\"mae\"])\n",
        "history = model.fit(train_set,epochs=100)"
      ],
      "execution_count": 14,
      "outputs": [
        {
          "output_type": "stream",
          "text": [
            "Epoch 1/100\n",
            "WARNING:tensorflow:From /tensorflow-2.1.0/python3.6/tensorflow_core/python/ops/resource_variable_ops.py:1786: calling BaseResourceVariable.__init__ (from tensorflow.python.ops.resource_variable_ops) with constraint is deprecated and will be removed in a future version.\n",
            "Instructions for updating:\n",
            "If using Keras pass *_constraint arguments to layers.\n",
            "31/31 [==============================] - 5s 177ms/step - loss: 13.8350 - mae: 14.3924\n",
            "Epoch 2/100\n",
            "31/31 [==============================] - 1s 18ms/step - loss: 6.5092 - mae: 7.0168\n",
            "Epoch 3/100\n",
            "31/31 [==============================] - 1s 17ms/step - loss: 5.4037 - mae: 5.8992\n",
            "Epoch 4/100\n",
            "31/31 [==============================] - 0s 15ms/step - loss: 5.3946 - mae: 5.8778\n",
            "Epoch 5/100\n",
            "31/31 [==============================] - 0s 15ms/step - loss: 4.8671 - mae: 5.3484\n",
            "Epoch 6/100\n",
            "31/31 [==============================] - 1s 18ms/step - loss: 5.1534 - mae: 5.6448\n",
            "Epoch 7/100\n",
            "31/31 [==============================] - 0s 16ms/step - loss: 5.0119 - mae: 5.5112\n",
            "Epoch 8/100\n",
            "31/31 [==============================] - 1s 17ms/step - loss: 4.6685 - mae: 5.1569\n",
            "Epoch 9/100\n",
            "31/31 [==============================] - 1s 18ms/step - loss: 4.9464 - mae: 5.4085\n",
            "Epoch 10/100\n",
            "31/31 [==============================] - 1s 17ms/step - loss: 4.5657 - mae: 5.0340\n",
            "Epoch 11/100\n",
            "31/31 [==============================] - 1s 18ms/step - loss: 4.5856 - mae: 5.0587\n",
            "Epoch 12/100\n",
            "31/31 [==============================] - 1s 18ms/step - loss: 4.4416 - mae: 4.9111\n",
            "Epoch 13/100\n",
            "31/31 [==============================] - 1s 17ms/step - loss: 4.6962 - mae: 5.1905\n",
            "Epoch 14/100\n",
            "31/31 [==============================] - 1s 18ms/step - loss: 4.6979 - mae: 5.1836\n",
            "Epoch 15/100\n",
            "31/31 [==============================] - 1s 17ms/step - loss: 4.5076 - mae: 4.9902\n",
            "Epoch 16/100\n",
            "31/31 [==============================] - 1s 18ms/step - loss: 4.5103 - mae: 4.9859\n",
            "Epoch 17/100\n",
            "31/31 [==============================] - 1s 17ms/step - loss: 4.7282 - mae: 5.1906\n",
            "Epoch 18/100\n",
            "31/31 [==============================] - 1s 18ms/step - loss: 4.7624 - mae: 5.1983\n",
            "Epoch 19/100\n",
            "31/31 [==============================] - 1s 18ms/step - loss: 4.5870 - mae: 5.0643\n",
            "Epoch 20/100\n",
            "31/31 [==============================] - 1s 17ms/step - loss: 4.6413 - mae: 5.1087\n",
            "Epoch 21/100\n",
            "31/31 [==============================] - 0s 15ms/step - loss: 4.5707 - mae: 5.0546\n",
            "Epoch 22/100\n",
            "31/31 [==============================] - 1s 17ms/step - loss: 4.4651 - mae: 4.9315\n",
            "Epoch 23/100\n",
            "31/31 [==============================] - 0s 16ms/step - loss: 4.5069 - mae: 4.9909\n",
            "Epoch 24/100\n",
            "31/31 [==============================] - 0s 14ms/step - loss: 4.4997 - mae: 4.9685\n",
            "Epoch 25/100\n",
            "31/31 [==============================] - 0s 15ms/step - loss: 4.3870 - mae: 4.8705\n",
            "Epoch 26/100\n",
            "31/31 [==============================] - 0s 16ms/step - loss: 4.4701 - mae: 4.9550\n",
            "Epoch 27/100\n",
            "31/31 [==============================] - 0s 16ms/step - loss: 4.4291 - mae: 4.8979\n",
            "Epoch 28/100\n",
            "31/31 [==============================] - 1s 19ms/step - loss: 4.7517 - mae: 5.2141\n",
            "Epoch 29/100\n",
            "31/31 [==============================] - 1s 19ms/step - loss: 4.4718 - mae: 4.9584\n",
            "Epoch 30/100\n",
            "31/31 [==============================] - 1s 18ms/step - loss: 4.3542 - mae: 4.8395\n",
            "Epoch 31/100\n",
            "31/31 [==============================] - 0s 15ms/step - loss: 4.7415 - mae: 5.2089\n",
            "Epoch 32/100\n",
            "31/31 [==============================] - 1s 17ms/step - loss: 4.4813 - mae: 4.9635\n",
            "Epoch 33/100\n",
            "31/31 [==============================] - 0s 16ms/step - loss: 4.2713 - mae: 4.7256\n",
            "Epoch 34/100\n",
            "31/31 [==============================] - 1s 18ms/step - loss: 4.3655 - mae: 4.8333\n",
            "Epoch 35/100\n",
            "31/31 [==============================] - 1s 18ms/step - loss: 4.5003 - mae: 4.9639\n",
            "Epoch 36/100\n",
            "31/31 [==============================] - 0s 16ms/step - loss: 4.3339 - mae: 4.7935\n",
            "Epoch 37/100\n",
            "31/31 [==============================] - 1s 19ms/step - loss: 4.2821 - mae: 4.7631\n",
            "Epoch 38/100\n",
            "31/31 [==============================] - 1s 16ms/step - loss: 4.3559 - mae: 4.8448\n",
            "Epoch 39/100\n",
            "31/31 [==============================] - 1s 19ms/step - loss: 4.1820 - mae: 4.6616\n",
            "Epoch 40/100\n",
            "31/31 [==============================] - 1s 17ms/step - loss: 4.4640 - mae: 4.9227\n",
            "Epoch 41/100\n",
            "31/31 [==============================] - 1s 18ms/step - loss: 4.2891 - mae: 4.7748\n",
            "Epoch 42/100\n",
            "31/31 [==============================] - 1s 16ms/step - loss: 4.5291 - mae: 5.0078\n",
            "Epoch 43/100\n",
            "31/31 [==============================] - 0s 15ms/step - loss: 4.3073 - mae: 4.7913\n",
            "Epoch 44/100\n",
            "31/31 [==============================] - 1s 17ms/step - loss: 4.3954 - mae: 4.8760\n",
            "Epoch 45/100\n",
            "31/31 [==============================] - 0s 16ms/step - loss: 4.3977 - mae: 4.8727\n",
            "Epoch 46/100\n",
            "31/31 [==============================] - 0s 15ms/step - loss: 4.4888 - mae: 4.9726\n",
            "Epoch 47/100\n",
            "31/31 [==============================] - 1s 18ms/step - loss: 4.2008 - mae: 4.6824\n",
            "Epoch 48/100\n",
            "31/31 [==============================] - 1s 22ms/step - loss: 4.3567 - mae: 4.8373\n",
            "Epoch 49/100\n",
            "31/31 [==============================] - 1s 17ms/step - loss: 4.3970 - mae: 4.8677\n",
            "Epoch 50/100\n",
            "31/31 [==============================] - 1s 18ms/step - loss: 4.2021 - mae: 4.6854\n",
            "Epoch 51/100\n",
            "31/31 [==============================] - 0s 14ms/step - loss: 4.2558 - mae: 4.7164\n",
            "Epoch 52/100\n",
            "31/31 [==============================] - 1s 18ms/step - loss: 4.2623 - mae: 4.7360\n",
            "Epoch 53/100\n",
            "31/31 [==============================] - 1s 17ms/step - loss: 4.3786 - mae: 4.8487\n",
            "Epoch 54/100\n",
            "31/31 [==============================] - 1s 18ms/step - loss: 4.3096 - mae: 4.7906\n",
            "Epoch 55/100\n",
            "31/31 [==============================] - 0s 15ms/step - loss: 4.2799 - mae: 4.7641\n",
            "Epoch 56/100\n",
            "31/31 [==============================] - 0s 15ms/step - loss: 4.3091 - mae: 4.7927\n",
            "Epoch 57/100\n",
            "31/31 [==============================] - 0s 15ms/step - loss: 4.4400 - mae: 4.9227\n",
            "Epoch 58/100\n",
            "31/31 [==============================] - 0s 15ms/step - loss: 4.1769 - mae: 4.6402\n",
            "Epoch 59/100\n",
            "31/31 [==============================] - 1s 16ms/step - loss: 4.2652 - mae: 4.7456\n",
            "Epoch 60/100\n",
            "31/31 [==============================] - 1s 19ms/step - loss: 4.4653 - mae: 4.9188\n",
            "Epoch 61/100\n",
            "31/31 [==============================] - 1s 19ms/step - loss: 4.1319 - mae: 4.6051\n",
            "Epoch 62/100\n",
            "31/31 [==============================] - 1s 21ms/step - loss: 4.3657 - mae: 4.8470\n",
            "Epoch 63/100\n",
            "31/31 [==============================] - 0s 15ms/step - loss: 4.2784 - mae: 4.7683\n",
            "Epoch 64/100\n",
            "31/31 [==============================] - 0s 16ms/step - loss: 4.1837 - mae: 4.6794\n",
            "Epoch 65/100\n",
            "31/31 [==============================] - 1s 17ms/step - loss: 4.2093 - mae: 4.6907\n",
            "Epoch 66/100\n",
            "31/31 [==============================] - 1s 17ms/step - loss: 4.4464 - mae: 4.9338\n",
            "Epoch 67/100\n",
            "31/31 [==============================] - 1s 17ms/step - loss: 4.1745 - mae: 4.6516\n",
            "Epoch 68/100\n",
            "31/31 [==============================] - 1s 18ms/step - loss: 4.1885 - mae: 4.6759\n",
            "Epoch 69/100\n",
            "31/31 [==============================] - 1s 18ms/step - loss: 4.2912 - mae: 4.7629\n",
            "Epoch 70/100\n",
            "31/31 [==============================] - 1s 17ms/step - loss: 4.1642 - mae: 4.6534\n",
            "Epoch 71/100\n",
            "31/31 [==============================] - 1s 21ms/step - loss: 4.3374 - mae: 4.8145\n",
            "Epoch 72/100\n",
            "31/31 [==============================] - 1s 20ms/step - loss: 4.1820 - mae: 4.6656\n",
            "Epoch 73/100\n",
            "31/31 [==============================] - 1s 17ms/step - loss: 4.2078 - mae: 4.6737\n",
            "Epoch 74/100\n",
            "31/31 [==============================] - 0s 16ms/step - loss: 4.1464 - mae: 4.6123\n",
            "Epoch 75/100\n",
            "31/31 [==============================] - 1s 17ms/step - loss: 4.0762 - mae: 4.5451\n",
            "Epoch 76/100\n",
            "31/31 [==============================] - 1s 20ms/step - loss: 4.2534 - mae: 4.7242\n",
            "Epoch 77/100\n",
            "31/31 [==============================] - 1s 17ms/step - loss: 4.1006 - mae: 4.5565\n",
            "Epoch 78/100\n",
            "31/31 [==============================] - 0s 16ms/step - loss: 4.3005 - mae: 4.7841\n",
            "Epoch 79/100\n",
            "31/31 [==============================] - 1s 17ms/step - loss: 4.1533 - mae: 4.6051\n",
            "Epoch 80/100\n",
            "31/31 [==============================] - 0s 15ms/step - loss: 4.1358 - mae: 4.6239\n",
            "Epoch 81/100\n",
            "31/31 [==============================] - 1s 18ms/step - loss: 4.0390 - mae: 4.5306\n",
            "Epoch 82/100\n",
            "31/31 [==============================] - 1s 18ms/step - loss: 4.0565 - mae: 4.5366\n",
            "Epoch 83/100\n",
            "31/31 [==============================] - 1s 17ms/step - loss: 4.1566 - mae: 4.6078\n",
            "Epoch 84/100\n",
            "31/31 [==============================] - 1s 18ms/step - loss: 4.0997 - mae: 4.5977\n",
            "Epoch 85/100\n",
            "31/31 [==============================] - 0s 15ms/step - loss: 4.1537 - mae: 4.6191\n",
            "Epoch 86/100\n",
            "31/31 [==============================] - 0s 15ms/step - loss: 4.4027 - mae: 4.8905\n",
            "Epoch 87/100\n",
            "31/31 [==============================] - 1s 18ms/step - loss: 4.0926 - mae: 4.5642\n",
            "Epoch 88/100\n",
            "31/31 [==============================] - 1s 17ms/step - loss: 4.0514 - mae: 4.5312\n",
            "Epoch 89/100\n",
            "31/31 [==============================] - 1s 17ms/step - loss: 4.1804 - mae: 4.6510\n",
            "Epoch 90/100\n",
            "31/31 [==============================] - 1s 19ms/step - loss: 4.0256 - mae: 4.4998\n",
            "Epoch 91/100\n",
            "31/31 [==============================] - 1s 17ms/step - loss: 4.0375 - mae: 4.5068\n",
            "Epoch 92/100\n",
            "31/31 [==============================] - 1s 17ms/step - loss: 4.0410 - mae: 4.5167\n",
            "Epoch 93/100\n",
            "31/31 [==============================] - 0s 15ms/step - loss: 4.0807 - mae: 4.5502\n",
            "Epoch 94/100\n",
            "31/31 [==============================] - 1s 18ms/step - loss: 4.1688 - mae: 4.6375\n",
            "Epoch 95/100\n",
            "31/31 [==============================] - 0s 15ms/step - loss: 4.2267 - mae: 4.6974\n",
            "Epoch 96/100\n",
            "31/31 [==============================] - 1s 17ms/step - loss: 4.1242 - mae: 4.6059\n",
            "Epoch 97/100\n",
            "31/31 [==============================] - 1s 17ms/step - loss: 4.1299 - mae: 4.5929\n",
            "Epoch 98/100\n",
            "31/31 [==============================] - 1s 16ms/step - loss: 4.0821 - mae: 4.5417\n",
            "Epoch 99/100\n",
            "31/31 [==============================] - 1s 17ms/step - loss: 3.9667 - mae: 4.4405\n",
            "Epoch 100/100\n",
            "31/31 [==============================] - 1s 16ms/step - loss: 4.0872 - mae: 4.5666\n"
          ],
          "name": "stdout"
        }
      ]
    },
    {
      "cell_type": "code",
      "metadata": {
        "id": "icGDaND7z0ne",
        "colab_type": "code",
        "outputId": "a20bdd8f-b97f-4c58-a546-d67a2226f2b6",
        "colab": {
          "base_uri": "https://localhost:8080/",
          "height": 388
        }
      },
      "source": [
        "# Predict the next values\n",
        "\n",
        "forecast = []\n",
        "results = []\n",
        "# Iterate over the data by passing in a window size of data and predicting the next value\n",
        "# Do a standard linear regression to get the result: Y = W0*X0 +.... W19*X19 + b\n",
        "# add to list\n",
        "for time in range(len(series) - window_size):\n",
        "  forecast.append(model.predict(series[time:time + window_size][np.newaxis]))\n",
        "\n",
        "# As data was split into train/valid, take the valid data after the split time to forecast it\n",
        "forecast = forecast[split_time-window_size:]\n",
        "results = np.array(forecast)[:, 0, 0]\n",
        "\n",
        "# plot series\n",
        "plt.figure(figsize=(10, 6))\n",
        "\n",
        "plot_series(time_valid, x_valid)\n",
        "plot_series(time_valid, results)"
      ],
      "execution_count": 15,
      "outputs": [
        {
          "output_type": "display_data",
          "data": {
            "image/png": "[encoded data removed]",
            "text/plain": [
              "<Figure size 720x432 with 1 Axes>"
            ]
          },
          "metadata": {
            "tags": []
          }
        }
      ]
    },
    {
      "cell_type": "code",
      "metadata": {
        "id": "KfPeqI7rz4LD",
        "colab_type": "code",
        "outputId": "b0bca51c-92b6-43ae-e57c-86d76b8ba248",
        "colab": {
          "base_uri": "https://localhost:8080/",
          "height": 34
        }
      },
      "source": [
        "tf.keras.metrics.mean_absolute_error(x_valid, results).numpy()"
      ],
      "execution_count": 16,
      "outputs": [
        {
          "output_type": "execute_result",
          "data": {
            "text/plain": [
              "5.1134787"
            ]
          },
          "metadata": {
            "tags": []
          },
          "execution_count": 16
        }
      ]
    },
    {
      "cell_type": "code",
      "metadata": {
        "id": "JUsdZB_tzDLe",
        "colab_type": "code",
        "outputId": "b1ece259-232a-4c4d-b45e-776129412bdb",
        "colab": {
          "base_uri": "https://localhost:8080/",
          "height": 607
        }
      },
      "source": [
        "import matplotlib.image  as mpimg\n",
        "import matplotlib.pyplot as plt\n",
        "\n",
        "#-----------------------------------------------------------\n",
        "# Retrieve a list of list results on training and test data\n",
        "# sets for each training epoch\n",
        "#-----------------------------------------------------------\n",
        "mae=history.history['mae']\n",
        "loss=history.history['loss']\n",
        "\n",
        "epochs=range(len(loss)) # Get number of epochs\n",
        "\n",
        "#------------------------------------------------\n",
        "# Plot MAE and Loss\n",
        "#------------------------------------------------\n",
        "plt.plot(epochs, mae, 'r')\n",
        "plt.plot(epochs, loss, 'b')\n",
        "plt.title('MAE and Loss')\n",
        "plt.xlabel(\"Epochs\")\n",
        "plt.ylabel(\"Accuracy\")\n",
        "plt.legend([\"MAE\", \"Loss\"])\n",
        "\n",
        "plt.figure()\n",
        "\n",
        "epochs_zoom = epochs[200:]\n",
        "mae_zoom = mae[200:]\n",
        "loss_zoom = loss[200:]\n",
        "\n",
        "#------------------------------------------------\n",
        "# Plot Zoomed MAE and Loss\n",
        "#------------------------------------------------\n",
        "plt.plot(epochs_zoom, mae_zoom, 'r')\n",
        "plt.plot(epochs_zoom, loss_zoom, 'b')\n",
        "plt.title('MAE and Loss')\n",
        "plt.xlabel(\"Epochs\")\n",
        "plt.ylabel(\"Accuracy\")\n",
        "plt.legend([\"MAE\", \"Loss\"])\n",
        "\n",
        "plt.figure()"
      ],
      "execution_count": 17,
      "outputs": [
        {
          "output_type": "execute_result",
          "data": {
            "text/plain": [
              "<Figure size 432x288 with 0 Axes>"
            ]
          },
          "metadata": {
            "tags": []
          },
          "execution_count": 17
        },
        {
          "output_type": "display_data",
          "data": {
            "image/png": "[encoded data removed]",
            "text/plain": [
              "<Figure size 432x288 with 1 Axes>"
            ]
          },
          "metadata": {
            "tags": []
          }
        },
        {
          "output_type": "display_data",
          "data": {
            "image/png": "[encoded data removed]",
            "text/plain": [
              "<Figure size 432x288 with 1 Axes>"
            ]
          },
          "metadata": {
            "tags": []
          }
        },
        {
          "output_type": "display_data",
          "data": {
            "text/plain": [
              "<Figure size 432x288 with 0 Axes>"
            ]
          },
          "metadata": {
            "tags": []
          }
        }
      ]
    },
    {
      "cell_type": "markdown",
      "metadata": {
        "id": "bGTYXUAJPIEF",
        "colab_type": "text"
      },
      "source": [
        "## Now try with 3 layer LSTM - gives worse performance"
      ]
    },
    {
      "cell_type": "code",
      "metadata": {
        "id": "FJ3R8ysauz9e",
        "colab_type": "code",
        "colab": {
          "base_uri": "https://localhost:8080/",
          "height": 1000
        },
        "outputId": "c8df195a-afd9-42cf-85af-7b439703758f"
      },
      "source": [
        "tf.keras.backend.clear_session()# Clear previous values for training\n",
        "import tensorflow_addons as tfa # for Lookahead optimizer\n",
        "\n",
        "tf.keras.backend.clear_session()\n",
        "tf.random.set_seed(51)\n",
        "np.random.seed(51)\n",
        "\n",
        "# create dataset\n",
        "train_set = windowed_dataset(x_train, window_size, batch_size, shuffle_buffer_size)\n",
        "\n",
        "# Define LSTM model with Lambda layers to:\n",
        "  # add the required extra input dimension to the timeseries data\n",
        "  # scale the outputs to the same size as the data to aid in training\n",
        "model = tf.keras.models.Sequential([\n",
        "  tf.keras.layers.Lambda(lambda x: tf.expand_dims(x, axis=-1),\n",
        "                      input_shape=[None]),\n",
        "  tf.keras.layers.Bidirectional(tf.keras.layers.LSTM(64, return_sequences=True)), # 64 cell, bidirectional LSTM layer, returning single output\n",
        "  tf.keras.layers.Bidirectional(tf.keras.layers.LSTM(32, return_sequences=True)), # 32 cell bidirectional LSTM layer, returning single output\n",
        "  tf.keras.layers.Bidirectional(tf.keras.layers.LSTM(32)), # 32 cell bidirectional LSTM layer\n",
        "  tf.keras.layers.Dense(1),\n",
        "  tf.keras.layers.Lambda(lambda x: x * 100.0)\n",
        "])\n",
        "\n",
        "\n",
        "# Train model - compare optimizers: SGD with learning rate schedule vs adam with lookahead\n",
        "#optimizer = tf.keras.optimizers.SGD(lr=1e-5, momentum=0.9)\n",
        "optimizer = tfa.optimizers.Lookahead(tf.keras.optimizers.Adam()) # lookahead with Adam wins! in accuracy/loss and speed: 5.1 vs 5.6 MAE\n",
        "\n",
        "model.compile(loss=tf.keras.losses.Huber(), \n",
        "              optimizer=optimizer,\n",
        "              metrics=[\"mae\"])\n",
        "history = model.fit(train_set,epochs=100)"
      ],
      "execution_count": 20,
      "outputs": [
        {
          "output_type": "stream",
          "text": [
            "Epoch 1/100\n",
            "31/31 [==============================] - 8s 244ms/step - loss: 13.5363 - mae: 14.1044\n",
            "Epoch 2/100\n",
            "31/31 [==============================] - 1s 20ms/step - loss: 6.7340 - mae: 7.2471\n",
            "Epoch 3/100\n",
            "31/31 [==============================] - 1s 21ms/step - loss: 5.7285 - mae: 6.2252\n",
            "Epoch 4/100\n",
            "31/31 [==============================] - 1s 22ms/step - loss: 5.3944 - mae: 5.8744\n",
            "Epoch 5/100\n",
            "31/31 [==============================] - 1s 20ms/step - loss: 4.9333 - mae: 5.4152\n",
            "Epoch 6/100\n",
            "31/31 [==============================] - 1s 22ms/step - loss: 5.3008 - mae: 5.7950\n",
            "Epoch 7/100\n",
            "31/31 [==============================] - 1s 24ms/step - loss: 4.9793 - mae: 5.4727\n",
            "Epoch 8/100\n",
            "31/31 [==============================] - 1s 22ms/step - loss: 4.7074 - mae: 5.1939\n",
            "Epoch 9/100\n",
            "31/31 [==============================] - 1s 25ms/step - loss: 4.9152 - mae: 5.3586\n",
            "Epoch 10/100\n",
            "31/31 [==============================] - 1s 23ms/step - loss: 4.7648 - mae: 5.2450\n",
            "Epoch 11/100\n",
            "31/31 [==============================] - 1s 24ms/step - loss: 4.6148 - mae: 5.0910\n",
            "Epoch 12/100\n",
            "31/31 [==============================] - 1s 21ms/step - loss: 4.4472 - mae: 4.9181\n",
            "Epoch 13/100\n",
            "31/31 [==============================] - 1s 23ms/step - loss: 4.8588 - mae: 5.3577\n",
            "Epoch 14/100\n",
            "31/31 [==============================] - 1s 25ms/step - loss: 4.7128 - mae: 5.1989\n",
            "Epoch 15/100\n",
            "31/31 [==============================] - 1s 25ms/step - loss: 4.4974 - mae: 4.9825\n",
            "Epoch 16/100\n",
            "31/31 [==============================] - 1s 24ms/step - loss: 4.6886 - mae: 5.1727\n",
            "Epoch 17/100\n",
            "31/31 [==============================] - 1s 23ms/step - loss: 4.6386 - mae: 5.0952\n",
            "Epoch 18/100\n",
            "31/31 [==============================] - 1s 25ms/step - loss: 4.6902 - mae: 5.1368\n",
            "Epoch 19/100\n",
            "31/31 [==============================] - 1s 26ms/step - loss: 4.5284 - mae: 5.0062\n",
            "Epoch 20/100\n",
            "31/31 [==============================] - 1s 22ms/step - loss: 4.5598 - mae: 5.0191\n",
            "Epoch 21/100\n",
            "31/31 [==============================] - 1s 22ms/step - loss: 4.5032 - mae: 4.9840\n",
            "Epoch 22/100\n",
            "31/31 [==============================] - 1s 24ms/step - loss: 4.4106 - mae: 4.8766\n",
            "Epoch 23/100\n",
            "31/31 [==============================] - 1s 24ms/step - loss: 4.5235 - mae: 5.0126\n",
            "Epoch 24/100\n",
            "31/31 [==============================] - 1s 20ms/step - loss: 4.4982 - mae: 4.9777\n",
            "Epoch 25/100\n",
            "31/31 [==============================] - 1s 24ms/step - loss: 4.3406 - mae: 4.8232\n",
            "Epoch 26/100\n",
            "31/31 [==============================] - 1s 22ms/step - loss: 4.4970 - mae: 4.9869\n",
            "Epoch 27/100\n",
            "31/31 [==============================] - 1s 25ms/step - loss: 4.4128 - mae: 4.8776\n",
            "Epoch 28/100\n",
            "31/31 [==============================] - 1s 22ms/step - loss: 4.7704 - mae: 5.2455\n",
            "Epoch 29/100\n",
            "31/31 [==============================] - 1s 28ms/step - loss: 4.3770 - mae: 4.8648\n",
            "Epoch 30/100\n",
            "31/31 [==============================] - 1s 23ms/step - loss: 4.3393 - mae: 4.8262\n",
            "Epoch 31/100\n",
            "31/31 [==============================] - 1s 25ms/step - loss: 4.5969 - mae: 5.0675\n",
            "Epoch 32/100\n",
            "31/31 [==============================] - 1s 23ms/step - loss: 4.4039 - mae: 4.8852\n",
            "Epoch 33/100\n",
            "31/31 [==============================] - 1s 21ms/step - loss: 4.3152 - mae: 4.7735\n",
            "Epoch 34/100\n",
            "31/31 [==============================] - 1s 21ms/step - loss: 4.3449 - mae: 4.8165\n",
            "Epoch 35/100\n",
            "31/31 [==============================] - 1s 24ms/step - loss: 4.4188 - mae: 4.8812\n",
            "Epoch 36/100\n",
            "31/31 [==============================] - 1s 28ms/step - loss: 4.4014 - mae: 4.8662\n",
            "Epoch 37/100\n",
            "31/31 [==============================] - 1s 25ms/step - loss: 4.3065 - mae: 4.7893\n",
            "Epoch 38/100\n",
            "31/31 [==============================] - 1s 24ms/step - loss: 4.4527 - mae: 4.9374\n",
            "Epoch 39/100\n",
            "31/31 [==============================] - 1s 25ms/step - loss: 4.1601 - mae: 4.6443\n",
            "Epoch 40/100\n",
            "31/31 [==============================] - 1s 25ms/step - loss: 4.3479 - mae: 4.7994\n",
            "Epoch 41/100\n",
            "31/31 [==============================] - 1s 22ms/step - loss: 4.4422 - mae: 4.9304\n",
            "Epoch 42/100\n",
            "31/31 [==============================] - 1s 25ms/step - loss: 4.3636 - mae: 4.8410\n",
            "Epoch 43/100\n",
            "31/31 [==============================] - 1s 24ms/step - loss: 4.2487 - mae: 4.7317\n",
            "Epoch 44/100\n",
            "31/31 [==============================] - 1s 21ms/step - loss: 4.3481 - mae: 4.8303\n",
            "Epoch 45/100\n",
            "31/31 [==============================] - 1s 24ms/step - loss: 4.2088 - mae: 4.6784\n",
            "Epoch 46/100\n",
            "31/31 [==============================] - 1s 23ms/step - loss: 4.2862 - mae: 4.7667\n",
            "Epoch 47/100\n",
            "31/31 [==============================] - 1s 24ms/step - loss: 4.2187 - mae: 4.7026\n",
            "Epoch 48/100\n",
            "31/31 [==============================] - 1s 23ms/step - loss: 4.2860 - mae: 4.7668\n",
            "Epoch 49/100\n",
            "31/31 [==============================] - 1s 22ms/step - loss: 4.3571 - mae: 4.8272\n",
            "Epoch 50/100\n",
            "31/31 [==============================] - 1s 22ms/step - loss: 4.2050 - mae: 4.6894\n",
            "Epoch 51/100\n",
            "31/31 [==============================] - 1s 24ms/step - loss: 4.3789 - mae: 4.8384\n",
            "Epoch 52/100\n",
            "31/31 [==============================] - 1s 24ms/step - loss: 4.1957 - mae: 4.6768\n",
            "Epoch 53/100\n",
            "31/31 [==============================] - 1s 20ms/step - loss: 4.3376 - mae: 4.8086\n",
            "Epoch 54/100\n",
            "31/31 [==============================] - 1s 24ms/step - loss: 4.3079 - mae: 4.7742\n",
            "Epoch 55/100\n",
            "31/31 [==============================] - 1s 23ms/step - loss: 4.2485 - mae: 4.7355\n",
            "Epoch 56/100\n",
            "31/31 [==============================] - 1s 24ms/step - loss: 4.2458 - mae: 4.7335\n",
            "Epoch 57/100\n",
            "31/31 [==============================] - 1s 24ms/step - loss: 4.2994 - mae: 4.7760\n",
            "Epoch 58/100\n",
            "31/31 [==============================] - 1s 22ms/step - loss: 4.1592 - mae: 4.6196\n",
            "Epoch 59/100\n",
            "31/31 [==============================] - 1s 21ms/step - loss: 4.2525 - mae: 4.7269\n",
            "Epoch 60/100\n",
            "31/31 [==============================] - 1s 24ms/step - loss: 4.3543 - mae: 4.8068\n",
            "Epoch 61/100\n",
            "31/31 [==============================] - 1s 22ms/step - loss: 4.1435 - mae: 4.6241\n",
            "Epoch 62/100\n",
            "31/31 [==============================] - 1s 20ms/step - loss: 4.3798 - mae: 4.8486\n",
            "Epoch 63/100\n",
            "31/31 [==============================] - 1s 20ms/step - loss: 4.3141 - mae: 4.8070\n",
            "Epoch 64/100\n",
            "31/31 [==============================] - 1s 22ms/step - loss: 4.1126 - mae: 4.6094\n",
            "Epoch 65/100\n",
            "31/31 [==============================] - 1s 22ms/step - loss: 4.0789 - mae: 4.5599\n",
            "Epoch 66/100\n",
            "31/31 [==============================] - 1s 24ms/step - loss: 4.3083 - mae: 4.7914\n",
            "Epoch 67/100\n",
            "31/31 [==============================] - 1s 25ms/step - loss: 4.2148 - mae: 4.6919\n",
            "Epoch 68/100\n",
            "31/31 [==============================] - 1s 22ms/step - loss: 4.1998 - mae: 4.6851\n",
            "Epoch 69/100\n",
            "31/31 [==============================] - 1s 24ms/step - loss: 4.2516 - mae: 4.7217\n",
            "Epoch 70/100\n",
            "31/31 [==============================] - 1s 23ms/step - loss: 4.1410 - mae: 4.6393\n",
            "Epoch 71/100\n",
            "31/31 [==============================] - 1s 23ms/step - loss: 4.2400 - mae: 4.7205\n",
            "Epoch 72/100\n",
            "31/31 [==============================] - 1s 23ms/step - loss: 4.1317 - mae: 4.6190\n",
            "Epoch 73/100\n",
            "31/31 [==============================] - 1s 22ms/step - loss: 4.1445 - mae: 4.6113\n",
            "Epoch 74/100\n",
            "31/31 [==============================] - 1s 20ms/step - loss: 4.1475 - mae: 4.6146\n",
            "Epoch 75/100\n",
            "31/31 [==============================] - 1s 24ms/step - loss: 4.0415 - mae: 4.5066\n",
            "Epoch 76/100\n",
            "31/31 [==============================] - 1s 22ms/step - loss: 4.2112 - mae: 4.6799\n",
            "Epoch 77/100\n",
            "31/31 [==============================] - 1s 24ms/step - loss: 4.1041 - mae: 4.5565\n",
            "Epoch 78/100\n",
            "31/31 [==============================] - 1s 22ms/step - loss: 4.1652 - mae: 4.6484\n",
            "Epoch 79/100\n",
            "31/31 [==============================] - 1s 21ms/step - loss: 4.1073 - mae: 4.5548\n",
            "Epoch 80/100\n",
            "31/31 [==============================] - 1s 21ms/step - loss: 4.1581 - mae: 4.6485\n",
            "Epoch 81/100\n",
            "31/31 [==============================] - 1s 23ms/step - loss: 4.0782 - mae: 4.5731\n",
            "Epoch 82/100\n",
            "31/31 [==============================] - 1s 24ms/step - loss: 4.0974 - mae: 4.5758\n",
            "Epoch 83/100\n",
            "31/31 [==============================] - 1s 19ms/step - loss: 4.1102 - mae: 4.5654\n",
            "Epoch 84/100\n",
            "31/31 [==============================] - 1s 23ms/step - loss: 4.1476 - mae: 4.6436\n",
            "Epoch 85/100\n",
            "31/31 [==============================] - 1s 21ms/step - loss: 4.2199 - mae: 4.6801\n",
            "Epoch 86/100\n",
            "31/31 [==============================] - 1s 20ms/step - loss: 4.2929 - mae: 4.7784\n",
            "Epoch 87/100\n",
            "31/31 [==============================] - 1s 22ms/step - loss: 4.1886 - mae: 4.6578\n",
            "Epoch 88/100\n",
            "31/31 [==============================] - 1s 24ms/step - loss: 4.2191 - mae: 4.7007\n",
            "Epoch 89/100\n",
            "31/31 [==============================] - 1s 24ms/step - loss: 4.2318 - mae: 4.6999\n",
            "Epoch 90/100\n",
            "31/31 [==============================] - 1s 22ms/step - loss: 4.0814 - mae: 4.5628\n",
            "Epoch 91/100\n",
            "31/31 [==============================] - 1s 23ms/step - loss: 4.0626 - mae: 4.5371\n",
            "Epoch 92/100\n",
            "31/31 [==============================] - 1s 23ms/step - loss: 4.0399 - mae: 4.5192\n",
            "Epoch 93/100\n",
            "31/31 [==============================] - 1s 25ms/step - loss: 4.0909 - mae: 4.5455\n",
            "Epoch 94/100\n",
            "31/31 [==============================] - 1s 23ms/step - loss: 4.0834 - mae: 4.5581\n",
            "Epoch 95/100\n",
            "31/31 [==============================] - 1s 23ms/step - loss: 4.1474 - mae: 4.6170\n",
            "Epoch 96/100\n",
            "31/31 [==============================] - 1s 22ms/step - loss: 4.0649 - mae: 4.5478\n",
            "Epoch 97/100\n",
            "31/31 [==============================] - 1s 23ms/step - loss: 4.0356 - mae: 4.4996\n",
            "Epoch 98/100\n",
            "31/31 [==============================] - 1s 24ms/step - loss: 4.0567 - mae: 4.5217\n",
            "Epoch 99/100\n",
            "31/31 [==============================] - 1s 24ms/step - loss: 3.9583 - mae: 4.4358\n",
            "Epoch 100/100\n",
            "31/31 [==============================] - 1s 22ms/step - loss: 4.0397 - mae: 4.5197\n"
          ],
          "name": "stdout"
        }
      ]
    },
    {
      "cell_type": "code",
      "metadata": {
        "colab_type": "code",
        "outputId": "d896e40c-4dd0-4ed9-e857-0ff3cc924580",
        "id": "MXtJcZ0_Pavg",
        "colab": {
          "base_uri": "https://localhost:8080/",
          "height": 388
        }
      },
      "source": [
        "# Predict the next values\n",
        "\n",
        "forecast = []\n",
        "results = []\n",
        "# Iterate over the data by passing in a window size of data and predicting the next value\n",
        "# Do a standard linear regression to get the result: Y = W0*X0 +.... W19*X19 + b\n",
        "# add to list\n",
        "for time in range(len(series) - window_size):\n",
        "  forecast.append(model.predict(series[time:time + window_size][np.newaxis]))\n",
        "\n",
        "# As data was split into train/valid, take the valid data after the split time to forecast it\n",
        "forecast = forecast[split_time-window_size:]\n",
        "results = np.array(forecast)[:, 0, 0]\n",
        "\n",
        "# plot series\n",
        "plt.figure(figsize=(10, 6))\n",
        "\n",
        "plot_series(time_valid, x_valid)\n",
        "plot_series(time_valid, results)"
      ],
      "execution_count": 21,
      "outputs": [
        {
          "output_type": "display_data",
          "data": {
            "image/png": "[encoded data removed]",
            "text/plain": [
              "<Figure size 720x432 with 1 Axes>"
            ]
          },
          "metadata": {
            "tags": []
          }
        }
      ]
    },
    {
      "cell_type": "code",
      "metadata": {
        "colab_type": "code",
        "outputId": "524f5cc0-a43c-4940-d31d-d7f1e7407ca3",
        "id": "fpPZFAPMPavm",
        "colab": {
          "base_uri": "https://localhost:8080/",
          "height": 34
        }
      },
      "source": [
        "tf.keras.metrics.mean_absolute_error(x_valid, results).numpy()"
      ],
      "execution_count": 22,
      "outputs": [
        {
          "output_type": "execute_result",
          "data": {
            "text/plain": [
              "5.5436907"
            ]
          },
          "metadata": {
            "tags": []
          },
          "execution_count": 22
        }
      ]
    },
    {
      "cell_type": "code",
      "metadata": {
        "colab_type": "code",
        "outputId": "994f5f41-2974-46d8-91a8-9e1b07856415",
        "id": "GA9TmEdvPavp",
        "colab": {
          "base_uri": "https://localhost:8080/",
          "height": 607
        }
      },
      "source": [
        "import matplotlib.image  as mpimg\n",
        "import matplotlib.pyplot as plt\n",
        "\n",
        "#-----------------------------------------------------------\n",
        "# Retrieve a list of list results on training and test data\n",
        "# sets for each training epoch\n",
        "#-----------------------------------------------------------\n",
        "mae=history.history['mae']\n",
        "loss=history.history['loss']\n",
        "\n",
        "epochs=range(len(loss)) # Get number of epochs\n",
        "\n",
        "#------------------------------------------------\n",
        "# Plot MAE and Loss\n",
        "#------------------------------------------------\n",
        "plt.plot(epochs, mae, 'r')\n",
        "plt.plot(epochs, loss, 'b')\n",
        "plt.title('MAE and Loss')\n",
        "plt.xlabel(\"Epochs\")\n",
        "plt.ylabel(\"Accuracy\")\n",
        "plt.legend([\"MAE\", \"Loss\"])\n",
        "\n",
        "plt.figure()\n",
        "\n",
        "epochs_zoom = epochs[200:]\n",
        "mae_zoom = mae[200:]\n",
        "loss_zoom = loss[200:]\n",
        "\n",
        "#------------------------------------------------\n",
        "# Plot Zoomed MAE and Loss\n",
        "#------------------------------------------------\n",
        "plt.plot(epochs_zoom, mae_zoom, 'r')\n",
        "plt.plot(epochs_zoom, loss_zoom, 'b')\n",
        "plt.title('MAE and Loss')\n",
        "plt.xlabel(\"Epochs\")\n",
        "plt.ylabel(\"Accuracy\")\n",
        "plt.legend([\"MAE\", \"Loss\"])\n",
        "\n",
        "plt.figure()"
      ],
      "execution_count": 23,
      "outputs": [
        {
          "output_type": "execute_result",
          "data": {
            "text/plain": [
              "<Figure size 432x288 with 0 Axes>"
            ]
          },
          "metadata": {
            "tags": []
          },
          "execution_count": 23
        },
        {
          "output_type": "display_data",
          "data": {
            "image/png": "[encoded data removed]",
            "text/plain": [
              "<Figure size 432x288 with 1 Axes>"
            ]
          },
          "metadata": {
            "tags": []
          }
        },
        {
          "output_type": "display_data",
          "data": {
            "image/png": "[encoded data removed]",
            "text/plain": [
              "<Figure size 432x288 with 1 Axes>"
            ]
          },
          "metadata": {
            "tags": []
          }
        },
        {
          "output_type": "display_data",
          "data": {
            "text/plain": [
              "<Figure size 432x288 with 0 Axes>"
            ]
          },
          "metadata": {
            "tags": []
          }
        }
      ]
    },
    {
      "cell_type": "code",
      "metadata": {
        "id": "ZFL9t2k0QKQk",
        "colab_type": "code",
        "colab": {}
      },
      "source": [
        ""
      ],
      "execution_count": 0,
      "outputs": []
    }
  ]
}