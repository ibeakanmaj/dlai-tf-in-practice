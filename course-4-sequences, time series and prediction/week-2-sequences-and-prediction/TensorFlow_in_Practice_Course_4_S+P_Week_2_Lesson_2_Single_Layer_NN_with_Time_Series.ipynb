{
  "nbformat": 4,
  "nbformat_minor": 0,
  "metadata": {
    "colab": {
      "name": "deeplearning.ai - TensorFlow in Practice - Course 4 S+P - Week 2 -  Lesson 2 - Single Layer NN with Time Series.ipynb",
      "provenance": [],
      "collapsed_sections": [],
      "include_colab_link": true
    },
    "kernelspec": {
      "name": "python3",
      "display_name": "Python 3"
    }
  },
  "cells": [
    {
      "cell_type": "markdown",
      "metadata": {
        "id": "view-in-github",
        "colab_type": "text"
      },
      "source": [
        "<a href=\"https://colab.research.google.com/github/mikful/dlai-tf-in-practice/blob/master/TensorFlow_in_Practice_Course_4_S%2BP_Week_2_Lesson_2_Single_Layer_NN_with_Time_Series.ipynb\" target=\"_parent\"><img src=\"https://colab.research.google.com/assets/colab-badge.svg\" alt=\"Open In Colab\"/></a>"
      ]
    },
    {
      "cell_type": "markdown",
      "metadata": {
        "id": "l7QEtmPwajJ9",
        "colab_type": "text"
      },
      "source": [
        "# Single Layer NN Regression Model for Time Series data"
      ]
    },
    {
      "cell_type": "code",
      "metadata": {
        "id": "BOjujz601HcS",
        "colab_type": "code",
        "outputId": "9aa5a2ab-9b08-4cc8-91ec-96216d055ad7",
        "colab": {
          "base_uri": "https://localhost:8080/",
          "height": 34
        }
      },
      "source": [
        "%tensorflow_version 2.x\n",
        "import tensorflow as tf\n",
        "import numpy as np\n",
        "import matplotlib.pyplot as plt\n",
        "print(tf.__version__)"
      ],
      "execution_count": 0,
      "outputs": [
        {
          "output_type": "stream",
          "text": [
            "2.1.0\n"
          ],
          "name": "stdout"
        }
      ]
    },
    {
      "cell_type": "code",
      "metadata": {
        "colab_type": "code",
        "id": "Zswl7jRtGzkk",
        "colab": {}
      },
      "source": [
        "def plot_series(time, series, format=\"-\", start=0, end=None):\n",
        "    plt.plot(time[start:end], series[start:end], format)\n",
        "    plt.xlabel(\"Time\")\n",
        "    plt.ylabel(\"Value\")\n",
        "    plt.grid(True)\n",
        "\n",
        "def trend(time, slope=0):\n",
        "    return slope * time\n",
        "\n",
        "def seasonal_pattern(season_time):\n",
        "    \"\"\"Just an arbitrary pattern, you can change it if you wish\"\"\"\n",
        "    return np.where(season_time < 0.4,\n",
        "                    np.cos(season_time * 2 * np.pi),\n",
        "                    1 / np.exp(3 * season_time))\n",
        "\n",
        "def seasonality(time, period, amplitude=1, phase=0):\n",
        "    \"\"\"Repeats the same pattern at each period\"\"\"\n",
        "    season_time = ((time + phase) % period) / period\n",
        "    return amplitude * seasonal_pattern(season_time)\n",
        "\n",
        "def noise(time, noise_level=1, seed=None):\n",
        "    rnd = np.random.RandomState(seed)\n",
        "    return rnd.randn(len(time)) * noise_level\n",
        "\n",
        "time = np.arange(4 * 365 + 1, dtype=\"float32\")\n",
        "baseline = 10\n",
        "series = trend(time, 0.1)  \n",
        "baseline = 10\n",
        "amplitude = 40\n",
        "slope = 0.05\n",
        "noise_level = 5\n",
        "\n",
        "# Create the series\n",
        "series = baseline + trend(time, slope) + seasonality(time, period=365, amplitude=amplitude)\n",
        "# Update with noise\n",
        "series += noise(time, noise_level, seed=42)\n",
        "\n",
        "\n",
        "# Split at the split time\n",
        "split_time = 1000\n",
        "time_train = time[:split_time]\n",
        "x_train = series[:split_time]\n",
        "time_valid = time[split_time:]\n",
        "x_valid = series[split_time:]\n",
        "\n",
        "\n",
        "# Setup constants for the Single layer NN\n",
        "window_size = 20\n",
        "batch_size = 32\n",
        "shuffle_buffer_size = 1000"
      ],
      "execution_count": 0,
      "outputs": []
    },
    {
      "cell_type": "code",
      "metadata": {
        "id": "4sTTIOCbyShY",
        "colab_type": "code",
        "colab": {}
      },
      "source": [
        "# Function to create a windowed dataset\n",
        "# Takes in a data series, window size and batch size and shuffle and creates a windowed dataset\n",
        "\n",
        "def windowed_dataset(series, window_size, batch_size, shuffle_buffer):\n",
        "  dataset = tf.data.Dataset.from_tensor_slices(series) # Create dataset\n",
        "  dataset = dataset.window(window_size + 1, shift=1, drop_remainder=True) # Slice the data up into windows, each one shifted by one time step, drop remainder to standardize size\n",
        "  dataset = dataset.flat_map(lambda window: window.batch(window_size + 1)) # flatten the data to window size + 1\n",
        "  dataset = dataset.shuffle(shuffle_buffer).map(lambda window: (window[:-1], window[-1])) # shuffle the data - shuffle buffer speeds up - if you have 100,000 items and set to 1000, will fill with first 1000 elements, pick one at random, then replace that the 1001 element before randomly picking again and so on - so speeds things up by effectively choosing from smaller data sample\n",
        "  # map lambda function splits the suffled data into the x (all but last) and y (last) data items\n",
        "  dataset = dataset.batch(batch_size).prefetch(1) # The data is then batched and returned\n",
        "  return dataset "
      ],
      "execution_count": 0,
      "outputs": []
    },
    {
      "cell_type": "code",
      "metadata": {
        "id": "ou-WmE2AXu6B",
        "colab_type": "code",
        "outputId": "948ba209-d70d-4a09-bca1-84cd052ed1cb",
        "colab": {
          "base_uri": "https://localhost:8080/",
          "height": 1000
        }
      },
      "source": [
        "# Create windowed dataset\n",
        "dataset = windowed_dataset(x_train, window_size, batch_size, shuffle_buffer_size)\n",
        "print(dataset)\n",
        "\n",
        "# Create Single Layer NN\n",
        "  # assign layer to object in order to print out learned weights layer\n",
        "l0 = tf.keras.layers.Dense(1, input_shape=[window_size]) # input shape = window size\n",
        "model = tf.keras.models.Sequential([l0])\n",
        "\n",
        "# Compile and train the model\n",
        "model.compile(loss=\"mse\", optimizer=tf.keras.optimizers.SGD(learning_rate=1e-6, momentum =0.9))\n",
        "#model.compile(loss=\"mse\", optimizer=tf.keras.optimizers.Adam())\n",
        "model.fit(dataset,epochs=100,verbose=2)"
      ],
      "execution_count": 0,
      "outputs": [
        {
          "output_type": "stream",
          "text": [
            "<PrefetchDataset shapes: ((None, None), (None,)), types: (tf.float32, tf.float32)>\n",
            "Epoch 1/100\n",
            "31/31 - 0s - loss: 3345.7479\n",
            "Epoch 2/100\n",
            "31/31 - 0s - loss: 335.9129\n",
            "Epoch 3/100\n",
            "31/31 - 0s - loss: 128.9101\n",
            "Epoch 4/100\n",
            "31/31 - 0s - loss: 115.1596\n",
            "Epoch 5/100\n",
            "31/31 - 0s - loss: 107.0382\n",
            "Epoch 6/100\n",
            "31/31 - 0s - loss: 103.2129\n",
            "Epoch 7/100\n",
            "31/31 - 0s - loss: 96.5614\n",
            "Epoch 8/100\n",
            "31/31 - 0s - loss: 92.6626\n",
            "Epoch 9/100\n",
            "31/31 - 0s - loss: 89.7424\n",
            "Epoch 10/100\n",
            "31/31 - 0s - loss: 89.8514\n",
            "Epoch 11/100\n",
            "31/31 - 0s - loss: 85.0416\n",
            "Epoch 12/100\n",
            "31/31 - 0s - loss: 82.2971\n",
            "Epoch 13/100\n",
            "31/31 - 0s - loss: 80.7096\n",
            "Epoch 14/100\n",
            "31/31 - 0s - loss: 78.8858\n",
            "Epoch 15/100\n",
            "31/31 - 0s - loss: 76.0776\n",
            "Epoch 16/100\n",
            "31/31 - 0s - loss: 74.5906\n",
            "Epoch 17/100\n",
            "31/31 - 0s - loss: 72.9506\n",
            "Epoch 18/100\n",
            "31/31 - 0s - loss: 72.6802\n",
            "Epoch 19/100\n",
            "31/31 - 0s - loss: 69.8300\n",
            "Epoch 20/100\n",
            "31/31 - 0s - loss: 68.9584\n",
            "Epoch 21/100\n",
            "31/31 - 0s - loss: 68.3290\n",
            "Epoch 22/100\n",
            "31/31 - 0s - loss: 66.6622\n",
            "Epoch 23/100\n",
            "31/31 - 0s - loss: 65.5006\n",
            "Epoch 24/100\n",
            "31/31 - 0s - loss: 63.7338\n",
            "Epoch 25/100\n",
            "31/31 - 0s - loss: 64.3770\n",
            "Epoch 26/100\n",
            "31/31 - 0s - loss: 63.6119\n",
            "Epoch 27/100\n",
            "31/31 - 0s - loss: 61.8033\n",
            "Epoch 28/100\n",
            "31/31 - 0s - loss: 60.7324\n",
            "Epoch 29/100\n",
            "31/31 - 0s - loss: 60.7435\n",
            "Epoch 30/100\n",
            "31/31 - 0s - loss: 59.6296\n",
            "Epoch 31/100\n",
            "31/31 - 0s - loss: 58.5656\n",
            "Epoch 32/100\n",
            "31/31 - 0s - loss: 57.9792\n",
            "Epoch 33/100\n",
            "31/31 - 0s - loss: 56.9141\n",
            "Epoch 34/100\n",
            "31/31 - 0s - loss: 57.5761\n",
            "Epoch 35/100\n",
            "31/31 - 0s - loss: 56.1521\n",
            "Epoch 36/100\n",
            "31/31 - 0s - loss: 55.7531\n",
            "Epoch 37/100\n",
            "31/31 - 0s - loss: 55.9797\n",
            "Epoch 38/100\n",
            "31/31 - 0s - loss: 54.4798\n",
            "Epoch 39/100\n",
            "31/31 - 0s - loss: 53.6792\n",
            "Epoch 40/100\n",
            "31/31 - 0s - loss: 53.5388\n",
            "Epoch 41/100\n",
            "31/31 - 0s - loss: 52.9187\n",
            "Epoch 42/100\n",
            "31/31 - 0s - loss: 53.0743\n",
            "Epoch 43/100\n",
            "31/31 - 0s - loss: 52.3506\n",
            "Epoch 44/100\n",
            "31/31 - 0s - loss: 52.8305\n",
            "Epoch 45/100\n",
            "31/31 - 0s - loss: 52.7586\n",
            "Epoch 46/100\n",
            "31/31 - 0s - loss: 51.2528\n",
            "Epoch 47/100\n",
            "31/31 - 0s - loss: 50.9601\n",
            "Epoch 48/100\n",
            "31/31 - 0s - loss: 51.1931\n",
            "Epoch 49/100\n",
            "31/31 - 0s - loss: 50.7266\n",
            "Epoch 50/100\n",
            "31/31 - 0s - loss: 50.1534\n",
            "Epoch 51/100\n",
            "31/31 - 0s - loss: 49.9088\n",
            "Epoch 52/100\n",
            "31/31 - 0s - loss: 49.3767\n",
            "Epoch 53/100\n",
            "31/31 - 0s - loss: 49.4817\n",
            "Epoch 54/100\n",
            "31/31 - 0s - loss: 49.2717\n",
            "Epoch 55/100\n",
            "31/31 - 0s - loss: 49.3923\n",
            "Epoch 56/100\n",
            "31/31 - 0s - loss: 48.9237\n",
            "Epoch 57/100\n",
            "31/31 - 0s - loss: 48.7915\n",
            "Epoch 58/100\n",
            "31/31 - 0s - loss: 48.1491\n",
            "Epoch 59/100\n",
            "31/31 - 0s - loss: 48.3373\n",
            "Epoch 60/100\n",
            "31/31 - 0s - loss: 48.0327\n",
            "Epoch 61/100\n",
            "31/31 - 0s - loss: 47.9207\n",
            "Epoch 62/100\n",
            "31/31 - 0s - loss: 48.1445\n",
            "Epoch 63/100\n",
            "31/31 - 0s - loss: 48.1544\n",
            "Epoch 64/100\n",
            "31/31 - 0s - loss: 47.2311\n",
            "Epoch 65/100\n",
            "31/31 - 0s - loss: 47.0436\n",
            "Epoch 66/100\n",
            "31/31 - 0s - loss: 47.3610\n",
            "Epoch 67/100\n",
            "31/31 - 0s - loss: 47.0864\n",
            "Epoch 68/100\n",
            "31/31 - 0s - loss: 46.9401\n",
            "Epoch 69/100\n",
            "31/31 - 0s - loss: 46.6093\n",
            "Epoch 70/100\n",
            "31/31 - 0s - loss: 47.2589\n",
            "Epoch 71/100\n",
            "31/31 - 0s - loss: 46.2288\n",
            "Epoch 72/100\n",
            "31/31 - 0s - loss: 46.4322\n",
            "Epoch 73/100\n",
            "31/31 - 0s - loss: 46.2387\n",
            "Epoch 74/100\n",
            "31/31 - 0s - loss: 47.6581\n",
            "Epoch 75/100\n",
            "31/31 - 0s - loss: 45.8551\n",
            "Epoch 76/100\n",
            "31/31 - 0s - loss: 45.4283\n",
            "Epoch 77/100\n",
            "31/31 - 0s - loss: 45.6729\n",
            "Epoch 78/100\n",
            "31/31 - 0s - loss: 45.6982\n",
            "Epoch 79/100\n",
            "31/31 - 0s - loss: 46.0337\n",
            "Epoch 80/100\n",
            "31/31 - 0s - loss: 44.9386\n",
            "Epoch 81/100\n",
            "31/31 - 0s - loss: 44.8885\n",
            "Epoch 82/100\n",
            "31/31 - 0s - loss: 45.4461\n",
            "Epoch 83/100\n",
            "31/31 - 0s - loss: 45.2479\n",
            "Epoch 84/100\n",
            "31/31 - 0s - loss: 45.5329\n",
            "Epoch 85/100\n",
            "31/31 - 0s - loss: 44.5509\n",
            "Epoch 86/100\n",
            "31/31 - 0s - loss: 44.7762\n",
            "Epoch 87/100\n",
            "31/31 - 0s - loss: 45.5875\n",
            "Epoch 88/100\n",
            "31/31 - 0s - loss: 45.1760\n",
            "Epoch 89/100\n",
            "31/31 - 0s - loss: 44.9854\n",
            "Epoch 90/100\n",
            "31/31 - 0s - loss: 45.1538\n",
            "Epoch 91/100\n",
            "31/31 - 0s - loss: 44.6888\n",
            "Epoch 92/100\n",
            "31/31 - 0s - loss: 44.8952\n",
            "Epoch 93/100\n",
            "31/31 - 0s - loss: 44.4345\n",
            "Epoch 94/100\n",
            "31/31 - 0s - loss: 44.1827\n",
            "Epoch 95/100\n",
            "31/31 - 0s - loss: 44.6209\n",
            "Epoch 96/100\n",
            "31/31 - 0s - loss: 44.1316\n",
            "Epoch 97/100\n",
            "31/31 - 0s - loss: 45.1037\n",
            "Epoch 98/100\n",
            "31/31 - 0s - loss: 44.5856\n",
            "Epoch 99/100\n",
            "31/31 - 0s - loss: 43.8104\n",
            "Epoch 100/100\n",
            "31/31 - 0s - loss: 44.3851\n"
          ],
          "name": "stdout"
        },
        {
          "output_type": "execute_result",
          "data": {
            "text/plain": [
              "<tensorflow.python.keras.callbacks.History at 0x7fdbd28b7240>"
            ]
          },
          "metadata": {
            "tags": []
          },
          "execution_count": 17
        }
      ]
    },
    {
      "cell_type": "code",
      "metadata": {
        "id": "pf_XaFs_bL1X",
        "colab_type": "code",
        "outputId": "9320a5a6-893f-4c8e-8227-00e3314be197",
        "colab": {
          "base_uri": "https://localhost:8080/",
          "height": 357
        }
      },
      "source": [
        "# Inspect the layer weights \n",
        "# first array has 20 weights - each value is weights for the 20 nodes (same as input)\n",
        "# second array has 1 bias term for the layer\n",
        "print(\"Layer weights {}\".format(l0.get_weights()))"
      ],
      "execution_count": 0,
      "outputs": [
        {
          "output_type": "stream",
          "text": [
            "Layer weights [array([[-0.02881221],\n",
            "       [ 0.00067277],\n",
            "       [ 0.00518323],\n",
            "       [ 0.0081747 ],\n",
            "       [-0.02620612],\n",
            "       [ 0.11298777],\n",
            "       [-0.07181022],\n",
            "       [-0.0122409 ],\n",
            "       [ 0.00148435],\n",
            "       [ 0.01166119],\n",
            "       [ 0.03175369],\n",
            "       [-0.05683012],\n",
            "       [-0.06183011],\n",
            "       [ 0.08835977],\n",
            "       [ 0.07438035],\n",
            "       [ 0.0057574 ],\n",
            "       [ 0.04038026],\n",
            "       [ 0.11032983],\n",
            "       [ 0.36390826],\n",
            "       [ 0.39779386]], dtype=float32), array([0.01840088], dtype=float32)]\n"
          ],
          "name": "stdout"
        }
      ]
    },
    {
      "cell_type": "code",
      "metadata": {
        "id": "-gtVJuLVxR-M",
        "colab_type": "code",
        "outputId": "60ab07cb-c988-400c-bcff-a6e2d2d588a7",
        "colab": {
          "base_uri": "https://localhost:8080/",
          "height": 388
        }
      },
      "source": [
        "# Predict the next values\n",
        "\n",
        "forecast = [] # empty list\n",
        "\n",
        "# Iterate over the data by passing in a window size of data and predicting the next value\n",
        "# Do a standard linear regression to get the result: Y = W0*X0 +.... W19*X19 + b\n",
        "# add to list\n",
        "for time in range(len(series) - window_size):\n",
        "  forecast.append(model.predict(series[time:time + window_size][np.newaxis]))\n",
        "\n",
        "# As data was split into train/valid, take the valid data after the split time to forecast it\n",
        "forecast = forecast[split_time-window_size:]\n",
        "results = np.array(forecast)[:, 0, 0]\n",
        "\n",
        "\n",
        "plt.figure(figsize=(10, 6))\n",
        "\n",
        "plot_series(time_valid, x_valid)\n",
        "plot_series(time_valid, results)"
      ],
      "execution_count": 0,
      "outputs": [
        {
          "output_type": "display_data",
          "data": {
            "image/png": "[encoded data removed]",
            "text/plain": [
              "<Figure size 720x432 with 1 Axes>"
            ]
          },
          "metadata": {
            "tags": []
          }
        }
      ]
    },
    {
      "cell_type": "code",
      "metadata": {
        "colab_type": "code",
        "outputId": "411000e0-90d7-44c8-d21d-2ecce50089c0",
        "id": "hR2BO0Dai_ZT",
        "colab": {
          "base_uri": "https://localhost:8080/",
          "height": 34
        }
      },
      "source": [
        "tf.keras.metrics.mean_absolute_error(x_valid, results).numpy()"
      ],
      "execution_count": 0,
      "outputs": [
        {
          "output_type": "execute_result",
          "data": {
            "text/plain": [
              "5.111128"
            ]
          },
          "metadata": {
            "tags": []
          },
          "execution_count": 73
        }
      ]
    }
  ]
}