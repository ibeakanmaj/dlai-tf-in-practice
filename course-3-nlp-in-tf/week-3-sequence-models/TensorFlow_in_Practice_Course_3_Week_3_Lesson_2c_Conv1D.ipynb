{
  "nbformat": 4,
  "nbformat_minor": 0,
  "metadata": {
    "colab": {
      "name": "deeplearning.ai - TensorFlow in Practice - Course 3 - Week 3 - Lesson 2c - Conv1D.ipynb",
      "provenance": [],
      "collapsed_sections": [],
      "toc_visible": true,
      "include_colab_link": true
    },
    "kernelspec": {
      "name": "python3",
      "display_name": "Python 3"
    },
    "accelerator": "GPU"
  },
  "cells": [
    {
      "cell_type": "markdown",
      "metadata": {
        "id": "view-in-github",
        "colab_type": "text"
      },
      "source": [
        "<a href=\"https://colab.research.google.com/github/mikful/dlai-tf-in-practice/blob/master/TensorFlow_in_Practice_Course_3_Week_3_Lesson_2c_Conv1D.ipynb\" target=\"_parent\"><img src=\"https://colab.research.google.com/assets/colab-badge.svg\" alt=\"Open In Colab\"/></a>"
      ]
    },
    {
      "cell_type": "code",
      "metadata": {
        "id": "jGwXGIXvFhXW",
        "colab_type": "code",
        "colab": {
          "base_uri": "https://localhost:8080/",
          "height": 1000
        },
        "outputId": "c3acccbc-aefa-4ef8-e07a-114a6b9ee236"
      },
      "source": [
        "import json\n",
        "import numpy as np\n",
        "\n",
        "%tensorflow_version 2.x\n",
        "import tensorflow as tf\n",
        "print(f'TensorFlow version: {tf.__version__}')\n",
        "\n",
        "from tensorflow.keras.preprocessing.text import Tokenizer\n",
        "from tensorflow.keras.preprocessing.sequence import pad_sequences\n",
        "\n",
        "!wget --no-check-certificate \\\n",
        "    https://storage.googleapis.com/laurencemoroney-blog.appspot.com/sarcasm.json \\\n",
        "    -O /tmp/sarcasm.json\n",
        "\n",
        "vocab_size = 1000\n",
        "embedding_dim = 16\n",
        "max_length = 120\n",
        "trunc_type='post'\n",
        "padding_type='post'\n",
        "oov_tok = \"<OOV>\"\n",
        "training_size = 20000\n",
        "\n",
        "\n",
        "with open(\"/tmp/sarcasm.json\", 'r') as f:\n",
        "    datastore = json.load(f)\n",
        "\n",
        "\n",
        "sentences = []\n",
        "labels = []\n",
        "urls = []\n",
        "for item in datastore:\n",
        "    sentences.append(item['headline'])\n",
        "    labels.append(item['is_sarcastic'])\n",
        "\n",
        "training_sentences = sentences[0:training_size]\n",
        "testing_sentences = sentences[training_size:]\n",
        "training_labels = np.array(labels[0:training_size])\n",
        "testing_labels = np.array(labels[training_size:])\n",
        "\n",
        "tokenizer = Tokenizer(num_words=vocab_size, oov_token=oov_tok)\n",
        "tokenizer.fit_on_texts(training_sentences)\n",
        "\n",
        "word_index = tokenizer.word_index\n",
        "\n",
        "training_sequences = tokenizer.texts_to_sequences(training_sentences)\n",
        "training_padded = pad_sequences(training_sequences, maxlen=max_length, padding=padding_type, truncating=trunc_type)\n",
        "\n",
        "testing_sequences = tokenizer.texts_to_sequences(testing_sentences)\n",
        "testing_padded = pad_sequences(testing_sequences, maxlen=max_length, padding=padding_type, truncating=trunc_type)\n",
        "\n",
        "model = tf.keras.Sequential([\n",
        "    tf.keras.layers.Embedding(vocab_size, embedding_dim, input_length=max_length),\n",
        "    tf.keras.layers.Conv1D(128, 5, activation='relu'),\n",
        "    tf.keras.layers.GlobalMaxPooling1D(),\n",
        "    tf.keras.layers.Dense(24, activation='relu'),\n",
        "    tf.keras.layers.Dense(1, activation='sigmoid')\n",
        "])\n",
        "model.compile(loss='binary_crossentropy',optimizer='adam',metrics=['accuracy'])\n",
        "model.summary()\n",
        "\n",
        "num_epochs = 50\n",
        "history = model.fit(training_padded, training_labels, epochs=num_epochs, validation_data=(testing_padded, testing_labels), verbose=1)\n",
        "\n"
      ],
      "execution_count": 2,
      "outputs": [
        {
          "output_type": "stream",
          "text": [
            "TensorFlow version: 2.1.0\n",
            "--2020-02-13 15:09:27--  https://storage.googleapis.com/laurencemoroney-blog.appspot.com/sarcasm.json\n",
            "Resolving storage.googleapis.com (storage.googleapis.com)... 74.125.142.128, 2607:f8b0:400e:c07::80\n",
            "Connecting to storage.googleapis.com (storage.googleapis.com)|74.125.142.128|:443... connected.\n",
            "HTTP request sent, awaiting response... 200 OK\n",
            "Length: 5643545 (5.4M) [application/json]\n",
            "Saving to: ‘/tmp/sarcasm.json’\n",
            "\n",
            "/tmp/sarcasm.json   100%[===================>]   5.38M  --.-KB/s    in 0.02s   \n",
            "\n",
            "2020-02-13 15:09:27 (244 MB/s) - ‘/tmp/sarcasm.json’ saved [5643545/5643545]\n",
            "\n",
            "Model: \"sequential_1\"\n",
            "_________________________________________________________________\n",
            "Layer (type)                 Output Shape              Param #   \n",
            "=================================================================\n",
            "embedding_1 (Embedding)      (None, 120, 16)           16000     \n",
            "_________________________________________________________________\n",
            "conv1d_1 (Conv1D)            (None, 116, 128)          10368     \n",
            "_________________________________________________________________\n",
            "global_max_pooling1d_1 (Glob (None, 128)               0         \n",
            "_________________________________________________________________\n",
            "dense_2 (Dense)              (None, 24)                3096      \n",
            "_________________________________________________________________\n",
            "dense_3 (Dense)              (None, 1)                 25        \n",
            "=================================================================\n",
            "Total params: 29,489\n",
            "Trainable params: 29,489\n",
            "Non-trainable params: 0\n",
            "_________________________________________________________________\n",
            "Train on 20000 samples, validate on 6709 samples\n",
            "Epoch 1/50\n",
            "20000/20000 [==============================] - 10s 482us/sample - loss: 0.4782 - accuracy: 0.7546 - val_loss: 0.4128 - val_accuracy: 0.8116\n",
            "Epoch 2/50\n",
            "20000/20000 [==============================] - 3s 140us/sample - loss: 0.3629 - accuracy: 0.8374 - val_loss: 0.3943 - val_accuracy: 0.8144\n",
            "Epoch 3/50\n",
            "20000/20000 [==============================] - 3s 149us/sample - loss: 0.3252 - accuracy: 0.8576 - val_loss: 0.3950 - val_accuracy: 0.8216\n",
            "Epoch 4/50\n",
            "20000/20000 [==============================] - 3s 144us/sample - loss: 0.2930 - accuracy: 0.8724 - val_loss: 0.4097 - val_accuracy: 0.8228\n",
            "Epoch 5/50\n",
            "20000/20000 [==============================] - 3s 142us/sample - loss: 0.2647 - accuracy: 0.8870 - val_loss: 0.4406 - val_accuracy: 0.8120\n",
            "Epoch 6/50\n",
            "20000/20000 [==============================] - 3s 148us/sample - loss: 0.2326 - accuracy: 0.9017 - val_loss: 0.4445 - val_accuracy: 0.8138\n",
            "Epoch 7/50\n",
            "20000/20000 [==============================] - 3s 155us/sample - loss: 0.2016 - accuracy: 0.9172 - val_loss: 0.4909 - val_accuracy: 0.8125\n",
            "Epoch 8/50\n",
            "20000/20000 [==============================] - 3s 155us/sample - loss: 0.1735 - accuracy: 0.9339 - val_loss: 0.5277 - val_accuracy: 0.8041\n",
            "Epoch 9/50\n",
            "20000/20000 [==============================] - 3s 155us/sample - loss: 0.1449 - accuracy: 0.9453 - val_loss: 0.5829 - val_accuracy: 0.8056\n",
            "Epoch 10/50\n",
            "20000/20000 [==============================] - 3s 143us/sample - loss: 0.1188 - accuracy: 0.9575 - val_loss: 0.6757 - val_accuracy: 0.8001\n",
            "Epoch 11/50\n",
            "20000/20000 [==============================] - 3s 142us/sample - loss: 0.1003 - accuracy: 0.9635 - val_loss: 0.7571 - val_accuracy: 0.7970\n",
            "Epoch 12/50\n",
            "20000/20000 [==============================] - 3s 145us/sample - loss: 0.0843 - accuracy: 0.9705 - val_loss: 0.8124 - val_accuracy: 0.7953\n",
            "Epoch 13/50\n",
            "20000/20000 [==============================] - 3s 144us/sample - loss: 0.0729 - accuracy: 0.9742 - val_loss: 0.8894 - val_accuracy: 0.7977\n",
            "Epoch 14/50\n",
            "20000/20000 [==============================] - 3s 142us/sample - loss: 0.0634 - accuracy: 0.9779 - val_loss: 1.0056 - val_accuracy: 0.7858\n",
            "Epoch 15/50\n",
            "20000/20000 [==============================] - 3s 151us/sample - loss: 0.0560 - accuracy: 0.9798 - val_loss: 1.0760 - val_accuracy: 0.7928\n",
            "Epoch 16/50\n",
            "20000/20000 [==============================] - 3s 142us/sample - loss: 0.0492 - accuracy: 0.9825 - val_loss: 1.2242 - val_accuracy: 0.7910\n",
            "Epoch 17/50\n",
            "20000/20000 [==============================] - 3s 149us/sample - loss: 0.0459 - accuracy: 0.9837 - val_loss: 1.2622 - val_accuracy: 0.7918\n",
            "Epoch 18/50\n",
            "20000/20000 [==============================] - 3s 143us/sample - loss: 0.0414 - accuracy: 0.9844 - val_loss: 1.3034 - val_accuracy: 0.7943\n",
            "Epoch 19/50\n",
            "20000/20000 [==============================] - 3s 144us/sample - loss: 0.0381 - accuracy: 0.9855 - val_loss: 1.4739 - val_accuracy: 0.7910\n",
            "Epoch 20/50\n",
            "20000/20000 [==============================] - 3s 143us/sample - loss: 0.0352 - accuracy: 0.9865 - val_loss: 1.4979 - val_accuracy: 0.7900\n",
            "Epoch 21/50\n",
            "20000/20000 [==============================] - 3s 144us/sample - loss: 0.0360 - accuracy: 0.9855 - val_loss: 1.5149 - val_accuracy: 0.7758\n",
            "Epoch 22/50\n",
            "20000/20000 [==============================] - 3s 144us/sample - loss: 0.0334 - accuracy: 0.9868 - val_loss: 1.5283 - val_accuracy: 0.7857\n",
            "Epoch 23/50\n",
            "20000/20000 [==============================] - 3s 145us/sample - loss: 0.0312 - accuracy: 0.9869 - val_loss: 1.7070 - val_accuracy: 0.7901\n",
            "Epoch 24/50\n",
            "20000/20000 [==============================] - 3s 147us/sample - loss: 0.0292 - accuracy: 0.9887 - val_loss: 1.7417 - val_accuracy: 0.7870\n",
            "Epoch 25/50\n",
            "20000/20000 [==============================] - 3s 142us/sample - loss: 0.0268 - accuracy: 0.9887 - val_loss: 1.7777 - val_accuracy: 0.7858\n",
            "Epoch 26/50\n",
            "20000/20000 [==============================] - 3s 143us/sample - loss: 0.0245 - accuracy: 0.9901 - val_loss: 1.8921 - val_accuracy: 0.7822\n",
            "Epoch 27/50\n",
            "20000/20000 [==============================] - 3s 143us/sample - loss: 0.0333 - accuracy: 0.9872 - val_loss: 1.8272 - val_accuracy: 0.7858\n",
            "Epoch 28/50\n",
            "20000/20000 [==============================] - 3s 144us/sample - loss: 0.0327 - accuracy: 0.9871 - val_loss: 1.9068 - val_accuracy: 0.7795\n",
            "Epoch 29/50\n",
            "20000/20000 [==============================] - 3s 143us/sample - loss: 0.0292 - accuracy: 0.9877 - val_loss: 1.9541 - val_accuracy: 0.7791\n",
            "Epoch 30/50\n",
            "20000/20000 [==============================] - 3s 146us/sample - loss: 0.0224 - accuracy: 0.9908 - val_loss: 2.0196 - val_accuracy: 0.7897\n",
            "Epoch 31/50\n",
            "20000/20000 [==============================] - 3s 143us/sample - loss: 0.0234 - accuracy: 0.9902 - val_loss: 2.0210 - val_accuracy: 0.7894\n",
            "Epoch 32/50\n",
            "20000/20000 [==============================] - 3s 142us/sample - loss: 0.0256 - accuracy: 0.9890 - val_loss: 2.0240 - val_accuracy: 0.7863\n",
            "Epoch 33/50\n",
            "20000/20000 [==============================] - 3s 151us/sample - loss: 0.0257 - accuracy: 0.9897 - val_loss: 2.1242 - val_accuracy: 0.7852\n",
            "Epoch 34/50\n",
            "20000/20000 [==============================] - 3s 146us/sample - loss: 0.0223 - accuracy: 0.9905 - val_loss: 2.2006 - val_accuracy: 0.7855\n",
            "Epoch 35/50\n",
            "20000/20000 [==============================] - 3s 146us/sample - loss: 0.0272 - accuracy: 0.9898 - val_loss: 2.1936 - val_accuracy: 0.7882\n",
            "Epoch 36/50\n",
            "20000/20000 [==============================] - 3s 153us/sample - loss: 0.0273 - accuracy: 0.9888 - val_loss: 2.1803 - val_accuracy: 0.7810\n",
            "Epoch 37/50\n",
            "20000/20000 [==============================] - 3s 151us/sample - loss: 0.0233 - accuracy: 0.9905 - val_loss: 2.2668 - val_accuracy: 0.7825\n",
            "Epoch 38/50\n",
            "20000/20000 [==============================] - 3s 145us/sample - loss: 0.0232 - accuracy: 0.9902 - val_loss: 2.3260 - val_accuracy: 0.7849\n",
            "Epoch 39/50\n",
            "20000/20000 [==============================] - 3s 143us/sample - loss: 0.0207 - accuracy: 0.9910 - val_loss: 2.3056 - val_accuracy: 0.7804\n",
            "Epoch 40/50\n",
            "20000/20000 [==============================] - 3s 149us/sample - loss: 0.0196 - accuracy: 0.9922 - val_loss: 2.3331 - val_accuracy: 0.7907\n",
            "Epoch 41/50\n",
            "20000/20000 [==============================] - 3s 147us/sample - loss: 0.0205 - accuracy: 0.9913 - val_loss: 2.3660 - val_accuracy: 0.7866\n",
            "Epoch 42/50\n",
            "20000/20000 [==============================] - 3s 147us/sample - loss: 0.0288 - accuracy: 0.9884 - val_loss: 2.3047 - val_accuracy: 0.7821\n",
            "Epoch 43/50\n",
            "20000/20000 [==============================] - 3s 147us/sample - loss: 0.0251 - accuracy: 0.9894 - val_loss: 2.4379 - val_accuracy: 0.7867\n",
            "Epoch 44/50\n",
            "20000/20000 [==============================] - 3s 148us/sample - loss: 0.0200 - accuracy: 0.9914 - val_loss: 2.4404 - val_accuracy: 0.7794\n",
            "Epoch 45/50\n",
            "20000/20000 [==============================] - 3s 147us/sample - loss: 0.0179 - accuracy: 0.9923 - val_loss: 2.4398 - val_accuracy: 0.7889\n",
            "Epoch 46/50\n",
            "20000/20000 [==============================] - 3s 144us/sample - loss: 0.0184 - accuracy: 0.9916 - val_loss: 2.5016 - val_accuracy: 0.7852\n",
            "Epoch 47/50\n",
            "20000/20000 [==============================] - 3s 147us/sample - loss: 0.0205 - accuracy: 0.9910 - val_loss: 2.5201 - val_accuracy: 0.7864\n",
            "Epoch 48/50\n",
            "20000/20000 [==============================] - 3s 147us/sample - loss: 0.0241 - accuracy: 0.9898 - val_loss: 2.5876 - val_accuracy: 0.7883\n",
            "Epoch 49/50\n",
            "20000/20000 [==============================] - 3s 142us/sample - loss: 0.0216 - accuracy: 0.9909 - val_loss: 2.5810 - val_accuracy: 0.7873\n",
            "Epoch 50/50\n",
            "20000/20000 [==============================] - 3s 149us/sample - loss: 0.0197 - accuracy: 0.9910 - val_loss: 2.6795 - val_accuracy: 0.7937\n"
          ],
          "name": "stdout"
        }
      ]
    },
    {
      "cell_type": "code",
      "metadata": {
        "id": "g9DC6dmLF8DC",
        "colab_type": "code",
        "colab": {
          "base_uri": "https://localhost:8080/",
          "height": 542
        },
        "outputId": "a78d7031-ecb2-456e-b1fb-bc8479f925ce"
      },
      "source": [
        "import matplotlib.pyplot as plt\n",
        "\n",
        "\n",
        "def plot_graphs(history, string):\n",
        "  plt.plot(history.history[string])\n",
        "  plt.plot(history.history['val_'+string])\n",
        "  plt.xlabel(\"Epochs\")\n",
        "  plt.ylabel(string)\n",
        "  plt.legend([string, 'val_'+string])\n",
        "  plt.show()\n",
        "\n",
        "plot_graphs(history, 'accuracy')\n",
        "plot_graphs(history, 'loss')"
      ],
      "execution_count": 4,
      "outputs": [
        {
          "output_type": "display_data",
          "data": {
            "image/png": "[encoded data removed]",
            "text/plain": [
              "<Figure size 432x288 with 1 Axes>"
            ]
          },
          "metadata": {
            "tags": []
          }
        },
        {
          "output_type": "display_data",
          "data": {
            "image/png": "[encoded data removed]",
            "text/plain": [
              "<Figure size 432x288 with 1 Axes>"
            ]
          },
          "metadata": {
            "tags": []
          }
        }
      ]
    },
    {
      "cell_type": "code",
      "metadata": {
        "id": "7ZEZIUppGhdi",
        "colab_type": "code",
        "colab": {}
      },
      "source": [
        "model.save(\"test.h5\")"
      ],
      "execution_count": 0,
      "outputs": []
    }
  ]
}