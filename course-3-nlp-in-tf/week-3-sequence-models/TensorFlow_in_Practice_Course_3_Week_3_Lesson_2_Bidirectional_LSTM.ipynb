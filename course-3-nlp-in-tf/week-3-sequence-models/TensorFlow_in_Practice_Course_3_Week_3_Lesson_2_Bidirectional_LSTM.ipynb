{
  "nbformat": 4,
  "nbformat_minor": 0,
  "metadata": {
    "colab": {
      "name": "deeplearning.ai - TensorFlow in Practice - Course 3 - Week 3 - Lesson 2 - Bidirectional LSTM.ipynb",
      "provenance": [],
      "collapsed_sections": [],
      "toc_visible": true,
      "include_colab_link": true
    },
    "kernelspec": {
      "name": "python3",
      "display_name": "Python 3"
    },
    "accelerator": "GPU"
  },
  "cells": [
    {
      "cell_type": "markdown",
      "metadata": {
        "id": "view-in-github",
        "colab_type": "text"
      },
      "source": [
        "<a href=\"https://colab.research.google.com/github/mikful/dlai-tf-in-practice/blob/master/TensorFlow_in_Practice_Course_3_Week_3_Lesson_2_Bidirectional_LSTM.ipynb\" target=\"_parent\"><img src=\"https://colab.research.google.com/assets/colab-badge.svg\" alt=\"Open In Colab\"/></a>"
      ]
    },
    {
      "cell_type": "code",
      "metadata": {
        "id": "jGwXGIXvFhXW",
        "colab_type": "code",
        "colab": {
          "base_uri": "https://localhost:8080/",
          "height": 1000
        },
        "outputId": "969812a8-4cbb-4007-d025-a70781feb81b"
      },
      "source": [
        "import json\n",
        "import numpy as np\n",
        "\n",
        "\n",
        "%tensorflow_version 2.x\n",
        "import tensorflow as tf\n",
        "print(f'tensorflow version: {tf.__version__}')\n",
        "\n",
        "from tensorflow.keras.preprocessing.text import Tokenizer\n",
        "from tensorflow.keras.preprocessing.sequence import pad_sequences\n",
        "\n",
        "!wget --no-check-certificate \\\n",
        "    https://storage.googleapis.com/laurencemoroney-blog.appspot.com/sarcasm.json \\\n",
        "    -O /tmp/sarcasm.json\n",
        "\n",
        "vocab_size = 1000\n",
        "embedding_dim = 16\n",
        "max_length = 120\n",
        "trunc_type='post'\n",
        "padding_type='post'\n",
        "oov_tok = \"<OOV>\"\n",
        "training_size = 20000\n",
        "\n",
        "\n",
        "with open(\"/tmp/sarcasm.json\", 'r') as f:\n",
        "    datastore = json.load(f)\n",
        "\n",
        "\n",
        "sentences = []\n",
        "labels = []\n",
        "urls = []\n",
        "for item in datastore:\n",
        "    sentences.append(item['headline'])\n",
        "    labels.append(item['is_sarcastic'])\n",
        "\n",
        "training_sentences = sentences[0:training_size]\n",
        "testing_sentences = sentences[training_size:]\n",
        "training_labels = labels[0:training_size]\n",
        "testing_labels = labels[training_size:]\n",
        "\n",
        "tokenizer = Tokenizer(num_words=vocab_size, oov_token=oov_tok)\n",
        "tokenizer.fit_on_texts(training_sentences)\n",
        "\n",
        "word_index = tokenizer.word_index\n",
        "\n",
        "training_sequences = tokenizer.texts_to_sequences(training_sentences)\n",
        "training_padded = pad_sequences(training_sequences, maxlen=max_length, padding=padding_type, truncating=trunc_type)\n",
        "\n",
        "testing_sequences = tokenizer.texts_to_sequences(testing_sentences)\n",
        "testing_padded = pad_sequences(testing_sequences, maxlen=max_length, padding=padding_type, truncating=trunc_type)\n",
        "\n",
        "model = tf.keras.Sequential([\n",
        "    tf.keras.layers.Embedding(vocab_size, embedding_dim, input_length=max_length),\n",
        "    tf.keras.layers.Bidirectional(tf.keras.layers.LSTM(32)),\n",
        "    tf.keras.layers.Dense(24, activation='relu'),\n",
        "    tf.keras.layers.Dense(1, activation='sigmoid')\n",
        "])\n",
        "model.compile(loss='binary_crossentropy',optimizer='adam',metrics=['accuracy'])\n",
        "model.summary()\n",
        "\n",
        "num_epochs = 50\n",
        "training_padded = np.array(training_padded)\n",
        "training_labels = np.array(training_labels)\n",
        "testing_padded = np.array(testing_padded)\n",
        "testing_labels = np.array(testing_labels)\n",
        "history = model.fit(training_padded, training_labels, epochs=num_epochs, validation_data=(testing_padded, testing_labels), verbose=1)\n",
        "\n"
      ],
      "execution_count": 2,
      "outputs": [
        {
          "output_type": "stream",
          "text": [
            "tensorflow version: 2.1.0\n",
            "--2020-02-13 14:53:39--  https://storage.googleapis.com/laurencemoroney-blog.appspot.com/sarcasm.json\n",
            "Resolving storage.googleapis.com (storage.googleapis.com)... 74.125.197.128, 2607:f8b0:400e:c00::80\n",
            "Connecting to storage.googleapis.com (storage.googleapis.com)|74.125.197.128|:443... connected.\n",
            "HTTP request sent, awaiting response... 200 OK\n",
            "Length: 5643545 (5.4M) [application/json]\n",
            "Saving to: ‘/tmp/sarcasm.json’\n",
            "\n",
            "/tmp/sarcasm.json   100%[===================>]   5.38M  --.-KB/s    in 0.02s   \n",
            "\n",
            "2020-02-13 14:53:39 (234 MB/s) - ‘/tmp/sarcasm.json’ saved [5643545/5643545]\n",
            "\n",
            "Model: \"sequential_1\"\n",
            "_________________________________________________________________\n",
            "Layer (type)                 Output Shape              Param #   \n",
            "=================================================================\n",
            "embedding_1 (Embedding)      (None, 120, 16)           16000     \n",
            "_________________________________________________________________\n",
            "bidirectional_1 (Bidirection (None, 64)                12544     \n",
            "_________________________________________________________________\n",
            "dense_2 (Dense)              (None, 24)                1560      \n",
            "_________________________________________________________________\n",
            "dense_3 (Dense)              (None, 1)                 25        \n",
            "=================================================================\n",
            "Total params: 30,129\n",
            "Trainable params: 30,129\n",
            "Non-trainable params: 0\n",
            "_________________________________________________________________\n",
            "Train on 20000 samples, validate on 6709 samples\n",
            "Epoch 1/50\n",
            "20000/20000 [==============================] - 17s 857us/sample - loss: 0.4521 - accuracy: 0.7713 - val_loss: 0.3840 - val_accuracy: 0.8246\n",
            "Epoch 2/50\n",
            "20000/20000 [==============================] - 9s 447us/sample - loss: 0.3510 - accuracy: 0.8402 - val_loss: 0.3707 - val_accuracy: 0.8298\n",
            "Epoch 3/50\n",
            "20000/20000 [==============================] - 9s 447us/sample - loss: 0.3238 - accuracy: 0.8551 - val_loss: 0.3795 - val_accuracy: 0.8258\n",
            "Epoch 4/50\n",
            "20000/20000 [==============================] - 9s 451us/sample - loss: 0.3058 - accuracy: 0.8644 - val_loss: 0.3718 - val_accuracy: 0.8383\n",
            "Epoch 5/50\n",
            "20000/20000 [==============================] - 9s 444us/sample - loss: 0.2954 - accuracy: 0.8688 - val_loss: 0.3878 - val_accuracy: 0.8268\n",
            "Epoch 6/50\n",
            "20000/20000 [==============================] - 9s 447us/sample - loss: 0.2866 - accuracy: 0.8751 - val_loss: 0.3900 - val_accuracy: 0.8332\n",
            "Epoch 7/50\n",
            "20000/20000 [==============================] - 9s 439us/sample - loss: 0.2770 - accuracy: 0.8809 - val_loss: 0.3952 - val_accuracy: 0.8319\n",
            "Epoch 8/50\n",
            "20000/20000 [==============================] - 9s 450us/sample - loss: 0.2728 - accuracy: 0.8830 - val_loss: 0.4027 - val_accuracy: 0.8188\n",
            "Epoch 9/50\n",
            "20000/20000 [==============================] - 9s 445us/sample - loss: 0.2663 - accuracy: 0.8847 - val_loss: 0.4000 - val_accuracy: 0.8299\n",
            "Epoch 10/50\n",
            "20000/20000 [==============================] - 9s 437us/sample - loss: 0.2589 - accuracy: 0.8889 - val_loss: 0.4268 - val_accuracy: 0.8216\n",
            "Epoch 11/50\n",
            "20000/20000 [==============================] - 9s 445us/sample - loss: 0.2517 - accuracy: 0.8936 - val_loss: 0.4182 - val_accuracy: 0.8235\n",
            "Epoch 12/50\n",
            "20000/20000 [==============================] - 9s 445us/sample - loss: 0.2464 - accuracy: 0.8947 - val_loss: 0.4286 - val_accuracy: 0.8240\n",
            "Epoch 13/50\n",
            "20000/20000 [==============================] - 9s 441us/sample - loss: 0.2377 - accuracy: 0.8985 - val_loss: 0.4224 - val_accuracy: 0.8234\n",
            "Epoch 14/50\n",
            "20000/20000 [==============================] - 9s 442us/sample - loss: 0.2306 - accuracy: 0.9017 - val_loss: 0.4282 - val_accuracy: 0.8231\n",
            "Epoch 15/50\n",
            "20000/20000 [==============================] - 9s 443us/sample - loss: 0.2224 - accuracy: 0.9056 - val_loss: 0.4537 - val_accuracy: 0.8186\n",
            "Epoch 16/50\n",
            "20000/20000 [==============================] - 9s 443us/sample - loss: 0.2162 - accuracy: 0.9090 - val_loss: 0.4698 - val_accuracy: 0.8152\n",
            "Epoch 17/50\n",
            "20000/20000 [==============================] - 9s 450us/sample - loss: 0.2091 - accuracy: 0.9118 - val_loss: 0.4781 - val_accuracy: 0.8143\n",
            "Epoch 18/50\n",
            "20000/20000 [==============================] - 9s 455us/sample - loss: 0.2042 - accuracy: 0.9140 - val_loss: 0.5112 - val_accuracy: 0.8162\n",
            "Epoch 19/50\n",
            "20000/20000 [==============================] - 9s 446us/sample - loss: 0.1935 - accuracy: 0.9173 - val_loss: 0.5628 - val_accuracy: 0.8159\n",
            "Epoch 20/50\n",
            "20000/20000 [==============================] - 9s 436us/sample - loss: 0.1873 - accuracy: 0.9239 - val_loss: 0.5775 - val_accuracy: 0.8116\n",
            "Epoch 21/50\n",
            "20000/20000 [==============================] - 9s 443us/sample - loss: 0.1811 - accuracy: 0.9252 - val_loss: 0.6025 - val_accuracy: 0.8101\n",
            "Epoch 22/50\n",
            "20000/20000 [==============================] - 9s 437us/sample - loss: 0.1752 - accuracy: 0.9266 - val_loss: 0.5959 - val_accuracy: 0.8113\n",
            "Epoch 23/50\n",
            "20000/20000 [==============================] - 9s 438us/sample - loss: 0.1664 - accuracy: 0.9329 - val_loss: 0.6502 - val_accuracy: 0.8095\n",
            "Epoch 24/50\n",
            "20000/20000 [==============================] - 9s 441us/sample - loss: 0.1637 - accuracy: 0.9316 - val_loss: 0.7176 - val_accuracy: 0.8076\n",
            "Epoch 25/50\n",
            "20000/20000 [==============================] - 9s 439us/sample - loss: 0.1545 - accuracy: 0.9363 - val_loss: 0.6821 - val_accuracy: 0.8052\n",
            "Epoch 26/50\n",
            "20000/20000 [==============================] - 9s 447us/sample - loss: 0.1488 - accuracy: 0.9383 - val_loss: 0.7490 - val_accuracy: 0.8019\n",
            "Epoch 27/50\n",
            "20000/20000 [==============================] - 9s 447us/sample - loss: 0.1406 - accuracy: 0.9416 - val_loss: 0.7581 - val_accuracy: 0.8092\n",
            "Epoch 28/50\n",
            "20000/20000 [==============================] - 9s 443us/sample - loss: 0.1395 - accuracy: 0.9412 - val_loss: 0.8064 - val_accuracy: 0.8064\n",
            "Epoch 29/50\n",
            "20000/20000 [==============================] - 9s 437us/sample - loss: 0.1301 - accuracy: 0.9446 - val_loss: 0.8346 - val_accuracy: 0.8025\n",
            "Epoch 30/50\n",
            "20000/20000 [==============================] - 9s 440us/sample - loss: 0.1241 - accuracy: 0.9481 - val_loss: 0.8773 - val_accuracy: 0.8071\n",
            "Epoch 31/50\n",
            "20000/20000 [==============================] - 9s 444us/sample - loss: 0.1198 - accuracy: 0.9513 - val_loss: 0.9312 - val_accuracy: 0.8035\n",
            "Epoch 32/50\n",
            "20000/20000 [==============================] - 9s 439us/sample - loss: 0.1116 - accuracy: 0.9542 - val_loss: 0.9899 - val_accuracy: 0.8004\n",
            "Epoch 33/50\n",
            "20000/20000 [==============================] - 9s 444us/sample - loss: 0.1110 - accuracy: 0.9528 - val_loss: 1.0811 - val_accuracy: 0.7971\n",
            "Epoch 34/50\n",
            "20000/20000 [==============================] - 9s 437us/sample - loss: 0.1066 - accuracy: 0.9548 - val_loss: 1.1043 - val_accuracy: 0.8004\n",
            "Epoch 35/50\n",
            "20000/20000 [==============================] - 9s 446us/sample - loss: 0.1006 - accuracy: 0.9584 - val_loss: 1.1406 - val_accuracy: 0.8030\n",
            "Epoch 36/50\n",
            "20000/20000 [==============================] - 9s 450us/sample - loss: 0.0953 - accuracy: 0.9604 - val_loss: 1.2330 - val_accuracy: 0.7959\n",
            "Epoch 37/50\n",
            "20000/20000 [==============================] - 9s 438us/sample - loss: 0.0987 - accuracy: 0.9589 - val_loss: 1.1862 - val_accuracy: 0.8021\n",
            "Epoch 38/50\n",
            "20000/20000 [==============================] - 9s 445us/sample - loss: 0.0945 - accuracy: 0.9621 - val_loss: 1.2372 - val_accuracy: 0.7992\n",
            "Epoch 39/50\n",
            "20000/20000 [==============================] - 9s 438us/sample - loss: 0.0875 - accuracy: 0.9631 - val_loss: 1.4095 - val_accuracy: 0.7992\n",
            "Epoch 40/50\n",
            "20000/20000 [==============================] - 9s 445us/sample - loss: 0.0806 - accuracy: 0.9664 - val_loss: 1.3689 - val_accuracy: 0.8018\n",
            "Epoch 41/50\n",
            "20000/20000 [==============================] - 9s 441us/sample - loss: 0.0816 - accuracy: 0.9657 - val_loss: 1.3811 - val_accuracy: 0.8024\n",
            "Epoch 42/50\n",
            "20000/20000 [==============================] - 9s 444us/sample - loss: 0.0790 - accuracy: 0.9661 - val_loss: 1.3974 - val_accuracy: 0.7991\n",
            "Epoch 43/50\n",
            "20000/20000 [==============================] - 9s 440us/sample - loss: 0.0755 - accuracy: 0.9676 - val_loss: 1.5951 - val_accuracy: 0.7985\n",
            "Epoch 44/50\n",
            "20000/20000 [==============================] - 9s 442us/sample - loss: 0.0757 - accuracy: 0.9675 - val_loss: 1.5150 - val_accuracy: 0.7919\n",
            "Epoch 45/50\n",
            "20000/20000 [==============================] - 9s 447us/sample - loss: 0.0710 - accuracy: 0.9701 - val_loss: 1.6375 - val_accuracy: 0.7985\n",
            "Epoch 46/50\n",
            "20000/20000 [==============================] - 9s 443us/sample - loss: 0.0698 - accuracy: 0.9696 - val_loss: 1.7062 - val_accuracy: 0.7898\n",
            "Epoch 47/50\n",
            "20000/20000 [==============================] - 9s 441us/sample - loss: 0.0612 - accuracy: 0.9735 - val_loss: 1.7529 - val_accuracy: 0.7962\n",
            "Epoch 48/50\n",
            "20000/20000 [==============================] - 9s 447us/sample - loss: 0.0634 - accuracy: 0.9725 - val_loss: 1.8644 - val_accuracy: 0.7922\n",
            "Epoch 49/50\n",
            "20000/20000 [==============================] - 9s 443us/sample - loss: 0.0701 - accuracy: 0.9704 - val_loss: 1.7215 - val_accuracy: 0.7982\n",
            "Epoch 50/50\n",
            "20000/20000 [==============================] - 9s 443us/sample - loss: 0.0702 - accuracy: 0.9715 - val_loss: 1.7207 - val_accuracy: 0.7968\n"
          ],
          "name": "stdout"
        }
      ]
    },
    {
      "cell_type": "code",
      "metadata": {
        "id": "g9DC6dmLF8DC",
        "colab_type": "code",
        "colab": {
          "base_uri": "https://localhost:8080/",
          "height": 541
        },
        "outputId": "0e7a2301-a5a3-46e4-a1f7-2ee89a30369f"
      },
      "source": [
        " import matplotlib.pyplot as plt\n",
        "\n",
        "\n",
        "def plot_graphs(history, string):\n",
        "  plt.plot(history.history[string])\n",
        "  plt.plot(history.history['val_'+string])\n",
        "  plt.xlabel(\"Epochs\")\n",
        "  plt.ylabel(string)\n",
        "  plt.legend([string, 'val_'+string])\n",
        "  plt.show()\n",
        "\n",
        "plot_graphs(history, 'accuracy')\n",
        "plot_graphs(history, 'loss')"
      ],
      "execution_count": 5,
      "outputs": [
        {
          "output_type": "display_data",
          "data": {
            "image/png": "[encoded data removed]",
            "text/plain": [
              "<Figure size 432x288 with 1 Axes>"
            ]
          },
          "metadata": {
            "tags": []
          }
        },
        {
          "output_type": "display_data",
          "data": {
            "image/png": "[encoded data removed]",
            "text/plain": [
              "<Figure size 432x288 with 1 Axes>"
            ]
          },
          "metadata": {
            "tags": []
          }
        }
      ]
    },
    {
      "cell_type": "code",
      "metadata": {
        "id": "7ZEZIUppGhdi",
        "colab_type": "code",
        "colab": {}
      },
      "source": [
        "model.save(\"test.h5\")"
      ],
      "execution_count": 0,
      "outputs": []
    },
    {
      "cell_type": "code",
      "metadata": {
        "id": "aFBPRcVqE8TV",
        "colab_type": "code",
        "colab": {}
      },
      "source": [
        ""
      ],
      "execution_count": 0,
      "outputs": []
    }
  ]
}