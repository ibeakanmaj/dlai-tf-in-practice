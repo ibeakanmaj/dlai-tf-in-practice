{
  "nbformat": 4,
  "nbformat_minor": 0,
  "metadata": {
    "colab": {
      "name": "deeplearning.ai - TensorFlow in Practice - Course 2 - Week 4 - Exercise 8 - Sign Language Multi-class Classification.ipynb",
      "provenance": [],
      "collapsed_sections": [],
      "toc_visible": true,
      "include_colab_link": true
    },
    "kernelspec": {
      "name": "python3",
      "display_name": "Python 3"
    }
  },
  "cells": [
    {
      "cell_type": "markdown",
      "metadata": {
        "id": "view-in-github",
        "colab_type": "text"
      },
      "source": [
        "<a href=\"https://colab.research.google.com/github/mikful/dlai-tf-in-practice/blob/master/TensorFlow_in_Practice_Course_2_Week_4_Exercise_8_Sign_Language_Multi_class_Classification.ipynb\" target=\"_parent\"><img src=\"https://colab.research.google.com/assets/colab-badge.svg\" alt=\"Open In Colab\"/></a>"
      ]
    },
    {
      "cell_type": "code",
      "metadata": {
        "id": "wYtuKeK0dImp",
        "colab_type": "code",
        "outputId": "89bec3e9-83c5-4510-fb17-b9f3bd71d930",
        "colab": {
          "base_uri": "https://localhost:8080/",
          "height": 51
        }
      },
      "source": [
        "import csv\n",
        "import numpy as np\n",
        "\n",
        "%tensorflow_version 2.x\n",
        "import tensorflow as tf\n",
        "print('TensorFlow version: ', tf.__version__)\n",
        "\n",
        "from tensorflow.keras.preprocessing.image import ImageDataGenerator\n",
        "from google.colab import files"
      ],
      "execution_count": 4,
      "outputs": [
        {
          "output_type": "stream",
          "text": [
            "TensorFlow 2.x selected.\n",
            "TensorFlow version:  2.1.0\n"
          ],
          "name": "stdout"
        }
      ]
    },
    {
      "cell_type": "markdown",
      "metadata": {
        "id": "EmMyh9_mkDHF",
        "colab_type": "text"
      },
      "source": [
        "The data for this exercise is available at: https://www.kaggle.com/datamunge/sign-language-mnist/data\n",
        "\n",
        "Sign up and download to find 2 CSV files: sign_mnist_test.csv and sign_mnist_train.csv -- You will upload both of them using this button before you can continue.\n"
      ]
    },
    {
      "cell_type": "code",
      "metadata": {
        "id": "IcLOZlnnc_N7",
        "colab_type": "code",
        "colab": {}
      },
      "source": [
        "uploaded=files.upload()"
      ],
      "execution_count": 0,
      "outputs": []
    },
    {
      "cell_type": "code",
      "metadata": {
        "id": "ElEtefCXKMo0",
        "colab_type": "code",
        "colab": {}
      },
      "source": [
        " # Read image data from csv file - labels and pixel RGB values\n",
        "  \n",
        "  # The first line contains the column headers so ignore it\n",
        "  # Each successive line contians 785 comma separated values between 0 and 255\n",
        "  # The first value is the label\n",
        "  # The rest are the pixel values for that picture\n",
        "  # The function will return 2 np.array types. One with all the labels\n",
        "  # One with all the images\n",
        "  \n",
        "  # Tips: \n",
        "  # If you read a full line (as 'row') then row[0] has the label\n",
        "  # and row[1:785] has the 784 pixel values\n",
        "  # Take a look at np.array_split to turn the 784 pixels into 28x28\n",
        "  # You are reading in strings, but need the values to be floats\n",
        "  # Check out np.array().astype for a conversion\n",
        "\n",
        "def get_data(filename):\n",
        "  with open(filename) as training_file:\n",
        "    csv_reader = csv.reader(training_file, delimiter=',')\n",
        "    first_line = True\n",
        "    temp_images = []\n",
        "    temp_labels = []\n",
        "    for row in csv_reader:\n",
        "      if first_line:\n",
        "        # print(\"Ignoring first line\")\n",
        "        first_line = False\n",
        "      else:\n",
        "        temp_labels.append(row[0])\n",
        "        image_data = row[1:785]\n",
        "        image_data_as_array = np.array_split(image_data, 28)\n",
        "        temp_images.append(image_data_as_array)\n",
        "    images = np.array(temp_images).astype('float')\n",
        "    labels = np.array(temp_labels).astype('float')\n",
        "    \n",
        "    return images, labels"
      ],
      "execution_count": 0,
      "outputs": []
    },
    {
      "cell_type": "code",
      "metadata": {
        "id": "4kxw-_rmcnVu",
        "colab_type": "code",
        "colab": {
          "base_uri": "https://localhost:8080/",
          "height": 85
        },
        "outputId": "906208c8-29d9-42c2-f1b6-1a2932f42293"
      },
      "source": [
        "# Convert csv data to image array/tensor\n",
        "\n",
        "training_images, training_labels = get_data('/content/sign_mnist_train.csv')\n",
        "testing_images, testing_labels = get_data('/content/sign_mnist_test.csv')\n",
        "\n",
        "# Keep these\n",
        "print(training_images.shape)\n",
        "print(training_labels.shape)\n",
        "print(testing_images.shape)\n",
        "print(testing_labels.shape)\n",
        "\n",
        "# Their output should be:\n",
        "# (27455, 28, 28)\n",
        "# (27455,)\n",
        "# (7172, 28, 28)\n",
        "# (7172,)"
      ],
      "execution_count": 33,
      "outputs": [
        {
          "output_type": "stream",
          "text": [
            "(27455, 28, 28)\n",
            "(27455,)\n",
            "(7172, 28, 28)\n",
            "(7172,)\n"
          ],
          "name": "stdout"
        }
      ]
    },
    {
      "cell_type": "code",
      "metadata": {
        "id": "zOpvYNhHNRNh",
        "colab_type": "code",
        "colab": {
          "base_uri": "https://localhost:8080/",
          "height": 105
        },
        "outputId": "5ddb95e1-4103-4b81-e63f-db44fd192e8f"
      },
      "source": [
        "# Number labels (should be same)\n",
        "unique_training_labels = set(training_labels)\n",
        "unique_testing_labels = set(testing_labels)\n",
        "\n",
        "if unique_training_labels == unique_testing_labels:\n",
        "  num_labels = len(unique_training_labels)\n",
        "\n",
        "print('# Training labels: ', len(unique_training_labels))\n",
        "print('Training labels: ', unique_training_labels)\n",
        "print('# Testing labels: ', len(unique_testing_labels))\n",
        "print('Test labels: ', unique_testing_labels)"
      ],
      "execution_count": 70,
      "outputs": [
        {
          "output_type": "stream",
          "text": [
            "# Training labels:  24\n",
            "Training labels:  {0.0, 1.0, 2.0, 3.0, 4.0, 5.0, 6.0, 7.0, 8.0, 10.0, 11.0, 12.0, 13.0, 14.0, 15.0, 16.0, 17.0, 18.0, 19.0, 20.0, 21.0, 22.0, 23.0, 24.0}\n",
            "# Testing labels:  24\n",
            "Test labels:  {0.0, 1.0, 2.0, 3.0, 4.0, 5.0, 6.0, 7.0, 8.0, 10.0, 11.0, 12.0, 13.0, 14.0, 15.0, 16.0, 17.0, 18.0, 19.0, 20.0, 21.0, 22.0, 23.0, 24.0}\n"
          ],
          "name": "stdout"
        }
      ]
    },
    {
      "cell_type": "code",
      "metadata": {
        "id": "Xj-g1yzjTPyp",
        "colab_type": "code",
        "colab": {}
      },
      "source": [
        "# Add channel dimension to the data (and change dim value to grayscale = 1, RGB = 3)\n",
        "# So, for example, if your array is (10000, 28, 28)\n",
        "# You will need to make it (10000, 28, 28, 1)\n",
        "# Hint: np.expand_dims\n",
        "\n",
        "training_images = np.expand_dims(training_images, axis=3)\n",
        "testing_images = np.expand_dims(testing_images, axis=3)"
      ],
      "execution_count": 0,
      "outputs": []
    },
    {
      "cell_type": "code",
      "metadata": {
        "id": "awoqRpyZdQkD",
        "colab_type": "code",
        "colab": {
          "base_uri": "https://localhost:8080/",
          "height": 51
        },
        "outputId": "8ff07d93-bf0f-4c61-8e11-325a6d7525b8"
      },
      "source": [
        "# Create an ImageDataGenerator and do Image Augmentation\n",
        "train_datagen = ImageDataGenerator(\n",
        "    rescale = 1./255,\n",
        "    rotation_range=20,\n",
        "    width_shift_range=0.2,\n",
        "    height_shift_range=0.2,\n",
        "    shear_range=0.2,\n",
        "    zoom_range=0.2,\n",
        "    fill_mode='nearest',\n",
        "    horizontal_flip=True\n",
        "    )\n",
        "\n",
        "validation_datagen = ImageDataGenerator(\n",
        "    rescale = 1./255\n",
        "    )\n",
        "\n",
        "# Flow training images in batches using train_datagen generator\n",
        "train_generator = train_datagen.flow(training_images,\n",
        "                                     training_labels,\n",
        "                                     batch_size=32\n",
        "                                     )     \n",
        "\n",
        "# Flow validation images in batches using test_datagen generator\n",
        "valid_generator =  validation_datagen.flow(testing_images,\n",
        "                                     testing_labels,\n",
        "                                     batch_size=32\n",
        "                                     )\n",
        "  \n",
        "# Keep These\n",
        "print(training_images.shape)\n",
        "print(testing_images.shape)\n",
        "    \n",
        "# Their output should be:\n",
        "# (27455, 28, 28, 1)\n",
        "# (7172, 28, 28, 1)"
      ],
      "execution_count": 71,
      "outputs": [
        {
          "output_type": "stream",
          "text": [
            "(27455, 28, 28, 1)\n",
            "(7172, 28, 28, 1)\n"
          ],
          "name": "stdout"
        }
      ]
    },
    {
      "cell_type": "code",
      "metadata": {
        "id": "Rmb7S32cgRqS",
        "colab_type": "code",
        "colab": {
          "base_uri": "https://localhost:8080/",
          "height": 734
        },
        "outputId": "8515fa34-4f16-4ad8-f703-0a3efda52ddf"
      },
      "source": [
        "# Define the model\n",
        "# Use no more than 2 Conv2D and 2 MaxPooling2D\n",
        "model = tf.keras.models.Sequential([\n",
        "    tf.keras.layers.Conv2D(64, (3,3), activation='relu', input_shape=(28,28,1)),\n",
        "    tf.keras.layers.MaxPool2D(2,2),\n",
        "    tf.keras.layers.Conv2D(64, (3,3), activation='relu'),\n",
        "    tf.keras.layers.MaxPool2D(2,2),\n",
        "    tf.keras.layers.Flatten(),\n",
        "    tf.keras.layers.Dense(units=256, activation='relu'),\n",
        "    tf.keras.layers.Dense(units= num_labels+1, activation='softmax')\n",
        "    ])\n",
        "\n",
        "# Compile Model.\n",
        "model.compile(loss = 'sparse_categorical_crossentropy', \n",
        "              optimizer='adam', \n",
        "              metrics=['accuracy'])\n",
        "\n",
        "# Steps per epcoh\n",
        "steps_per_epoch = len(training_images) // train_generator.batch_size\n",
        "validation_steps = len(testing_images) // valid_generator.batch_size\n",
        "\n",
        "# Train the Model\n",
        "history = model.fit(train_generator,\n",
        "                    steps_per_epoch=steps_per_epoch,\n",
        "                    epochs=15,\n",
        "                    validation_data=valid_generator,\n",
        "                    validation_steps=validation_steps)\n",
        "\n",
        "model.evaluate(testing_images, testing_labels)\n",
        "    \n",
        "# The output from model.evaluate should be close to:\n",
        "[6.92426086682151, 0.56609035]\n"
      ],
      "execution_count": 74,
      "outputs": [
        {
          "output_type": "stream",
          "text": [
            "WARNING:tensorflow:sample_weight modes were coerced from\n",
            "  ...\n",
            "    to  \n",
            "  ['...']\n",
            "WARNING:tensorflow:sample_weight modes were coerced from\n",
            "  ...\n",
            "    to  \n",
            "  ['...']\n",
            "Train for 857 steps, validate for 224 steps\n",
            "Epoch 1/15\n",
            "857/857 [==============================] - 52s 60ms/step - loss: 2.4929 - accuracy: 0.2349 - val_loss: 1.3560 - val_accuracy: 0.5310\n",
            "Epoch 2/15\n",
            "857/857 [==============================] - 51s 60ms/step - loss: 1.5521 - accuracy: 0.5015 - val_loss: 1.0192 - val_accuracy: 0.6168\n",
            "Epoch 3/15\n",
            "857/857 [==============================] - 51s 60ms/step - loss: 1.1796 - accuracy: 0.6137 - val_loss: 0.6830 - val_accuracy: 0.7480\n",
            "Epoch 4/15\n",
            "857/857 [==============================] - 51s 59ms/step - loss: 0.9452 - accuracy: 0.6873 - val_loss: 0.5849 - val_accuracy: 0.7959\n",
            "Epoch 5/15\n",
            "857/857 [==============================] - 51s 60ms/step - loss: 0.8003 - accuracy: 0.7350 - val_loss: 0.4270 - val_accuracy: 0.8622\n",
            "Epoch 6/15\n",
            "857/857 [==============================] - 51s 59ms/step - loss: 0.6997 - accuracy: 0.7663 - val_loss: 0.3388 - val_accuracy: 0.8867\n",
            "Epoch 7/15\n",
            "857/857 [==============================] - 51s 60ms/step - loss: 0.6189 - accuracy: 0.7951 - val_loss: 0.3011 - val_accuracy: 0.8980\n",
            "Epoch 8/15\n",
            "857/857 [==============================] - 51s 59ms/step - loss: 0.5640 - accuracy: 0.8132 - val_loss: 0.2631 - val_accuracy: 0.9106\n",
            "Epoch 9/15\n",
            "857/857 [==============================] - 51s 60ms/step - loss: 0.5078 - accuracy: 0.8304 - val_loss: 0.2272 - val_accuracy: 0.9113\n",
            "Epoch 10/15\n",
            "857/857 [==============================] - 51s 59ms/step - loss: 0.4644 - accuracy: 0.8453 - val_loss: 0.2674 - val_accuracy: 0.9046\n",
            "Epoch 11/15\n",
            "857/857 [==============================] - 52s 60ms/step - loss: 0.4209 - accuracy: 0.8608 - val_loss: 0.2174 - val_accuracy: 0.9283\n",
            "Epoch 12/15\n",
            "857/857 [==============================] - 53s 62ms/step - loss: 0.4013 - accuracy: 0.8661 - val_loss: 0.1434 - val_accuracy: 0.9506\n",
            "Epoch 13/15\n",
            "857/857 [==============================] - 52s 61ms/step - loss: 0.3758 - accuracy: 0.8773 - val_loss: 0.1542 - val_accuracy: 0.9488\n",
            "Epoch 14/15\n",
            "857/857 [==============================] - 51s 60ms/step - loss: 0.3437 - accuracy: 0.8851 - val_loss: 0.2095 - val_accuracy: 0.9311\n",
            "Epoch 15/15\n",
            "857/857 [==============================] - 51s 60ms/step - loss: 0.3351 - accuracy: 0.8874 - val_loss: 0.1520 - val_accuracy: 0.9450\n",
            "7172/7172 [==============================] - 3s 442us/sample - loss: 179.0849 - accuracy: 0.6853\n"
          ],
          "name": "stdout"
        },
        {
          "output_type": "execute_result",
          "data": {
            "text/plain": [
              "[6.92426086682151, 0.56609035]"
            ]
          },
          "metadata": {
            "tags": []
          },
          "execution_count": 74
        }
      ]
    },
    {
      "cell_type": "code",
      "metadata": {
        "id": "_Q3Zpr46dsij",
        "colab_type": "code",
        "colab": {
          "base_uri": "https://localhost:8080/",
          "height": 545
        },
        "outputId": "314c5585-7fac-461a-f140-d781f03977b0"
      },
      "source": [
        "# Plot the chart for accuracy and loss on both training and validation\n",
        "\n",
        "import matplotlib.pyplot as plt\n",
        "acc = history.history['accuracy']\n",
        "val_acc = history.history['val_accuracy']\n",
        "loss = history.history['loss']\n",
        "val_loss = history.history['val_loss']\n",
        "\n",
        "epochs = range(len(acc))\n",
        "\n",
        "plt.plot(epochs, acc, 'r', label='Training accuracy')\n",
        "plt.plot(epochs, val_acc, 'b', label='Validation accuracy')\n",
        "plt.title('Training and validation accuracy')\n",
        "plt.legend()\n",
        "plt.figure()\n",
        "\n",
        "plt.plot(epochs, loss, 'r', label='Training Loss')\n",
        "plt.plot(epochs, val_loss, 'b', label='Validation Loss')\n",
        "plt.title('Training and validation loss')\n",
        "plt.legend()\n",
        "\n",
        "plt.show()"
      ],
      "execution_count": 76,
      "outputs": [
        {
          "output_type": "display_data",
          "data": {
            "image/png": "[encoded data removed]",
            "text/plain": [
              "<Figure size 432x288 with 1 Axes>"
            ]
          },
          "metadata": {
            "tags": []
          }
        },
        {
          "output_type": "display_data",
          "data": {
            "image/png": "[encoded data removed]",
            "text/plain": [
              "<Figure size 432x288 with 1 Axes>"
            ]
          },
          "metadata": {
            "tags": []
          }
        }
      ]
    },
    {
      "cell_type": "code",
      "metadata": {
        "id": "_zTntffXbTVO",
        "colab_type": "code",
        "colab": {}
      },
      "source": [
        ""
      ],
      "execution_count": 0,
      "outputs": []
    }
  ]
}