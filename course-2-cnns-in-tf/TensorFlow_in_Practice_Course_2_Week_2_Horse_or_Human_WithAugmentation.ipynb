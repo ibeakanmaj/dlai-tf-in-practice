{
  "nbformat": 4,
  "nbformat_minor": 0,
  "metadata": {
    "colab": {
      "name": "deeplearning.ai - TensorFlow in Practice - Week 2 - Horse-or-Human-WithAugmentation.ipynb",
      "provenance": [],
      "collapsed_sections": [],
      "toc_visible": true,
      "include_colab_link": true
    },
    "kernelspec": {
      "name": "python3",
      "display_name": "Python 3"
    },
    "accelerator": "GPU"
  },
  "cells": [
    {
      "cell_type": "markdown",
      "metadata": {
        "id": "view-in-github",
        "colab_type": "text"
      },
      "source": [
        "<a href=\"https://colab.research.google.com/github/mikful/dlai-tf-in-practice/blob/master/TensorFlow_in_Practice_Week_2_Horse_or_Human_WithAugmentation.ipynb\" target=\"_parent\"><img src=\"https://colab.research.google.com/assets/colab-badge.svg\" alt=\"Open In Colab\"/></a>"
      ]
    },
    {
      "cell_type": "code",
      "metadata": {
        "colab_type": "code",
        "id": "RXZT2UsyIVe_",
        "colab": {
          "base_uri": "https://localhost:8080/",
          "height": 391
        },
        "outputId": "e2cb8b6f-cc1d-4128-cc1a-58e4375801b0"
      },
      "source": [
        "!wget --no-check-certificate \\\n",
        "    https://storage.googleapis.com/laurencemoroney-blog.appspot.com/horse-or-human.zip \\\n",
        "    -O /tmp/horse-or-human.zip\n",
        "\n",
        "!wget --no-check-certificate \\\n",
        "    https://storage.googleapis.com/laurencemoroney-blog.appspot.com/validation-horse-or-human.zip \\\n",
        "    -O /tmp/validation-horse-or-human.zip\n",
        "  \n",
        "import os\n",
        "import zipfile\n",
        "\n",
        "local_zip = '/tmp/horse-or-human.zip'\n",
        "zip_ref = zipfile.ZipFile(local_zip, 'r')\n",
        "zip_ref.extractall('/tmp/horse-or-human')\n",
        "local_zip = '/tmp/validation-horse-or-human.zip'\n",
        "zip_ref = zipfile.ZipFile(local_zip, 'r')\n",
        "zip_ref.extractall('/tmp/validation-horse-or-human')\n",
        "zip_ref.close()\n",
        "# Directory with our training horse pictures\n",
        "train_horse_dir = os.path.join('/tmp/horse-or-human/horses')\n",
        "\n",
        "# Directory with our training human pictures\n",
        "train_human_dir = os.path.join('/tmp/horse-or-human/humans')\n",
        "\n",
        "# Directory with our training horse pictures\n",
        "validation_horse_dir = os.path.join('/tmp/validation-horse-or-human/horses')\n",
        "\n",
        "# Directory with our training human pictures\n",
        "validation_human_dir = os.path.join('/tmp/validation-horse-or-human/humans')"
      ],
      "execution_count": 1,
      "outputs": [
        {
          "output_type": "stream",
          "text": [
            "--2020-01-25 18:38:16--  https://storage.googleapis.com/laurencemoroney-blog.appspot.com/horse-or-human.zip\n",
            "Resolving storage.googleapis.com (storage.googleapis.com)... 74.125.69.128, 2607:f8b0:4001:c06::80\n",
            "Connecting to storage.googleapis.com (storage.googleapis.com)|74.125.69.128|:443... connected.\n",
            "HTTP request sent, awaiting response... 200 OK\n",
            "Length: 149574867 (143M) [application/zip]\n",
            "Saving to: ‘/tmp/horse-or-human.zip’\n",
            "\n",
            "/tmp/horse-or-human 100%[===================>] 142.65M   183MB/s    in 0.8s    \n",
            "\n",
            "2020-01-25 18:38:17 (183 MB/s) - ‘/tmp/horse-or-human.zip’ saved [149574867/149574867]\n",
            "\n",
            "--2020-01-25 18:38:17--  https://storage.googleapis.com/laurencemoroney-blog.appspot.com/validation-horse-or-human.zip\n",
            "Resolving storage.googleapis.com (storage.googleapis.com)... 74.125.202.128, 2607:f8b0:4001:c05::80\n",
            "Connecting to storage.googleapis.com (storage.googleapis.com)|74.125.202.128|:443... connected.\n",
            "HTTP request sent, awaiting response... 200 OK\n",
            "Length: 11480187 (11M) [application/zip]\n",
            "Saving to: ‘/tmp/validation-horse-or-human.zip’\n",
            "\n",
            "/tmp/validation-hor 100%[===================>]  10.95M  --.-KB/s    in 0.1s    \n",
            "\n",
            "2020-01-25 18:38:18 (77.4 MB/s) - ‘/tmp/validation-horse-or-human.zip’ saved [11480187/11480187]\n",
            "\n"
          ],
          "name": "stdout"
        }
      ]
    },
    {
      "cell_type": "markdown",
      "metadata": {
        "colab_type": "text",
        "id": "5oqBkNBJmtUv"
      },
      "source": [
        "## Building a Small Model from Scratch\n",
        "\n",
        "But before we continue, let's start defining the model:\n",
        "\n",
        "Step 1 will be to import tensorflow."
      ]
    },
    {
      "cell_type": "code",
      "metadata": {
        "id": "qvfZg3LQbD-5",
        "colab_type": "code",
        "colab": {
          "base_uri": "https://localhost:8080/",
          "height": 51
        },
        "outputId": "88051344-2072-4080-b6d7-a18a3e5a3e76"
      },
      "source": [
        "%tensorflow_version 2.x\n",
        "import tensorflow as tf\n",
        "print('TensorFlow Version: ', tf.__version__)"
      ],
      "execution_count": 2,
      "outputs": [
        {
          "output_type": "stream",
          "text": [
            "TensorFlow 2.x selected.\n",
            "TensorFlow Version:  2.1.0-rc1\n"
          ],
          "name": "stdout"
        }
      ]
    },
    {
      "cell_type": "markdown",
      "metadata": {
        "colab_type": "text",
        "id": "BnhYCP4tdqjC"
      },
      "source": [
        "We then add convolutional layers as in the previous example, and flatten the final result to feed into the densely connected layers."
      ]
    },
    {
      "cell_type": "markdown",
      "metadata": {
        "id": "gokG5HKpdtzm",
        "colab_type": "text"
      },
      "source": [
        "Finally we add the densely connected layers. \n",
        "\n",
        "Note that because we are facing a two-class classification problem, i.e. a *binary classification problem*, we will end our network with a [*sigmoid* activation](https://wikipedia.org/wiki/Sigmoid_function), so that the output of our network will be a single scalar between 0 and 1, encoding the probability that the current image is class 1 (as opposed to class 0)."
      ]
    },
    {
      "cell_type": "code",
      "metadata": {
        "id": "PixZ2s5QbYQ3",
        "colab_type": "code",
        "colab": {}
      },
      "source": [
        "model = tf.keras.models.Sequential([\n",
        "    # Note the input shape is the desired size of the image 300x300 with 3 bytes color\n",
        "    # This is the first convolution\n",
        "    tf.keras.layers.Conv2D(16, (3,3), activation='relu', input_shape=(300, 300, 3)),\n",
        "    tf.keras.layers.MaxPooling2D(2, 2),\n",
        "    # The second convolution\n",
        "    tf.keras.layers.Conv2D(32, (3,3), activation='relu'),\n",
        "    tf.keras.layers.MaxPooling2D(2,2),\n",
        "    # The third convolution\n",
        "    tf.keras.layers.Conv2D(64, (3,3), activation='relu'),\n",
        "    tf.keras.layers.MaxPooling2D(2,2),\n",
        "    # The fourth convolution\n",
        "    tf.keras.layers.Conv2D(64, (3,3), activation='relu'),\n",
        "    tf.keras.layers.MaxPooling2D(2,2),\n",
        "    # The fifth convolution\n",
        "    tf.keras.layers.Conv2D(64, (3,3), activation='relu'),\n",
        "    tf.keras.layers.MaxPooling2D(2,2),\n",
        "    # Flatten the results to feed into a DNN\n",
        "    tf.keras.layers.Flatten(),\n",
        "    # 512 neuron hidden layer\n",
        "    tf.keras.layers.Dense(512, activation='relu'),\n",
        "    # Only 1 output neuron. It will contain a value from 0-1 where 0 for 1 class ('horses') and 1 for the other ('humans')\n",
        "    tf.keras.layers.Dense(1, activation='sigmoid')\n",
        "])"
      ],
      "execution_count": 0,
      "outputs": []
    },
    {
      "cell_type": "code",
      "metadata": {
        "colab_type": "code",
        "id": "8DHWhFP_uhq3",
        "colab": {}
      },
      "source": [
        "model.compile(loss='binary_crossentropy',\n",
        "              optimizer='adam',\n",
        "              metrics=['acc'])"
      ],
      "execution_count": 0,
      "outputs": []
    },
    {
      "cell_type": "code",
      "metadata": {
        "colab_type": "code",
        "id": "ClebU9NJg99G",
        "colab": {
          "base_uri": "https://localhost:8080/",
          "height": 51
        },
        "outputId": "1d59ff50-0b2c-457b-e088-dc7db3ff61e0"
      },
      "source": [
        "from tensorflow.keras.preprocessing.image import ImageDataGenerator\n",
        "\n",
        "# All images will be rescaled by 1./255\n",
        "train_datagen = ImageDataGenerator(\n",
        "      rescale=1./255,\n",
        "      rotation_range=40,\n",
        "      width_shift_range=0.2,\n",
        "      height_shift_range=0.2,\n",
        "      shear_range=0.2,\n",
        "      zoom_range=0.2,\n",
        "      horizontal_flip=True,\n",
        "      fill_mode='nearest')\n",
        "\n",
        "validation_datagen = ImageDataGenerator(rescale=1/255)\n",
        "\n",
        "# Flow training images in batches of 128 using train_datagen generator\n",
        "train_generator = train_datagen.flow_from_directory(\n",
        "        '/tmp/horse-or-human/',  # This is the source directory for training images\n",
        "        target_size=(300, 300),  # All images will be resized to 150x150\n",
        "        batch_size=128,\n",
        "        # Since we use binary_crossentropy loss, we need binary labels\n",
        "        class_mode='binary')\n",
        "\n",
        "# Flow training images in batches of 128 using train_datagen generator\n",
        "validation_generator = validation_datagen.flow_from_directory(\n",
        "        '/tmp/validation-horse-or-human/',  # This is the source directory for training images\n",
        "        target_size=(300, 300),  # All images will be resized to 150x150\n",
        "        batch_size=32,\n",
        "        # Since we use binary_crossentropy loss, we need binary labels\n",
        "        class_mode='binary')"
      ],
      "execution_count": 5,
      "outputs": [
        {
          "output_type": "stream",
          "text": [
            "Found 1027 images belonging to 2 classes.\n",
            "Found 256 images belonging to 2 classes.\n"
          ],
          "name": "stdout"
        }
      ]
    },
    {
      "cell_type": "code",
      "metadata": {
        "colab_type": "code",
        "id": "Fb1_lgobv81m",
        "colab": {
          "base_uri": "https://localhost:8080/",
          "height": 1000
        },
        "outputId": "70dcbb9d-5ca6-4cf5-9c8a-64af0164f03b"
      },
      "source": [
        "history = model.fit(\n",
        "      train_generator,\n",
        "      steps_per_epoch=8,  \n",
        "      epochs=100,\n",
        "      verbose=1,\n",
        "      validation_data = validation_generator,\n",
        "      validation_steps=8)"
      ],
      "execution_count": 0,
      "outputs": [
        {
          "output_type": "stream",
          "text": [
            "WARNING:tensorflow:From <ipython-input-6-a30881557ec3>:7: Model.fit_generator (from tensorflow.python.keras.engine.training) is deprecated and will be removed in a future version.\n",
            "Instructions for updating:\n",
            "Please use Model.fit, which supports generators.\n",
            "WARNING:tensorflow:sample_weight modes were coerced from\n",
            "  ...\n",
            "    to  \n",
            "  ['...']\n",
            "WARNING:tensorflow:sample_weight modes were coerced from\n",
            "  ...\n",
            "    to  \n",
            "  ['...']\n",
            "Train for 8 steps, validate for 8 steps\n",
            "Epoch 1/100\n",
            "8/8 [==============================] - 25s 3s/step - loss: 0.7918 - acc: 0.5017 - val_loss: 0.6832 - val_acc: 0.5000\n",
            "Epoch 2/100\n",
            "8/8 [==============================] - 22s 3s/step - loss: 0.6827 - acc: 0.5206 - val_loss: 0.6650 - val_acc: 0.6758\n",
            "Epoch 3/100\n",
            "8/8 [==============================] - 23s 3s/step - loss: 0.6351 - acc: 0.7141 - val_loss: 0.9123 - val_acc: 0.5000\n",
            "Epoch 4/100\n",
            "8/8 [==============================] - 25s 3s/step - loss: 0.5533 - acc: 0.7168 - val_loss: 1.0752 - val_acc: 0.5000\n",
            "Epoch 5/100\n",
            "8/8 [==============================] - 21s 3s/step - loss: 0.5230 - acc: 0.7019 - val_loss: 1.1054 - val_acc: 0.5000\n",
            "Epoch 6/100\n",
            "8/8 [==============================] - 23s 3s/step - loss: 0.5239 - acc: 0.7531 - val_loss: 1.0911 - val_acc: 0.5078\n",
            "Epoch 7/100\n",
            "8/8 [==============================] - 23s 3s/step - loss: 0.4455 - acc: 0.7875 - val_loss: 1.6660 - val_acc: 0.5078\n",
            "Epoch 8/100\n",
            "8/8 [==============================] - 23s 3s/step - loss: 0.4194 - acc: 0.8020 - val_loss: 1.3802 - val_acc: 0.5234\n",
            "Epoch 9/100\n",
            "8/8 [==============================] - 23s 3s/step - loss: 0.3854 - acc: 0.7976 - val_loss: 1.2018 - val_acc: 0.5391\n",
            "Epoch 10/100\n",
            "8/8 [==============================] - 23s 3s/step - loss: 0.3367 - acc: 0.8331 - val_loss: 3.3919 - val_acc: 0.5156\n",
            "Epoch 11/100\n",
            "8/8 [==============================] - 23s 3s/step - loss: 0.2438 - acc: 0.8732 - val_loss: 2.4210 - val_acc: 0.5820\n",
            "Epoch 12/100\n",
            "8/8 [==============================] - 23s 3s/step - loss: 0.4530 - acc: 0.7853 - val_loss: 0.6430 - val_acc: 0.5742\n",
            "Epoch 13/100\n",
            "8/8 [==============================] - 23s 3s/step - loss: 0.3849 - acc: 0.7875 - val_loss: 1.1005 - val_acc: 0.5273\n",
            "Epoch 14/100\n",
            "8/8 [==============================] - 23s 3s/step - loss: 0.3384 - acc: 0.8432 - val_loss: 1.4451 - val_acc: 0.5273\n",
            "Epoch 15/100\n",
            "8/8 [==============================] - 23s 3s/step - loss: 0.2583 - acc: 0.8776 - val_loss: 2.4756 - val_acc: 0.5273\n",
            "Epoch 16/100\n",
            "8/8 [==============================] - 23s 3s/step - loss: 0.1834 - acc: 0.9155 - val_loss: 1.8789 - val_acc: 0.5625\n",
            "Epoch 17/100\n",
            "8/8 [==============================] - 23s 3s/step - loss: 0.1304 - acc: 0.9455 - val_loss: 2.2567 - val_acc: 0.5508\n",
            "Epoch 18/100\n",
            "8/8 [==============================] - 23s 3s/step - loss: 0.1232 - acc: 0.9422 - val_loss: 3.2954 - val_acc: 0.5391\n",
            "Epoch 19/100\n",
            "8/8 [==============================] - 23s 3s/step - loss: 0.1600 - acc: 0.9344 - val_loss: 2.5533 - val_acc: 0.5547\n",
            "Epoch 20/100\n",
            "8/8 [==============================] - 23s 3s/step - loss: 0.1488 - acc: 0.9321 - val_loss: 1.3288 - val_acc: 0.6367\n",
            "Epoch 21/100\n",
            "8/8 [==============================] - 23s 3s/step - loss: 0.0946 - acc: 0.9666 - val_loss: 3.5654 - val_acc: 0.5742\n",
            "Epoch 22/100\n",
            "8/8 [==============================] - 25s 3s/step - loss: 0.1024 - acc: 0.9629 - val_loss: 4.5181 - val_acc: 0.5625\n",
            "Epoch 23/100\n",
            "8/8 [==============================] - 21s 3s/step - loss: 0.1087 - acc: 0.9511 - val_loss: 2.1175 - val_acc: 0.6328\n",
            "Epoch 24/100\n",
            "8/8 [==============================] - 23s 3s/step - loss: 0.1038 - acc: 0.9566 - val_loss: 2.1094 - val_acc: 0.6250\n",
            "Epoch 25/100\n",
            "8/8 [==============================] - 25s 3s/step - loss: 0.0831 - acc: 0.9766 - val_loss: 2.1331 - val_acc: 0.6523\n",
            "Epoch 26/100\n",
            "8/8 [==============================] - 23s 3s/step - loss: 0.0656 - acc: 0.9727 - val_loss: 3.6935 - val_acc: 0.6094\n",
            "Epoch 27/100\n",
            "8/8 [==============================] - 23s 3s/step - loss: 0.0485 - acc: 0.9844 - val_loss: 2.9561 - val_acc: 0.6172\n",
            "Epoch 28/100\n",
            "8/8 [==============================] - 21s 3s/step - loss: 0.0495 - acc: 0.9766 - val_loss: 2.3267 - val_acc: 0.6719\n",
            "Epoch 29/100\n",
            "8/8 [==============================] - 23s 3s/step - loss: 0.0550 - acc: 0.9822 - val_loss: 2.4475 - val_acc: 0.6484\n",
            "Epoch 30/100\n",
            "8/8 [==============================] - 23s 3s/step - loss: 0.0469 - acc: 0.9844 - val_loss: 3.4629 - val_acc: 0.6133\n",
            "Epoch 31/100\n",
            "8/8 [==============================] - 23s 3s/step - loss: 0.0578 - acc: 0.9789 - val_loss: 3.0046 - val_acc: 0.6055\n",
            "Epoch 32/100\n",
            "8/8 [==============================] - 23s 3s/step - loss: 0.0334 - acc: 0.9878 - val_loss: 3.1041 - val_acc: 0.6289\n",
            "Epoch 33/100\n",
            "8/8 [==============================] - 23s 3s/step - loss: 0.0384 - acc: 0.9867 - val_loss: 3.3863 - val_acc: 0.6133\n",
            "Epoch 34/100\n",
            "8/8 [==============================] - 23s 3s/step - loss: 0.0324 - acc: 0.9878 - val_loss: 2.8908 - val_acc: 0.6367\n",
            "Epoch 35/100\n",
            "8/8 [==============================] - 22s 3s/step - loss: 0.0181 - acc: 0.9933 - val_loss: 3.8549 - val_acc: 0.6133\n",
            "Epoch 36/100\n",
            "8/8 [==============================] - 22s 3s/step - loss: 0.0171 - acc: 0.9956 - val_loss: 3.5115 - val_acc: 0.6289\n",
            "Epoch 37/100\n",
            "8/8 [==============================] - 23s 3s/step - loss: 0.0300 - acc: 0.9878 - val_loss: 2.2842 - val_acc: 0.7188\n",
            "Epoch 38/100\n",
            "8/8 [==============================] - 22s 3s/step - loss: 0.0511 - acc: 0.9811 - val_loss: 0.9720 - val_acc: 0.7773\n",
            "Epoch 39/100\n",
            "8/8 [==============================] - 25s 3s/step - loss: 0.0522 - acc: 0.9844 - val_loss: 1.7752 - val_acc: 0.7109\n",
            "Epoch 40/100\n",
            "8/8 [==============================] - 21s 3s/step - loss: 0.0280 - acc: 0.9911 - val_loss: 2.7773 - val_acc: 0.6602\n",
            "Epoch 41/100\n",
            "8/8 [==============================] - 22s 3s/step - loss: 0.0178 - acc: 0.9944 - val_loss: 3.1891 - val_acc: 0.6523\n",
            "Epoch 42/100\n",
            "8/8 [==============================] - 23s 3s/step - loss: 0.0240 - acc: 0.9922 - val_loss: 2.5864 - val_acc: 0.6797\n",
            "Epoch 43/100\n",
            "8/8 [==============================] - 23s 3s/step - loss: 0.0212 - acc: 0.9911 - val_loss: 3.1725 - val_acc: 0.6602\n",
            "Epoch 44/100\n",
            "8/8 [==============================] - 23s 3s/step - loss: 0.0197 - acc: 0.9933 - val_loss: 2.2118 - val_acc: 0.7188\n",
            "Epoch 45/100\n",
            "8/8 [==============================] - 23s 3s/step - loss: 0.0183 - acc: 0.9911 - val_loss: 3.4621 - val_acc: 0.6719\n",
            "Epoch 46/100\n",
            "8/8 [==============================] - 23s 3s/step - loss: 0.0169 - acc: 0.9922 - val_loss: 2.1090 - val_acc: 0.7578\n",
            "Epoch 47/100\n",
            "8/8 [==============================] - 23s 3s/step - loss: 0.0285 - acc: 0.9867 - val_loss: 2.2361 - val_acc: 0.7305\n",
            "Epoch 48/100\n",
            "8/8 [==============================] - 23s 3s/step - loss: 0.0303 - acc: 0.9889 - val_loss: 2.8842 - val_acc: 0.6914\n",
            "Epoch 49/100\n",
            "8/8 [==============================] - 22s 3s/step - loss: 0.0293 - acc: 0.9867 - val_loss: 1.8590 - val_acc: 0.7227\n",
            "Epoch 50/100\n",
            "8/8 [==============================] - 23s 3s/step - loss: 0.0665 - acc: 0.9722 - val_loss: 3.1274 - val_acc: 0.6445\n",
            "Epoch 51/100\n",
            "8/8 [==============================] - 23s 3s/step - loss: 0.0643 - acc: 0.9755 - val_loss: 1.3244 - val_acc: 0.7773\n",
            "Epoch 52/100\n",
            "8/8 [==============================] - 22s 3s/step - loss: 0.0545 - acc: 0.9778 - val_loss: 2.0526 - val_acc: 0.7422\n",
            "Epoch 53/100\n",
            "8/8 [==============================] - 23s 3s/step - loss: 0.0252 - acc: 0.9889 - val_loss: 3.7194 - val_acc: 0.6328\n",
            "Epoch 54/100\n",
            "8/8 [==============================] - 23s 3s/step - loss: 0.0336 - acc: 0.9900 - val_loss: 3.3389 - val_acc: 0.6484\n",
            "Epoch 55/100\n",
            "8/8 [==============================] - 23s 3s/step - loss: 0.0148 - acc: 0.9956 - val_loss: 5.5405 - val_acc: 0.5977\n",
            "Epoch 56/100\n",
            "8/8 [==============================] - 23s 3s/step - loss: 0.0247 - acc: 0.9922 - val_loss: 4.3192 - val_acc: 0.6133\n",
            "Epoch 57/100\n",
            "8/8 [==============================] - 22s 3s/step - loss: 0.0205 - acc: 0.9933 - val_loss: 3.2329 - val_acc: 0.6562\n",
            "Epoch 58/100\n",
            "8/8 [==============================] - 23s 3s/step - loss: 0.0240 - acc: 0.9900 - val_loss: 3.8557 - val_acc: 0.6523\n",
            "Epoch 59/100\n",
            "8/8 [==============================] - 22s 3s/step - loss: 0.0251 - acc: 0.9911 - val_loss: 5.1302 - val_acc: 0.6094\n",
            "Epoch 60/100\n",
            "8/8 [==============================] - 25s 3s/step - loss: 0.0214 - acc: 0.9932 - val_loss: 3.6654 - val_acc: 0.6328\n",
            "Epoch 61/100\n",
            "8/8 [==============================] - 21s 3s/step - loss: 0.0145 - acc: 0.9956 - val_loss: 3.0921 - val_acc: 0.6719\n",
            "Epoch 62/100\n",
            "8/8 [==============================] - 22s 3s/step - loss: 0.0248 - acc: 0.9911 - val_loss: 3.7196 - val_acc: 0.6406\n",
            "Epoch 63/100\n",
            "8/8 [==============================] - 22s 3s/step - loss: 0.0118 - acc: 0.9978 - val_loss: 3.6294 - val_acc: 0.6445\n",
            "Epoch 64/100\n",
            "8/8 [==============================] - 22s 3s/step - loss: 0.0068 - acc: 0.9978 - val_loss: 5.6395 - val_acc: 0.5977\n",
            "Epoch 65/100\n",
            "8/8 [==============================] - 22s 3s/step - loss: 0.0246 - acc: 0.9900 - val_loss: 4.4969 - val_acc: 0.6016\n",
            "Epoch 66/100\n",
            "8/8 [==============================] - 22s 3s/step - loss: 0.0290 - acc: 0.9900 - val_loss: 3.0049 - val_acc: 0.6406\n",
            "Epoch 67/100\n",
            "8/8 [==============================] - 23s 3s/step - loss: 0.0199 - acc: 0.9911 - val_loss: 2.0585 - val_acc: 0.7266\n",
            "Epoch 68/100\n",
            "8/8 [==============================] - 22s 3s/step - loss: 0.0087 - acc: 0.9967 - val_loss: 4.0847 - val_acc: 0.6250\n",
            "Epoch 69/100\n",
            "8/8 [==============================] - 23s 3s/step - loss: 0.0058 - acc: 0.9989 - val_loss: 3.5580 - val_acc: 0.6523\n",
            "Epoch 70/100\n",
            "8/8 [==============================] - 23s 3s/step - loss: 0.0185 - acc: 0.9956 - val_loss: 4.1041 - val_acc: 0.6445\n",
            "Epoch 71/100\n",
            "8/8 [==============================] - 23s 3s/step - loss: 0.0156 - acc: 0.9911 - val_loss: 2.7423 - val_acc: 0.6914\n",
            "Epoch 72/100\n",
            "8/8 [==============================] - 23s 3s/step - loss: 0.0179 - acc: 0.9933 - val_loss: 3.0492 - val_acc: 0.6641\n",
            "Epoch 73/100\n",
            "8/8 [==============================] - 23s 3s/step - loss: 0.0537 - acc: 0.9766 - val_loss: 5.9521 - val_acc: 0.5625\n",
            "Epoch 74/100\n",
            "8/8 [==============================] - 23s 3s/step - loss: 0.1161 - acc: 0.9511 - val_loss: 2.5487 - val_acc: 0.6875\n",
            "Epoch 75/100\n",
            "8/8 [==============================] - 23s 3s/step - loss: 0.0724 - acc: 0.9711 - val_loss: 2.7731 - val_acc: 0.6641\n",
            "Epoch 76/100\n",
            "8/8 [==============================] - 22s 3s/step - loss: 0.0535 - acc: 0.9811 - val_loss: 3.2988 - val_acc: 0.6641\n",
            "Epoch 77/100\n",
            "8/8 [==============================] - 23s 3s/step - loss: 0.0294 - acc: 0.9855 - val_loss: 1.9381 - val_acc: 0.7734\n",
            "Epoch 78/100\n",
            "8/8 [==============================] - 39s 5s/step - loss: 0.0296 - acc: 0.9889 - val_loss: 3.0521 - val_acc: 0.7148\n",
            "Epoch 79/100\n"
          ],
          "name": "stdout"
        }
      ]
    },
    {
      "cell_type": "code",
      "metadata": {
        "id": "7zNPRWOVJdOH",
        "colab_type": "code",
        "colab": {}
      },
      "source": [
        "import matplotlib.pyplot as plt\n",
        "acc = history.history['acc']\n",
        "val_acc = history.history['val_acc']\n",
        "loss = history.history['loss']\n",
        "val_loss = history.history['val_loss']\n",
        "\n",
        "epochs = range(len(acc))\n",
        "\n",
        "plt.plot(epochs, acc, 'r', label='Training accuracy')\n",
        "plt.plot(epochs, val_acc, 'b', label='Validation accuracy')\n",
        "plt.title('Training and validation accuracy')\n",
        "\n",
        "plt.figure()\n",
        "\n",
        "plt.plot(epochs, loss, 'r', label='Training Loss')\n",
        "plt.plot(epochs, val_loss, 'b', label='Validation Loss')\n",
        "plt.title('Training and validation loss')\n",
        "plt.legend()\n",
        "\n",
        "plt.show()"
      ],
      "execution_count": 0,
      "outputs": []
    }
  ]
}